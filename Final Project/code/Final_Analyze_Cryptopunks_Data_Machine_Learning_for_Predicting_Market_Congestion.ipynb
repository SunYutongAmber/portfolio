{
  "nbformat": 4,
  "nbformat_minor": 0,
  "metadata": {
    "colab": {
      "provenance": [],
      "machine_shape": "hm",
      "include_colab_link": true
    },
    "kernelspec": {
      "name": "python3",
      "display_name": "Python 3"
    },
    "language_info": {
      "name": "python"
    },
    "gpuClass": "premium",
    "accelerator": "GPU"
  },
  "cells": [
    {
      "cell_type": "markdown",
      "metadata": {
        "id": "view-in-github",
        "colab_type": "text"
      },
      "source": [
        "<a href=\"https://colab.research.google.com/github/SunYutongAmber/portfolio/blob/main/Final%20Project/code/Final_Analyze_Cryptopunks_Data_Machine_Learning_for_Predicting_Market_Congestion.ipynb\" target=\"_parent\"><img src=\"https://colab.research.google.com/assets/colab-badge.svg\" alt=\"Open In Colab\"/></a>"
      ]
    },
    {
      "cell_type": "markdown",
      "source": [
        "**References**:\n",
        "\n",
        "\n",
        "*   Computing Platforms: Set up the Workspace for Machine Learning Projects.  https://ms.pubpub.org/pub/computing\n",
        "*  Machine Learning for Predictions. https://ms.pubpub.org/pub/ml-prediction\n",
        "* Machine Learning Packages: https://scikit-learn.org/stable/\n",
        "\n"
      ],
      "metadata": {
        "id": "QhnnO1neQM4u"
      }
    },
    {
      "cell_type": "markdown",
      "source": [
        "# Import and Inspect Data"
      ],
      "metadata": {
        "id": "5c_zbuzKrklB"
      }
    },
    {
      "cell_type": "markdown",
      "source": [
        "## import packages"
      ],
      "metadata": {
        "id": "X2DL-XqSKlSm"
      }
    },
    {
      "cell_type": "code",
      "execution_count": 173,
      "metadata": {
        "id": "1yLyEX2cpzjc"
      },
      "outputs": [],
      "source": [
        "import pandas as pd\n",
        "import numpy as np\n",
        "import random\n",
        "import matplotlib.pyplot as plt"
      ]
    },
    {
      "cell_type": "code",
      "source": [
        "plt.style.use('classic')\n",
        "random.seed(42)"
      ],
      "metadata": {
        "id": "zfiwRcaKp9XQ"
      },
      "execution_count": 174,
      "outputs": []
    },
    {
      "cell_type": "markdown",
      "source": [
        "## import train and test data for Classification"
      ],
      "metadata": {
        "id": "l9imKZjqKbfQ"
      }
    },
    {
      "cell_type": "code",
      "source": [
        "C_train = pd.read_csv(\"https://raw.githubusercontent.com/SunYutongAmber/portfolio/main/Final%20Project/data/Final_Classification_Train.csv\")\n",
        "C_test = pd.read_csv(\"https://raw.githubusercontent.com/SunYutongAmber/portfolio/main/Final%20Project/data/Final_Classification_Test.csv\")"
      ],
      "metadata": {
        "id": "AOYgQBQNqARR"
      },
      "execution_count": 175,
      "outputs": []
    },
    {
      "cell_type": "code",
      "source": [
        "C_train.isna().sum()"
      ],
      "metadata": {
        "colab": {
          "base_uri": "https://localhost:8080/"
        },
        "id": "h1eD1ljxrCoK",
        "outputId": "bfcfde16-4f90-4e0b-8b59-418fc9b57ebf"
      },
      "execution_count": 176,
      "outputs": [
        {
          "output_type": "execute_result",
          "data": {
            "text/plain": [
              "Unnamed: 0            0\n",
              "high_return           0\n",
              "ROI_past_average10    1\n",
              "dtype: int64"
            ]
          },
          "metadata": {},
          "execution_count": 176
        }
      ]
    },
    {
      "cell_type": "markdown",
      "source": [
        "## Drop nan for classification Data"
      ],
      "metadata": {
        "id": "LRLbQEPEKfmY"
      }
    },
    {
      "cell_type": "code",
      "source": [
        "C_train =C_train.dropna()"
      ],
      "metadata": {
        "id": "1BbadvAJrD_m"
      },
      "execution_count": 177,
      "outputs": []
    },
    {
      "cell_type": "code",
      "source": [
        "C_train.head()"
      ],
      "metadata": {
        "colab": {
          "base_uri": "https://localhost:8080/",
          "height": 206
        },
        "id": "dmcVh3m7KLer",
        "outputId": "99709ada-20ac-4e52-a495-4014a0ca1cbb"
      },
      "execution_count": 178,
      "outputs": [
        {
          "output_type": "execute_result",
          "data": {
            "text/plain": [
              "   Unnamed: 0  high_return  ROI_past_average10\n",
              "1           2            0            0.256252\n",
              "2           3            0           -0.015182\n",
              "3           4            1           -0.017117\n",
              "4           5            1            0.146998\n",
              "5           6            0            0.176230"
            ],
            "text/html": [
              "\n",
              "  <div id=\"df-120c11c1-663b-4343-96bd-1f17b4b01bd5\">\n",
              "    <div class=\"colab-df-container\">\n",
              "      <div>\n",
              "<style scoped>\n",
              "    .dataframe tbody tr th:only-of-type {\n",
              "        vertical-align: middle;\n",
              "    }\n",
              "\n",
              "    .dataframe tbody tr th {\n",
              "        vertical-align: top;\n",
              "    }\n",
              "\n",
              "    .dataframe thead th {\n",
              "        text-align: right;\n",
              "    }\n",
              "</style>\n",
              "<table border=\"1\" class=\"dataframe\">\n",
              "  <thead>\n",
              "    <tr style=\"text-align: right;\">\n",
              "      <th></th>\n",
              "      <th>Unnamed: 0</th>\n",
              "      <th>high_return</th>\n",
              "      <th>ROI_past_average10</th>\n",
              "    </tr>\n",
              "  </thead>\n",
              "  <tbody>\n",
              "    <tr>\n",
              "      <th>1</th>\n",
              "      <td>2</td>\n",
              "      <td>0</td>\n",
              "      <td>0.256252</td>\n",
              "    </tr>\n",
              "    <tr>\n",
              "      <th>2</th>\n",
              "      <td>3</td>\n",
              "      <td>0</td>\n",
              "      <td>-0.015182</td>\n",
              "    </tr>\n",
              "    <tr>\n",
              "      <th>3</th>\n",
              "      <td>4</td>\n",
              "      <td>1</td>\n",
              "      <td>-0.017117</td>\n",
              "    </tr>\n",
              "    <tr>\n",
              "      <th>4</th>\n",
              "      <td>5</td>\n",
              "      <td>1</td>\n",
              "      <td>0.146998</td>\n",
              "    </tr>\n",
              "    <tr>\n",
              "      <th>5</th>\n",
              "      <td>6</td>\n",
              "      <td>0</td>\n",
              "      <td>0.176230</td>\n",
              "    </tr>\n",
              "  </tbody>\n",
              "</table>\n",
              "</div>\n",
              "      <button class=\"colab-df-convert\" onclick=\"convertToInteractive('df-120c11c1-663b-4343-96bd-1f17b4b01bd5')\"\n",
              "              title=\"Convert this dataframe to an interactive table.\"\n",
              "              style=\"display:none;\">\n",
              "        \n",
              "  <svg xmlns=\"http://www.w3.org/2000/svg\" height=\"24px\"viewBox=\"0 0 24 24\"\n",
              "       width=\"24px\">\n",
              "    <path d=\"M0 0h24v24H0V0z\" fill=\"none\"/>\n",
              "    <path d=\"M18.56 5.44l.94 2.06.94-2.06 2.06-.94-2.06-.94-.94-2.06-.94 2.06-2.06.94zm-11 1L8.5 8.5l.94-2.06 2.06-.94-2.06-.94L8.5 2.5l-.94 2.06-2.06.94zm10 10l.94 2.06.94-2.06 2.06-.94-2.06-.94-.94-2.06-.94 2.06-2.06.94z\"/><path d=\"M17.41 7.96l-1.37-1.37c-.4-.4-.92-.59-1.43-.59-.52 0-1.04.2-1.43.59L10.3 9.45l-7.72 7.72c-.78.78-.78 2.05 0 2.83L4 21.41c.39.39.9.59 1.41.59.51 0 1.02-.2 1.41-.59l7.78-7.78 2.81-2.81c.8-.78.8-2.07 0-2.86zM5.41 20L4 18.59l7.72-7.72 1.47 1.35L5.41 20z\"/>\n",
              "  </svg>\n",
              "      </button>\n",
              "      \n",
              "  <style>\n",
              "    .colab-df-container {\n",
              "      display:flex;\n",
              "      flex-wrap:wrap;\n",
              "      gap: 12px;\n",
              "    }\n",
              "\n",
              "    .colab-df-convert {\n",
              "      background-color: #E8F0FE;\n",
              "      border: none;\n",
              "      border-radius: 50%;\n",
              "      cursor: pointer;\n",
              "      display: none;\n",
              "      fill: #1967D2;\n",
              "      height: 32px;\n",
              "      padding: 0 0 0 0;\n",
              "      width: 32px;\n",
              "    }\n",
              "\n",
              "    .colab-df-convert:hover {\n",
              "      background-color: #E2EBFA;\n",
              "      box-shadow: 0px 1px 2px rgba(60, 64, 67, 0.3), 0px 1px 3px 1px rgba(60, 64, 67, 0.15);\n",
              "      fill: #174EA6;\n",
              "    }\n",
              "\n",
              "    [theme=dark] .colab-df-convert {\n",
              "      background-color: #3B4455;\n",
              "      fill: #D2E3FC;\n",
              "    }\n",
              "\n",
              "    [theme=dark] .colab-df-convert:hover {\n",
              "      background-color: #434B5C;\n",
              "      box-shadow: 0px 1px 3px 1px rgba(0, 0, 0, 0.15);\n",
              "      filter: drop-shadow(0px 1px 2px rgba(0, 0, 0, 0.3));\n",
              "      fill: #FFFFFF;\n",
              "    }\n",
              "  </style>\n",
              "\n",
              "      <script>\n",
              "        const buttonEl =\n",
              "          document.querySelector('#df-120c11c1-663b-4343-96bd-1f17b4b01bd5 button.colab-df-convert');\n",
              "        buttonEl.style.display =\n",
              "          google.colab.kernel.accessAllowed ? 'block' : 'none';\n",
              "\n",
              "        async function convertToInteractive(key) {\n",
              "          const element = document.querySelector('#df-120c11c1-663b-4343-96bd-1f17b4b01bd5');\n",
              "          const dataTable =\n",
              "            await google.colab.kernel.invokeFunction('convertToInteractive',\n",
              "                                                     [key], {});\n",
              "          if (!dataTable) return;\n",
              "\n",
              "          const docLinkHtml = 'Like what you see? Visit the ' +\n",
              "            '<a target=\"_blank\" href=https://colab.research.google.com/notebooks/data_table.ipynb>data table notebook</a>'\n",
              "            + ' to learn more about interactive tables.';\n",
              "          element.innerHTML = '';\n",
              "          dataTable['output_type'] = 'display_data';\n",
              "          await google.colab.output.renderOutput(dataTable, element);\n",
              "          const docLink = document.createElement('div');\n",
              "          docLink.innerHTML = docLinkHtml;\n",
              "          element.appendChild(docLink);\n",
              "        }\n",
              "      </script>\n",
              "    </div>\n",
              "  </div>\n",
              "  "
            ]
          },
          "metadata": {},
          "execution_count": 178
        }
      ]
    },
    {
      "cell_type": "code",
      "source": [
        "C_test.isna().sum()"
      ],
      "metadata": {
        "colab": {
          "base_uri": "https://localhost:8080/"
        },
        "id": "HPBJFY6-KNOg",
        "outputId": "3323ab41-d2b9-4717-cc2b-b2c20f5b5084"
      },
      "execution_count": 179,
      "outputs": [
        {
          "output_type": "execute_result",
          "data": {
            "text/plain": [
              "Unnamed: 0            0\n",
              "high_return           0\n",
              "ROI_past_average10    0\n",
              "dtype: int64"
            ]
          },
          "metadata": {},
          "execution_count": 179
        }
      ]
    },
    {
      "cell_type": "markdown",
      "source": [
        "## import train and test data for Regression"
      ],
      "metadata": {
        "id": "n3NJX3N8KXMy"
      }
    },
    {
      "cell_type": "code",
      "source": [
        "R_train = pd.read_csv(\"https://raw.githubusercontent.com/SunYutongAmber/portfolio/main/Final%20Project/data/Final_Regression_Train_Cryptopunks.csv\")\n",
        "R_test = pd.read_csv(\"https://raw.githubusercontent.com/SunYutongAmber/portfolio/main/Final%20Project/data/Final_Regression_Test_Cryptopunks.csv\")"
      ],
      "metadata": {
        "id": "8Ylxg4cQGbf8"
      },
      "execution_count": 180,
      "outputs": []
    },
    {
      "cell_type": "markdown",
      "source": [
        "## drop nan for Regression Data"
      ],
      "metadata": {
        "id": "WAwsuriLKTHU"
      }
    },
    {
      "cell_type": "code",
      "source": [
        "R_train.isna().sum()"
      ],
      "metadata": {
        "colab": {
          "base_uri": "https://localhost:8080/"
        },
        "id": "DtOp9OFEIt3O",
        "outputId": "97716a7a-be42-479c-dfde-a4873009710c"
      },
      "execution_count": 181,
      "outputs": [
        {
          "output_type": "execute_result",
          "data": {
            "text/plain": [
              "Unnamed: 0            0\n",
              "ROI                   0\n",
              "ROI_past_average10    1\n",
              "dtype: int64"
            ]
          },
          "metadata": {},
          "execution_count": 181
        }
      ]
    },
    {
      "cell_type": "code",
      "source": [
        "R_train=R_train.dropna()"
      ],
      "metadata": {
        "id": "riCQic-uJNK1"
      },
      "execution_count": 182,
      "outputs": []
    },
    {
      "cell_type": "code",
      "source": [
        "R_test.isna().sum()"
      ],
      "metadata": {
        "colab": {
          "base_uri": "https://localhost:8080/"
        },
        "id": "WVCj8DzXJQ8V",
        "outputId": "702108ac-19f8-4a2d-d003-f53e1b2677c3"
      },
      "execution_count": 183,
      "outputs": [
        {
          "output_type": "execute_result",
          "data": {
            "text/plain": [
              "Unnamed: 0            0\n",
              "ROI                   0\n",
              "ROI_past_average10    0\n",
              "dtype: int64"
            ]
          },
          "metadata": {},
          "execution_count": 183
        }
      ]
    },
    {
      "cell_type": "code",
      "source": [
        "R_train.head()"
      ],
      "metadata": {
        "colab": {
          "base_uri": "https://localhost:8080/",
          "height": 206
        },
        "id": "DDoXkqbpG4Zg",
        "outputId": "c9d12527-14d9-479b-a652-11dab8bdb552"
      },
      "execution_count": 184,
      "outputs": [
        {
          "output_type": "execute_result",
          "data": {
            "text/plain": [
              "   Unnamed: 0       ROI  ROI_past_average10\n",
              "1           2 -0.286615            0.256252\n",
              "2           3 -0.020988           -0.015182\n",
              "3           4  0.639344           -0.017117\n",
              "4           5  0.293158            0.146998\n",
              "5           6 -0.343799            0.176230"
            ],
            "text/html": [
              "\n",
              "  <div id=\"df-4045f8ff-f029-4958-bc20-71a1fffaf525\">\n",
              "    <div class=\"colab-df-container\">\n",
              "      <div>\n",
              "<style scoped>\n",
              "    .dataframe tbody tr th:only-of-type {\n",
              "        vertical-align: middle;\n",
              "    }\n",
              "\n",
              "    .dataframe tbody tr th {\n",
              "        vertical-align: top;\n",
              "    }\n",
              "\n",
              "    .dataframe thead th {\n",
              "        text-align: right;\n",
              "    }\n",
              "</style>\n",
              "<table border=\"1\" class=\"dataframe\">\n",
              "  <thead>\n",
              "    <tr style=\"text-align: right;\">\n",
              "      <th></th>\n",
              "      <th>Unnamed: 0</th>\n",
              "      <th>ROI</th>\n",
              "      <th>ROI_past_average10</th>\n",
              "    </tr>\n",
              "  </thead>\n",
              "  <tbody>\n",
              "    <tr>\n",
              "      <th>1</th>\n",
              "      <td>2</td>\n",
              "      <td>-0.286615</td>\n",
              "      <td>0.256252</td>\n",
              "    </tr>\n",
              "    <tr>\n",
              "      <th>2</th>\n",
              "      <td>3</td>\n",
              "      <td>-0.020988</td>\n",
              "      <td>-0.015182</td>\n",
              "    </tr>\n",
              "    <tr>\n",
              "      <th>3</th>\n",
              "      <td>4</td>\n",
              "      <td>0.639344</td>\n",
              "      <td>-0.017117</td>\n",
              "    </tr>\n",
              "    <tr>\n",
              "      <th>4</th>\n",
              "      <td>5</td>\n",
              "      <td>0.293158</td>\n",
              "      <td>0.146998</td>\n",
              "    </tr>\n",
              "    <tr>\n",
              "      <th>5</th>\n",
              "      <td>6</td>\n",
              "      <td>-0.343799</td>\n",
              "      <td>0.176230</td>\n",
              "    </tr>\n",
              "  </tbody>\n",
              "</table>\n",
              "</div>\n",
              "      <button class=\"colab-df-convert\" onclick=\"convertToInteractive('df-4045f8ff-f029-4958-bc20-71a1fffaf525')\"\n",
              "              title=\"Convert this dataframe to an interactive table.\"\n",
              "              style=\"display:none;\">\n",
              "        \n",
              "  <svg xmlns=\"http://www.w3.org/2000/svg\" height=\"24px\"viewBox=\"0 0 24 24\"\n",
              "       width=\"24px\">\n",
              "    <path d=\"M0 0h24v24H0V0z\" fill=\"none\"/>\n",
              "    <path d=\"M18.56 5.44l.94 2.06.94-2.06 2.06-.94-2.06-.94-.94-2.06-.94 2.06-2.06.94zm-11 1L8.5 8.5l.94-2.06 2.06-.94-2.06-.94L8.5 2.5l-.94 2.06-2.06.94zm10 10l.94 2.06.94-2.06 2.06-.94-2.06-.94-.94-2.06-.94 2.06-2.06.94z\"/><path d=\"M17.41 7.96l-1.37-1.37c-.4-.4-.92-.59-1.43-.59-.52 0-1.04.2-1.43.59L10.3 9.45l-7.72 7.72c-.78.78-.78 2.05 0 2.83L4 21.41c.39.39.9.59 1.41.59.51 0 1.02-.2 1.41-.59l7.78-7.78 2.81-2.81c.8-.78.8-2.07 0-2.86zM5.41 20L4 18.59l7.72-7.72 1.47 1.35L5.41 20z\"/>\n",
              "  </svg>\n",
              "      </button>\n",
              "      \n",
              "  <style>\n",
              "    .colab-df-container {\n",
              "      display:flex;\n",
              "      flex-wrap:wrap;\n",
              "      gap: 12px;\n",
              "    }\n",
              "\n",
              "    .colab-df-convert {\n",
              "      background-color: #E8F0FE;\n",
              "      border: none;\n",
              "      border-radius: 50%;\n",
              "      cursor: pointer;\n",
              "      display: none;\n",
              "      fill: #1967D2;\n",
              "      height: 32px;\n",
              "      padding: 0 0 0 0;\n",
              "      width: 32px;\n",
              "    }\n",
              "\n",
              "    .colab-df-convert:hover {\n",
              "      background-color: #E2EBFA;\n",
              "      box-shadow: 0px 1px 2px rgba(60, 64, 67, 0.3), 0px 1px 3px 1px rgba(60, 64, 67, 0.15);\n",
              "      fill: #174EA6;\n",
              "    }\n",
              "\n",
              "    [theme=dark] .colab-df-convert {\n",
              "      background-color: #3B4455;\n",
              "      fill: #D2E3FC;\n",
              "    }\n",
              "\n",
              "    [theme=dark] .colab-df-convert:hover {\n",
              "      background-color: #434B5C;\n",
              "      box-shadow: 0px 1px 3px 1px rgba(0, 0, 0, 0.15);\n",
              "      filter: drop-shadow(0px 1px 2px rgba(0, 0, 0, 0.3));\n",
              "      fill: #FFFFFF;\n",
              "    }\n",
              "  </style>\n",
              "\n",
              "      <script>\n",
              "        const buttonEl =\n",
              "          document.querySelector('#df-4045f8ff-f029-4958-bc20-71a1fffaf525 button.colab-df-convert');\n",
              "        buttonEl.style.display =\n",
              "          google.colab.kernel.accessAllowed ? 'block' : 'none';\n",
              "\n",
              "        async function convertToInteractive(key) {\n",
              "          const element = document.querySelector('#df-4045f8ff-f029-4958-bc20-71a1fffaf525');\n",
              "          const dataTable =\n",
              "            await google.colab.kernel.invokeFunction('convertToInteractive',\n",
              "                                                     [key], {});\n",
              "          if (!dataTable) return;\n",
              "\n",
              "          const docLinkHtml = 'Like what you see? Visit the ' +\n",
              "            '<a target=\"_blank\" href=https://colab.research.google.com/notebooks/data_table.ipynb>data table notebook</a>'\n",
              "            + ' to learn more about interactive tables.';\n",
              "          element.innerHTML = '';\n",
              "          dataTable['output_type'] = 'display_data';\n",
              "          await google.colab.output.renderOutput(dataTable, element);\n",
              "          const docLink = document.createElement('div');\n",
              "          docLink.innerHTML = docLinkHtml;\n",
              "          element.appendChild(docLink);\n",
              "        }\n",
              "      </script>\n",
              "    </div>\n",
              "  </div>\n",
              "  "
            ]
          },
          "metadata": {},
          "execution_count": 184
        }
      ]
    },
    {
      "cell_type": "code",
      "source": [
        "R_test.head()"
      ],
      "metadata": {
        "colab": {
          "base_uri": "https://localhost:8080/",
          "height": 206
        },
        "id": "LIkJD83AG63N",
        "outputId": "2f23e3d0-4ae0-428c-d668-84a9db9aabe7"
      },
      "execution_count": 185,
      "outputs": [
        {
          "output_type": "execute_result",
          "data": {
            "text/plain": [
              "   Unnamed: 0       ROI  ROI_past_average10\n",
              "0         918 -0.319668            0.227745\n",
              "1         919 -0.451086            0.193472\n",
              "2         920  0.331667            0.192793\n",
              "3         921  4.125766            0.210238\n",
              "4         922 -0.635588            0.611775"
            ],
            "text/html": [
              "\n",
              "  <div id=\"df-02305e70-e993-4739-bc7a-f109dfcfc4cf\">\n",
              "    <div class=\"colab-df-container\">\n",
              "      <div>\n",
              "<style scoped>\n",
              "    .dataframe tbody tr th:only-of-type {\n",
              "        vertical-align: middle;\n",
              "    }\n",
              "\n",
              "    .dataframe tbody tr th {\n",
              "        vertical-align: top;\n",
              "    }\n",
              "\n",
              "    .dataframe thead th {\n",
              "        text-align: right;\n",
              "    }\n",
              "</style>\n",
              "<table border=\"1\" class=\"dataframe\">\n",
              "  <thead>\n",
              "    <tr style=\"text-align: right;\">\n",
              "      <th></th>\n",
              "      <th>Unnamed: 0</th>\n",
              "      <th>ROI</th>\n",
              "      <th>ROI_past_average10</th>\n",
              "    </tr>\n",
              "  </thead>\n",
              "  <tbody>\n",
              "    <tr>\n",
              "      <th>0</th>\n",
              "      <td>918</td>\n",
              "      <td>-0.319668</td>\n",
              "      <td>0.227745</td>\n",
              "    </tr>\n",
              "    <tr>\n",
              "      <th>1</th>\n",
              "      <td>919</td>\n",
              "      <td>-0.451086</td>\n",
              "      <td>0.193472</td>\n",
              "    </tr>\n",
              "    <tr>\n",
              "      <th>2</th>\n",
              "      <td>920</td>\n",
              "      <td>0.331667</td>\n",
              "      <td>0.192793</td>\n",
              "    </tr>\n",
              "    <tr>\n",
              "      <th>3</th>\n",
              "      <td>921</td>\n",
              "      <td>4.125766</td>\n",
              "      <td>0.210238</td>\n",
              "    </tr>\n",
              "    <tr>\n",
              "      <th>4</th>\n",
              "      <td>922</td>\n",
              "      <td>-0.635588</td>\n",
              "      <td>0.611775</td>\n",
              "    </tr>\n",
              "  </tbody>\n",
              "</table>\n",
              "</div>\n",
              "      <button class=\"colab-df-convert\" onclick=\"convertToInteractive('df-02305e70-e993-4739-bc7a-f109dfcfc4cf')\"\n",
              "              title=\"Convert this dataframe to an interactive table.\"\n",
              "              style=\"display:none;\">\n",
              "        \n",
              "  <svg xmlns=\"http://www.w3.org/2000/svg\" height=\"24px\"viewBox=\"0 0 24 24\"\n",
              "       width=\"24px\">\n",
              "    <path d=\"M0 0h24v24H0V0z\" fill=\"none\"/>\n",
              "    <path d=\"M18.56 5.44l.94 2.06.94-2.06 2.06-.94-2.06-.94-.94-2.06-.94 2.06-2.06.94zm-11 1L8.5 8.5l.94-2.06 2.06-.94-2.06-.94L8.5 2.5l-.94 2.06-2.06.94zm10 10l.94 2.06.94-2.06 2.06-.94-2.06-.94-.94-2.06-.94 2.06-2.06.94z\"/><path d=\"M17.41 7.96l-1.37-1.37c-.4-.4-.92-.59-1.43-.59-.52 0-1.04.2-1.43.59L10.3 9.45l-7.72 7.72c-.78.78-.78 2.05 0 2.83L4 21.41c.39.39.9.59 1.41.59.51 0 1.02-.2 1.41-.59l7.78-7.78 2.81-2.81c.8-.78.8-2.07 0-2.86zM5.41 20L4 18.59l7.72-7.72 1.47 1.35L5.41 20z\"/>\n",
              "  </svg>\n",
              "      </button>\n",
              "      \n",
              "  <style>\n",
              "    .colab-df-container {\n",
              "      display:flex;\n",
              "      flex-wrap:wrap;\n",
              "      gap: 12px;\n",
              "    }\n",
              "\n",
              "    .colab-df-convert {\n",
              "      background-color: #E8F0FE;\n",
              "      border: none;\n",
              "      border-radius: 50%;\n",
              "      cursor: pointer;\n",
              "      display: none;\n",
              "      fill: #1967D2;\n",
              "      height: 32px;\n",
              "      padding: 0 0 0 0;\n",
              "      width: 32px;\n",
              "    }\n",
              "\n",
              "    .colab-df-convert:hover {\n",
              "      background-color: #E2EBFA;\n",
              "      box-shadow: 0px 1px 2px rgba(60, 64, 67, 0.3), 0px 1px 3px 1px rgba(60, 64, 67, 0.15);\n",
              "      fill: #174EA6;\n",
              "    }\n",
              "\n",
              "    [theme=dark] .colab-df-convert {\n",
              "      background-color: #3B4455;\n",
              "      fill: #D2E3FC;\n",
              "    }\n",
              "\n",
              "    [theme=dark] .colab-df-convert:hover {\n",
              "      background-color: #434B5C;\n",
              "      box-shadow: 0px 1px 3px 1px rgba(0, 0, 0, 0.15);\n",
              "      filter: drop-shadow(0px 1px 2px rgba(0, 0, 0, 0.3));\n",
              "      fill: #FFFFFF;\n",
              "    }\n",
              "  </style>\n",
              "\n",
              "      <script>\n",
              "        const buttonEl =\n",
              "          document.querySelector('#df-02305e70-e993-4739-bc7a-f109dfcfc4cf button.colab-df-convert');\n",
              "        buttonEl.style.display =\n",
              "          google.colab.kernel.accessAllowed ? 'block' : 'none';\n",
              "\n",
              "        async function convertToInteractive(key) {\n",
              "          const element = document.querySelector('#df-02305e70-e993-4739-bc7a-f109dfcfc4cf');\n",
              "          const dataTable =\n",
              "            await google.colab.kernel.invokeFunction('convertToInteractive',\n",
              "                                                     [key], {});\n",
              "          if (!dataTable) return;\n",
              "\n",
              "          const docLinkHtml = 'Like what you see? Visit the ' +\n",
              "            '<a target=\"_blank\" href=https://colab.research.google.com/notebooks/data_table.ipynb>data table notebook</a>'\n",
              "            + ' to learn more about interactive tables.';\n",
              "          element.innerHTML = '';\n",
              "          dataTable['output_type'] = 'display_data';\n",
              "          await google.colab.output.renderOutput(dataTable, element);\n",
              "          const docLink = document.createElement('div');\n",
              "          docLink.innerHTML = docLinkHtml;\n",
              "          element.appendChild(docLink);\n",
              "        }\n",
              "      </script>\n",
              "    </div>\n",
              "  </div>\n",
              "  "
            ]
          },
          "metadata": {},
          "execution_count": 185
        }
      ]
    },
    {
      "cell_type": "markdown",
      "source": [
        "# Machine Learning Classifier"
      ],
      "metadata": {
        "id": "wZk_s_IXcXTg"
      }
    },
    {
      "cell_type": "markdown",
      "source": [
        "references:\n",
        "\n",
        "\n",
        "*   classification report: https://scikit-learn.org/stable/modules/generated/sklearn.metrics.classification_report.html\n",
        "\n",
        "*   confusion matrix: https://scikit-learn.org/stable/modules/generated/sklearn.metrics.confusion_matrix.html\n",
        "\n",
        "\n",
        "*   ROC AUC: \n",
        " * https://developers.google.com/machine-learning/crash-course/classification/check-your-understanding-roc-and-auc\n",
        " * https://scikit-learn.org/stable/modules/generated/sklearn.metrics.roc_curve.html\n",
        "  * https://youtu.be/4jRBRDbJemM\n",
        "\n",
        "\n",
        "\n"
      ],
      "metadata": {
        "id": "S3ysbpu-MPG5"
      }
    },
    {
      "cell_type": "markdown",
      "source": [
        "## Define the Train and Test (X,y)\n"
      ],
      "metadata": {
        "id": "zgRXrLRYhMT5"
      }
    },
    {
      "cell_type": "code",
      "source": [
        "C_train.head()"
      ],
      "metadata": {
        "colab": {
          "base_uri": "https://localhost:8080/",
          "height": 206
        },
        "id": "s9ZAMenXJzJQ",
        "outputId": "9506fc63-9e9b-438c-8e02-d56753134c50"
      },
      "execution_count": 186,
      "outputs": [
        {
          "output_type": "execute_result",
          "data": {
            "text/plain": [
              "   Unnamed: 0  high_return  ROI_past_average10\n",
              "1           2            0            0.256252\n",
              "2           3            0           -0.015182\n",
              "3           4            1           -0.017117\n",
              "4           5            1            0.146998\n",
              "5           6            0            0.176230"
            ],
            "text/html": [
              "\n",
              "  <div id=\"df-d1fe1057-291c-4e19-be94-fe107b6a2301\">\n",
              "    <div class=\"colab-df-container\">\n",
              "      <div>\n",
              "<style scoped>\n",
              "    .dataframe tbody tr th:only-of-type {\n",
              "        vertical-align: middle;\n",
              "    }\n",
              "\n",
              "    .dataframe tbody tr th {\n",
              "        vertical-align: top;\n",
              "    }\n",
              "\n",
              "    .dataframe thead th {\n",
              "        text-align: right;\n",
              "    }\n",
              "</style>\n",
              "<table border=\"1\" class=\"dataframe\">\n",
              "  <thead>\n",
              "    <tr style=\"text-align: right;\">\n",
              "      <th></th>\n",
              "      <th>Unnamed: 0</th>\n",
              "      <th>high_return</th>\n",
              "      <th>ROI_past_average10</th>\n",
              "    </tr>\n",
              "  </thead>\n",
              "  <tbody>\n",
              "    <tr>\n",
              "      <th>1</th>\n",
              "      <td>2</td>\n",
              "      <td>0</td>\n",
              "      <td>0.256252</td>\n",
              "    </tr>\n",
              "    <tr>\n",
              "      <th>2</th>\n",
              "      <td>3</td>\n",
              "      <td>0</td>\n",
              "      <td>-0.015182</td>\n",
              "    </tr>\n",
              "    <tr>\n",
              "      <th>3</th>\n",
              "      <td>4</td>\n",
              "      <td>1</td>\n",
              "      <td>-0.017117</td>\n",
              "    </tr>\n",
              "    <tr>\n",
              "      <th>4</th>\n",
              "      <td>5</td>\n",
              "      <td>1</td>\n",
              "      <td>0.146998</td>\n",
              "    </tr>\n",
              "    <tr>\n",
              "      <th>5</th>\n",
              "      <td>6</td>\n",
              "      <td>0</td>\n",
              "      <td>0.176230</td>\n",
              "    </tr>\n",
              "  </tbody>\n",
              "</table>\n",
              "</div>\n",
              "      <button class=\"colab-df-convert\" onclick=\"convertToInteractive('df-d1fe1057-291c-4e19-be94-fe107b6a2301')\"\n",
              "              title=\"Convert this dataframe to an interactive table.\"\n",
              "              style=\"display:none;\">\n",
              "        \n",
              "  <svg xmlns=\"http://www.w3.org/2000/svg\" height=\"24px\"viewBox=\"0 0 24 24\"\n",
              "       width=\"24px\">\n",
              "    <path d=\"M0 0h24v24H0V0z\" fill=\"none\"/>\n",
              "    <path d=\"M18.56 5.44l.94 2.06.94-2.06 2.06-.94-2.06-.94-.94-2.06-.94 2.06-2.06.94zm-11 1L8.5 8.5l.94-2.06 2.06-.94-2.06-.94L8.5 2.5l-.94 2.06-2.06.94zm10 10l.94 2.06.94-2.06 2.06-.94-2.06-.94-.94-2.06-.94 2.06-2.06.94z\"/><path d=\"M17.41 7.96l-1.37-1.37c-.4-.4-.92-.59-1.43-.59-.52 0-1.04.2-1.43.59L10.3 9.45l-7.72 7.72c-.78.78-.78 2.05 0 2.83L4 21.41c.39.39.9.59 1.41.59.51 0 1.02-.2 1.41-.59l7.78-7.78 2.81-2.81c.8-.78.8-2.07 0-2.86zM5.41 20L4 18.59l7.72-7.72 1.47 1.35L5.41 20z\"/>\n",
              "  </svg>\n",
              "      </button>\n",
              "      \n",
              "  <style>\n",
              "    .colab-df-container {\n",
              "      display:flex;\n",
              "      flex-wrap:wrap;\n",
              "      gap: 12px;\n",
              "    }\n",
              "\n",
              "    .colab-df-convert {\n",
              "      background-color: #E8F0FE;\n",
              "      border: none;\n",
              "      border-radius: 50%;\n",
              "      cursor: pointer;\n",
              "      display: none;\n",
              "      fill: #1967D2;\n",
              "      height: 32px;\n",
              "      padding: 0 0 0 0;\n",
              "      width: 32px;\n",
              "    }\n",
              "\n",
              "    .colab-df-convert:hover {\n",
              "      background-color: #E2EBFA;\n",
              "      box-shadow: 0px 1px 2px rgba(60, 64, 67, 0.3), 0px 1px 3px 1px rgba(60, 64, 67, 0.15);\n",
              "      fill: #174EA6;\n",
              "    }\n",
              "\n",
              "    [theme=dark] .colab-df-convert {\n",
              "      background-color: #3B4455;\n",
              "      fill: #D2E3FC;\n",
              "    }\n",
              "\n",
              "    [theme=dark] .colab-df-convert:hover {\n",
              "      background-color: #434B5C;\n",
              "      box-shadow: 0px 1px 3px 1px rgba(0, 0, 0, 0.15);\n",
              "      filter: drop-shadow(0px 1px 2px rgba(0, 0, 0, 0.3));\n",
              "      fill: #FFFFFF;\n",
              "    }\n",
              "  </style>\n",
              "\n",
              "      <script>\n",
              "        const buttonEl =\n",
              "          document.querySelector('#df-d1fe1057-291c-4e19-be94-fe107b6a2301 button.colab-df-convert');\n",
              "        buttonEl.style.display =\n",
              "          google.colab.kernel.accessAllowed ? 'block' : 'none';\n",
              "\n",
              "        async function convertToInteractive(key) {\n",
              "          const element = document.querySelector('#df-d1fe1057-291c-4e19-be94-fe107b6a2301');\n",
              "          const dataTable =\n",
              "            await google.colab.kernel.invokeFunction('convertToInteractive',\n",
              "                                                     [key], {});\n",
              "          if (!dataTable) return;\n",
              "\n",
              "          const docLinkHtml = 'Like what you see? Visit the ' +\n",
              "            '<a target=\"_blank\" href=https://colab.research.google.com/notebooks/data_table.ipynb>data table notebook</a>'\n",
              "            + ' to learn more about interactive tables.';\n",
              "          element.innerHTML = '';\n",
              "          dataTable['output_type'] = 'display_data';\n",
              "          await google.colab.output.renderOutput(dataTable, element);\n",
              "          const docLink = document.createElement('div');\n",
              "          docLink.innerHTML = docLinkHtml;\n",
              "          element.appendChild(docLink);\n",
              "        }\n",
              "      </script>\n",
              "    </div>\n",
              "  </div>\n",
              "  "
            ]
          },
          "metadata": {},
          "execution_count": 186
        }
      ]
    },
    {
      "cell_type": "code",
      "source": [
        "X_train = pd.DataFrame(np.array(C_train['ROI_past_average10']).astype(float).reshape(-1,1))\n",
        "y_train = pd.DataFrame(C_train['high_return'].astype(int))"
      ],
      "metadata": {
        "id": "W60rdzSnJ1kt"
      },
      "execution_count": 187,
      "outputs": []
    },
    {
      "cell_type": "code",
      "source": [
        "C_test.head()"
      ],
      "metadata": {
        "colab": {
          "base_uri": "https://localhost:8080/",
          "height": 206
        },
        "id": "gW544snWKCGP",
        "outputId": "f8d189f9-4914-4589-bab1-5946c43b292f"
      },
      "execution_count": 188,
      "outputs": [
        {
          "output_type": "execute_result",
          "data": {
            "text/plain": [
              "   Unnamed: 0  high_return  ROI_past_average10\n",
              "0         918            0            0.227745\n",
              "1         919            0            0.193472\n",
              "2         920            1            0.192793\n",
              "3         921            1            0.210238\n",
              "4         922            0            0.611775"
            ],
            "text/html": [
              "\n",
              "  <div id=\"df-4732fe27-2f8d-484a-a4e6-acf32796dfd9\">\n",
              "    <div class=\"colab-df-container\">\n",
              "      <div>\n",
              "<style scoped>\n",
              "    .dataframe tbody tr th:only-of-type {\n",
              "        vertical-align: middle;\n",
              "    }\n",
              "\n",
              "    .dataframe tbody tr th {\n",
              "        vertical-align: top;\n",
              "    }\n",
              "\n",
              "    .dataframe thead th {\n",
              "        text-align: right;\n",
              "    }\n",
              "</style>\n",
              "<table border=\"1\" class=\"dataframe\">\n",
              "  <thead>\n",
              "    <tr style=\"text-align: right;\">\n",
              "      <th></th>\n",
              "      <th>Unnamed: 0</th>\n",
              "      <th>high_return</th>\n",
              "      <th>ROI_past_average10</th>\n",
              "    </tr>\n",
              "  </thead>\n",
              "  <tbody>\n",
              "    <tr>\n",
              "      <th>0</th>\n",
              "      <td>918</td>\n",
              "      <td>0</td>\n",
              "      <td>0.227745</td>\n",
              "    </tr>\n",
              "    <tr>\n",
              "      <th>1</th>\n",
              "      <td>919</td>\n",
              "      <td>0</td>\n",
              "      <td>0.193472</td>\n",
              "    </tr>\n",
              "    <tr>\n",
              "      <th>2</th>\n",
              "      <td>920</td>\n",
              "      <td>1</td>\n",
              "      <td>0.192793</td>\n",
              "    </tr>\n",
              "    <tr>\n",
              "      <th>3</th>\n",
              "      <td>921</td>\n",
              "      <td>1</td>\n",
              "      <td>0.210238</td>\n",
              "    </tr>\n",
              "    <tr>\n",
              "      <th>4</th>\n",
              "      <td>922</td>\n",
              "      <td>0</td>\n",
              "      <td>0.611775</td>\n",
              "    </tr>\n",
              "  </tbody>\n",
              "</table>\n",
              "</div>\n",
              "      <button class=\"colab-df-convert\" onclick=\"convertToInteractive('df-4732fe27-2f8d-484a-a4e6-acf32796dfd9')\"\n",
              "              title=\"Convert this dataframe to an interactive table.\"\n",
              "              style=\"display:none;\">\n",
              "        \n",
              "  <svg xmlns=\"http://www.w3.org/2000/svg\" height=\"24px\"viewBox=\"0 0 24 24\"\n",
              "       width=\"24px\">\n",
              "    <path d=\"M0 0h24v24H0V0z\" fill=\"none\"/>\n",
              "    <path d=\"M18.56 5.44l.94 2.06.94-2.06 2.06-.94-2.06-.94-.94-2.06-.94 2.06-2.06.94zm-11 1L8.5 8.5l.94-2.06 2.06-.94-2.06-.94L8.5 2.5l-.94 2.06-2.06.94zm10 10l.94 2.06.94-2.06 2.06-.94-2.06-.94-.94-2.06-.94 2.06-2.06.94z\"/><path d=\"M17.41 7.96l-1.37-1.37c-.4-.4-.92-.59-1.43-.59-.52 0-1.04.2-1.43.59L10.3 9.45l-7.72 7.72c-.78.78-.78 2.05 0 2.83L4 21.41c.39.39.9.59 1.41.59.51 0 1.02-.2 1.41-.59l7.78-7.78 2.81-2.81c.8-.78.8-2.07 0-2.86zM5.41 20L4 18.59l7.72-7.72 1.47 1.35L5.41 20z\"/>\n",
              "  </svg>\n",
              "      </button>\n",
              "      \n",
              "  <style>\n",
              "    .colab-df-container {\n",
              "      display:flex;\n",
              "      flex-wrap:wrap;\n",
              "      gap: 12px;\n",
              "    }\n",
              "\n",
              "    .colab-df-convert {\n",
              "      background-color: #E8F0FE;\n",
              "      border: none;\n",
              "      border-radius: 50%;\n",
              "      cursor: pointer;\n",
              "      display: none;\n",
              "      fill: #1967D2;\n",
              "      height: 32px;\n",
              "      padding: 0 0 0 0;\n",
              "      width: 32px;\n",
              "    }\n",
              "\n",
              "    .colab-df-convert:hover {\n",
              "      background-color: #E2EBFA;\n",
              "      box-shadow: 0px 1px 2px rgba(60, 64, 67, 0.3), 0px 1px 3px 1px rgba(60, 64, 67, 0.15);\n",
              "      fill: #174EA6;\n",
              "    }\n",
              "\n",
              "    [theme=dark] .colab-df-convert {\n",
              "      background-color: #3B4455;\n",
              "      fill: #D2E3FC;\n",
              "    }\n",
              "\n",
              "    [theme=dark] .colab-df-convert:hover {\n",
              "      background-color: #434B5C;\n",
              "      box-shadow: 0px 1px 3px 1px rgba(0, 0, 0, 0.15);\n",
              "      filter: drop-shadow(0px 1px 2px rgba(0, 0, 0, 0.3));\n",
              "      fill: #FFFFFF;\n",
              "    }\n",
              "  </style>\n",
              "\n",
              "      <script>\n",
              "        const buttonEl =\n",
              "          document.querySelector('#df-4732fe27-2f8d-484a-a4e6-acf32796dfd9 button.colab-df-convert');\n",
              "        buttonEl.style.display =\n",
              "          google.colab.kernel.accessAllowed ? 'block' : 'none';\n",
              "\n",
              "        async function convertToInteractive(key) {\n",
              "          const element = document.querySelector('#df-4732fe27-2f8d-484a-a4e6-acf32796dfd9');\n",
              "          const dataTable =\n",
              "            await google.colab.kernel.invokeFunction('convertToInteractive',\n",
              "                                                     [key], {});\n",
              "          if (!dataTable) return;\n",
              "\n",
              "          const docLinkHtml = 'Like what you see? Visit the ' +\n",
              "            '<a target=\"_blank\" href=https://colab.research.google.com/notebooks/data_table.ipynb>data table notebook</a>'\n",
              "            + ' to learn more about interactive tables.';\n",
              "          element.innerHTML = '';\n",
              "          dataTable['output_type'] = 'display_data';\n",
              "          await google.colab.output.renderOutput(dataTable, element);\n",
              "          const docLink = document.createElement('div');\n",
              "          docLink.innerHTML = docLinkHtml;\n",
              "          element.appendChild(docLink);\n",
              "        }\n",
              "      </script>\n",
              "    </div>\n",
              "  </div>\n",
              "  "
            ]
          },
          "metadata": {},
          "execution_count": 188
        }
      ]
    },
    {
      "cell_type": "code",
      "source": [
        "X_test = pd.DataFrame(np.array(C_test['ROI_past_average10']).astype(float).reshape(-1,1))\n",
        "y_test = pd.DataFrame(C_test['high_return'].astype(int))"
      ],
      "metadata": {
        "id": "PpHVyrntKF4E"
      },
      "execution_count": 189,
      "outputs": []
    },
    {
      "cell_type": "markdown",
      "source": [
        "## Import base packages"
      ],
      "metadata": {
        "id": "52HThGzyLMYz"
      }
    },
    {
      "cell_type": "code",
      "source": [
        "from sklearn.base import BaseEstimator\n",
        "from sklearn.metrics import classification_report\n",
        "import matplotlib.pyplot as plt\n",
        "from sklearn.metrics import plot_confusion_matrix\n",
        "from sklearn.metrics import plot_roc_curve"
      ],
      "metadata": {
        "id": "AXpkffx6LKjF"
      },
      "execution_count": 190,
      "outputs": []
    },
    {
      "cell_type": "markdown",
      "source": [
        "## Decision Tree Classifer"
      ],
      "metadata": {
        "id": "ZPbKvidihU9q"
      }
    },
    {
      "cell_type": "markdown",
      "source": [
        "reference:\n",
        "https://scikit-learn.org/stable/modules/generated/sklearn.tree.DecisionTreeClassifier.html"
      ],
      "metadata": {
        "id": "D5sO_m1ZQ5JS"
      }
    },
    {
      "cell_type": "markdown",
      "source": [
        "### Model"
      ],
      "metadata": {
        "id": "Y7geph9Mhx42"
      }
    },
    {
      "cell_type": "code",
      "source": [
        "from sklearn.tree import DecisionTreeClassifier"
      ],
      "metadata": {
        "id": "jP-o7qJXhR9v"
      },
      "execution_count": 191,
      "outputs": []
    },
    {
      "cell_type": "code",
      "source": [
        "mdl = DecisionTreeClassifier().fit(X_train, y_train)"
      ],
      "metadata": {
        "id": "ZN2OpdaGsNfk"
      },
      "execution_count": 192,
      "outputs": []
    },
    {
      "cell_type": "markdown",
      "source": [
        "## Result"
      ],
      "metadata": {
        "id": "gGTz99rSjTj3"
      }
    },
    {
      "cell_type": "code",
      "source": [
        "y_pred= mdl.predict(X_test)\n",
        "y_pred"
      ],
      "metadata": {
        "colab": {
          "base_uri": "https://localhost:8080/"
        },
        "id": "Gg8anzpRjM6E",
        "outputId": "01077c34-64bd-456e-cb8e-f60d2fda88c5"
      },
      "execution_count": 193,
      "outputs": [
        {
          "output_type": "execute_result",
          "data": {
            "text/plain": [
              "array([0, 0, 0, 0, 0, 0, 0, 0, 1, 1, 0, 0, 1, 1, 1, 1, 1, 0, 0, 0, 0, 0,\n",
              "       1, 1, 1, 0, 1, 0, 0, 1, 0, 1, 1, 0, 0, 1, 1, 1, 0, 1, 1, 1, 0, 1,\n",
              "       0, 1, 1, 1, 1, 0, 1, 0, 1, 0, 1, 1, 0, 0, 0, 1, 1, 0, 1, 1, 1, 1,\n",
              "       0, 1, 0, 1, 1, 1, 1, 1, 1, 1, 0, 1, 0, 1, 0, 1, 0, 0, 0, 1, 1, 0,\n",
              "       1, 1, 1, 1, 0, 1, 1, 1, 1, 1, 1, 0, 0, 1, 1, 0, 1, 1, 1, 1, 1, 1,\n",
              "       0, 1, 1, 1, 1, 1, 1, 1, 1, 1, 0, 1, 0, 1, 0, 0, 0, 0, 1, 1, 0, 0,\n",
              "       0, 1, 1, 1, 1, 1, 1, 1, 1, 1, 1, 0, 1, 0, 0, 0, 0, 0, 1, 1, 1, 0,\n",
              "       0, 0, 0, 0, 1, 0, 0, 0, 1, 0, 0, 0, 0, 0, 1, 0, 0, 0, 1, 0, 1, 0,\n",
              "       1, 1, 1, 1, 1, 1, 1, 0, 1, 1, 0, 1, 1, 0, 0, 0, 1, 1, 1, 1, 0, 1,\n",
              "       1, 0, 0, 0, 0, 1, 1, 0, 1, 0, 0, 0, 1, 0, 1, 1, 0, 1, 1, 1, 1, 1,\n",
              "       1, 1, 1, 1, 1, 0, 1, 1, 1, 0, 0, 0, 1, 0, 0, 1, 1, 0, 0, 0, 1, 1,\n",
              "       1, 0, 1, 1, 1, 1, 1, 1, 1, 1, 1, 1, 1, 1, 1, 1, 0, 1, 0, 1, 0, 1,\n",
              "       1, 1, 0, 1, 0, 1, 0, 0, 1, 1, 1, 1, 0, 0, 0, 1, 1, 1, 1, 1, 0, 1,\n",
              "       1, 1, 1, 0, 1, 1, 1, 1, 1, 1, 0, 0, 1, 1, 0, 0, 1, 1, 1, 1, 0, 0,\n",
              "       0, 0, 1, 1, 0, 1, 1, 0, 0, 0, 1, 1, 1, 0, 0, 1, 1, 0, 0, 1, 1, 1,\n",
              "       1, 1, 1, 0, 0, 1, 1, 0, 0, 1, 1, 0, 0, 1, 0, 0, 0, 0, 1, 0, 0, 1,\n",
              "       1, 0, 0, 0, 1, 1, 1, 1, 1, 1, 1, 0, 1, 1, 0, 0, 1, 1, 1, 1, 1, 1,\n",
              "       1, 1, 1, 1, 0, 1, 1, 1, 1, 1, 0, 1, 0, 1, 1, 1, 0, 1, 1, 1, 1, 1,\n",
              "       1, 0, 1, 0, 1, 1, 1, 0, 1, 0, 0, 0, 0, 0, 1, 0, 1, 1, 1, 0, 1, 0,\n",
              "       0, 1, 0, 0, 0, 1, 1, 1, 0, 1, 0, 1, 0, 1, 0, 1, 0, 0, 0, 0, 1, 0,\n",
              "       0, 1, 1, 1, 1, 1, 0, 0, 1, 1, 1, 0, 1, 1, 1, 1, 1, 1])"
            ]
          },
          "metadata": {},
          "execution_count": 193
        }
      ]
    },
    {
      "cell_type": "markdown",
      "source": [
        "## Evaluations"
      ],
      "metadata": {
        "id": "C3iPBZ2Yh9YA"
      }
    },
    {
      "cell_type": "code",
      "source": [
        "print(classification_report(y_test, y_pred))"
      ],
      "metadata": {
        "colab": {
          "base_uri": "https://localhost:8080/"
        },
        "id": "boA_KLuHH77E",
        "outputId": "853c4250-0d18-4702-ab54-677d51731dc6"
      },
      "execution_count": 194,
      "outputs": [
        {
          "output_type": "stream",
          "name": "stdout",
          "text": [
            "              precision    recall  f1-score   support\n",
            "\n",
            "           0       0.48      0.39      0.43       223\n",
            "           1       0.51      0.60      0.55       235\n",
            "\n",
            "    accuracy                           0.50       458\n",
            "   macro avg       0.49      0.49      0.49       458\n",
            "weighted avg       0.49      0.50      0.49       458\n",
            "\n"
          ]
        }
      ]
    },
    {
      "cell_type": "code",
      "source": [
        "plot_confusion_matrix(mdl, X_test, y_test)\n",
        "plt.title('confusion matrix')\n",
        "plt.show()"
      ],
      "metadata": {
        "colab": {
          "base_uri": "https://localhost:8080/",
          "height": 526
        },
        "id": "zt9VNIOQMVts",
        "outputId": "64955a9e-1aa3-45f0-e442-2f91d3864801"
      },
      "execution_count": 195,
      "outputs": [
        {
          "output_type": "stream",
          "name": "stderr",
          "text": [
            "/usr/local/lib/python3.8/dist-packages/sklearn/utils/deprecation.py:87: FutureWarning: Function plot_confusion_matrix is deprecated; Function `plot_confusion_matrix` is deprecated in 1.0 and will be removed in 1.2. Use one of the class methods: ConfusionMatrixDisplay.from_predictions or ConfusionMatrixDisplay.from_estimator.\n",
            "  warnings.warn(msg, category=FutureWarning)\n"
          ]
        },
        {
          "output_type": "display_data",
          "data": {
            "text/plain": [
              "<Figure size 640x480 with 2 Axes>"
            ],
            "image/png": "[encoded data removed]"
          },
          "metadata": {}
        }
      ]
    },
    {
      "cell_type": "code",
      "source": [
        "plot_roc_curve(mdl, X_test, y_test)\n",
        "plt.grid()\n",
        "plt.title('ROC Curve')\n",
        "plt.show()"
      ],
      "metadata": {
        "id": "TNyOKqKpMYEo",
        "colab": {
          "base_uri": "https://localhost:8080/",
          "height": 526
        },
        "outputId": "42e735cc-7307-4b37-e2fc-ef8848be2fe3"
      },
      "execution_count": 196,
      "outputs": [
        {
          "output_type": "stream",
          "name": "stderr",
          "text": [
            "/usr/local/lib/python3.8/dist-packages/sklearn/utils/deprecation.py:87: FutureWarning: Function plot_roc_curve is deprecated; Function :func:`plot_roc_curve` is deprecated in 1.0 and will be removed in 1.2. Use one of the class methods: :meth:`sklearn.metric.RocCurveDisplay.from_predictions` or :meth:`sklearn.metric.RocCurveDisplay.from_estimator`.\n",
            "  warnings.warn(msg, category=FutureWarning)\n"
          ]
        },
        {
          "output_type": "display_data",
          "data": {
            "text/plain": [
              "<Figure size 640x480 with 1 Axes>"
            ],
            "image/png": "[encoded data removed]"
          },
          "metadata": {}
        }
      ]
    },
    {
      "cell_type": "markdown",
      "source": [],
      "metadata": {
        "id": "jQ2bHorvhdyB"
      }
    },
    {
      "cell_type": "markdown",
      "source": [
        "## Neural network models (supervised)"
      ],
      "metadata": {
        "id": "p-AIqk4yhd4u"
      }
    },
    {
      "cell_type": "code",
      "source": [
        "from sklearn.neural_network import MLPClassifier\n"
      ],
      "metadata": {
        "id": "OnRSkeK5jTSV"
      },
      "execution_count": 197,
      "outputs": []
    },
    {
      "cell_type": "code",
      "source": [
        "mdl = MLPClassifier(solver='lbfgs', alpha=1e-5,\n",
        "                    hidden_layer_sizes=(5, 2), random_state=1).fit(X_train, y_train)\n",
        "y_pred= mdl.predict(X_test)\n",
        "print(classification_report(y_test, y_pred))"
      ],
      "metadata": {
        "colab": {
          "base_uri": "https://localhost:8080/"
        },
        "id": "E4rVEv60nd-8",
        "outputId": "6f9d1761-91ab-4ec2-b794-411a2bee42d8"
      },
      "execution_count": 198,
      "outputs": [
        {
          "output_type": "stream",
          "name": "stdout",
          "text": [
            "              precision    recall  f1-score   support\n",
            "\n",
            "           0       0.58      0.19      0.29       223\n",
            "           1       0.53      0.87      0.66       235\n",
            "\n",
            "    accuracy                           0.54       458\n",
            "   macro avg       0.56      0.53      0.47       458\n",
            "weighted avg       0.56      0.54      0.48       458\n",
            "\n"
          ]
        },
        {
          "output_type": "stream",
          "name": "stderr",
          "text": [
            "/usr/local/lib/python3.8/dist-packages/sklearn/neural_network/_multilayer_perceptron.py:1109: DataConversionWarning: A column-vector y was passed when a 1d array was expected. Please change the shape of y to (n_samples, ), for example using ravel().\n",
            "  y = column_or_1d(y, warn=True)\n"
          ]
        }
      ]
    },
    {
      "cell_type": "code",
      "source": [
        "plot_confusion_matrix(mdl, X_test, y_test)\n",
        "plt.title('confusion matrix')\n",
        "plt.show()"
      ],
      "metadata": {
        "colab": {
          "base_uri": "https://localhost:8080/",
          "height": 526
        },
        "id": "ycsnAixvhcg8",
        "outputId": "04e89fe0-2300-48f1-b9a8-cb4939e1ca4f"
      },
      "execution_count": 199,
      "outputs": [
        {
          "output_type": "stream",
          "name": "stderr",
          "text": [
            "/usr/local/lib/python3.8/dist-packages/sklearn/utils/deprecation.py:87: FutureWarning: Function plot_confusion_matrix is deprecated; Function `plot_confusion_matrix` is deprecated in 1.0 and will be removed in 1.2. Use one of the class methods: ConfusionMatrixDisplay.from_predictions or ConfusionMatrixDisplay.from_estimator.\n",
            "  warnings.warn(msg, category=FutureWarning)\n"
          ]
        },
        {
          "output_type": "display_data",
          "data": {
            "text/plain": [
              "<Figure size 640x480 with 2 Axes>"
            ],
            "image/png": "[encoded data removed]"
          },
          "metadata": {}
        }
      ]
    },
    {
      "cell_type": "markdown",
      "source": [
        "## Random Forest Classifier"
      ],
      "metadata": {
        "id": "b1z39IXhMjwQ"
      }
    },
    {
      "cell_type": "markdown",
      "source": [
        "reference:\n",
        "https://scikit-learn.org/stable/modules/generated/sklearn.ensemble.RandomForestClassifier.html"
      ],
      "metadata": {
        "id": "v6Om3M43Q_VA"
      }
    },
    {
      "cell_type": "code",
      "source": [
        "from sklearn.ensemble import RandomForestClassifier"
      ],
      "metadata": {
        "id": "kR5jR3EwMc_8"
      },
      "execution_count": 200,
      "outputs": []
    },
    {
      "cell_type": "code",
      "source": [
        "mdl = RandomForestClassifier().fit(X_train, y_train)"
      ],
      "metadata": {
        "id": "6_7TwLUzMoJg",
        "colab": {
          "base_uri": "https://localhost:8080/"
        },
        "outputId": "61c40acd-7ab9-4e36-af4d-55d783944c8c"
      },
      "execution_count": 201,
      "outputs": [
        {
          "output_type": "stream",
          "name": "stderr",
          "text": [
            "<ipython-input-201-037da15b76a8>:1: DataConversionWarning: A column-vector y was passed when a 1d array was expected. Please change the shape of y to (n_samples,), for example using ravel().\n",
            "  mdl = RandomForestClassifier().fit(X_train, y_train)\n"
          ]
        }
      ]
    },
    {
      "cell_type": "code",
      "source": [
        "print(classification_report(y_test, mdl.predict(X_test)))"
      ],
      "metadata": {
        "id": "MvJAu4aPMrEo",
        "colab": {
          "base_uri": "https://localhost:8080/"
        },
        "outputId": "249cc332-17da-4866-a1dd-eff36c471155"
      },
      "execution_count": 202,
      "outputs": [
        {
          "output_type": "stream",
          "name": "stdout",
          "text": [
            "              precision    recall  f1-score   support\n",
            "\n",
            "           0       0.48      0.39      0.43       223\n",
            "           1       0.51      0.60      0.55       235\n",
            "\n",
            "    accuracy                           0.50       458\n",
            "   macro avg       0.49      0.49      0.49       458\n",
            "weighted avg       0.49      0.50      0.49       458\n",
            "\n"
          ]
        }
      ]
    },
    {
      "cell_type": "code",
      "source": [
        "plot_confusion_matrix(mdl, X_test, y_test)\n",
        "plt.title('confusion matrix')\n",
        "plt.show()"
      ],
      "metadata": {
        "id": "Uf_ndAUXMxNn",
        "colab": {
          "base_uri": "https://localhost:8080/",
          "height": 526
        },
        "outputId": "1fe1509f-165d-41a9-e5c1-d854d9ff38d3"
      },
      "execution_count": 203,
      "outputs": [
        {
          "output_type": "stream",
          "name": "stderr",
          "text": [
            "/usr/local/lib/python3.8/dist-packages/sklearn/utils/deprecation.py:87: FutureWarning: Function plot_confusion_matrix is deprecated; Function `plot_confusion_matrix` is deprecated in 1.0 and will be removed in 1.2. Use one of the class methods: ConfusionMatrixDisplay.from_predictions or ConfusionMatrixDisplay.from_estimator.\n",
            "  warnings.warn(msg, category=FutureWarning)\n"
          ]
        },
        {
          "output_type": "display_data",
          "data": {
            "text/plain": [
              "<Figure size 640x480 with 2 Axes>"
            ],
            "image/png": "[encoded data removed]"
          },
          "metadata": {}
        }
      ]
    },
    {
      "cell_type": "code",
      "source": [
        "plot_roc_curve(mdl, X_test, y_test)\n",
        "plt.grid()\n",
        "plt.title('ROC Curve')\n",
        "plt.show()"
      ],
      "metadata": {
        "id": "BRIiU_-TMzgN",
        "colab": {
          "base_uri": "https://localhost:8080/",
          "height": 526
        },
        "outputId": "b0af0478-4072-4270-e3aa-0868581ebfc0"
      },
      "execution_count": 204,
      "outputs": [
        {
          "output_type": "stream",
          "name": "stderr",
          "text": [
            "/usr/local/lib/python3.8/dist-packages/sklearn/utils/deprecation.py:87: FutureWarning: Function plot_roc_curve is deprecated; Function :func:`plot_roc_curve` is deprecated in 1.0 and will be removed in 1.2. Use one of the class methods: :meth:`sklearn.metric.RocCurveDisplay.from_predictions` or :meth:`sklearn.metric.RocCurveDisplay.from_estimator`.\n",
            "  warnings.warn(msg, category=FutureWarning)\n"
          ]
        },
        {
          "output_type": "display_data",
          "data": {
            "text/plain": [
              "<Figure size 640x480 with 1 Axes>"
            ],
            "image/png": "[encoded data removed]"
          },
          "metadata": {}
        }
      ]
    },
    {
      "cell_type": "markdown",
      "source": [
        "## Multi-Layer Classifier"
      ],
      "metadata": {
        "id": "5YPEO1ptM_pO"
      }
    },
    {
      "cell_type": "markdown",
      "source": [
        "reference:\n",
        "https://scikit-learn.org/stable/modules/generated/sklearn.neural_network.MLPClassifier.html"
      ],
      "metadata": {
        "id": "CeL8Pl3ZREgp"
      }
    },
    {
      "cell_type": "code",
      "source": [
        "from sklearn.neural_network import MLPClassifier"
      ],
      "metadata": {
        "id": "bDRCALt8M2Ex"
      },
      "execution_count": 205,
      "outputs": []
    },
    {
      "cell_type": "code",
      "source": [
        "mdl = MLPClassifier(hidden_layer_sizes=256).fit(X_train, y_train)"
      ],
      "metadata": {
        "id": "IzjbxKp7NJEs",
        "colab": {
          "base_uri": "https://localhost:8080/"
        },
        "outputId": "992b8079-97a3-46d2-c97a-e3c2e537aed8"
      },
      "execution_count": 206,
      "outputs": [
        {
          "output_type": "stream",
          "name": "stderr",
          "text": [
            "/usr/local/lib/python3.8/dist-packages/sklearn/neural_network/_multilayer_perceptron.py:1109: DataConversionWarning: A column-vector y was passed when a 1d array was expected. Please change the shape of y to (n_samples, ), for example using ravel().\n",
            "  y = column_or_1d(y, warn=True)\n"
          ]
        }
      ]
    },
    {
      "cell_type": "code",
      "source": [
        "print(classification_report(y_test, mdl.predict(X_test)))"
      ],
      "metadata": {
        "id": "KtKrFVwCNOPQ",
        "colab": {
          "base_uri": "https://localhost:8080/"
        },
        "outputId": "30e5864c-33d4-4876-9361-83dd77b3c856"
      },
      "execution_count": 207,
      "outputs": [
        {
          "output_type": "stream",
          "name": "stdout",
          "text": [
            "              precision    recall  f1-score   support\n",
            "\n",
            "           0       0.62      0.11      0.19       223\n",
            "           1       0.53      0.94      0.67       235\n",
            "\n",
            "    accuracy                           0.53       458\n",
            "   macro avg       0.58      0.52      0.43       458\n",
            "weighted avg       0.57      0.53      0.44       458\n",
            "\n"
          ]
        }
      ]
    },
    {
      "cell_type": "code",
      "source": [
        "plot_confusion_matrix(mdl, X_test, y_test)\n",
        "plt.title('confusion matrix')\n",
        "plt.show()"
      ],
      "metadata": {
        "id": "HAutXENGNelY",
        "colab": {
          "base_uri": "https://localhost:8080/",
          "height": 526
        },
        "outputId": "ecfa25d9-a716-4046-c807-84606c36ee4a"
      },
      "execution_count": 208,
      "outputs": [
        {
          "output_type": "stream",
          "name": "stderr",
          "text": [
            "/usr/local/lib/python3.8/dist-packages/sklearn/utils/deprecation.py:87: FutureWarning: Function plot_confusion_matrix is deprecated; Function `plot_confusion_matrix` is deprecated in 1.0 and will be removed in 1.2. Use one of the class methods: ConfusionMatrixDisplay.from_predictions or ConfusionMatrixDisplay.from_estimator.\n",
            "  warnings.warn(msg, category=FutureWarning)\n"
          ]
        },
        {
          "output_type": "display_data",
          "data": {
            "text/plain": [
              "<Figure size 640x480 with 2 Axes>"
            ],
            "image/png": "[encoded data removed]"
          },
          "metadata": {}
        }
      ]
    },
    {
      "cell_type": "markdown",
      "source": [
        "## Auto-ML Classifier"
      ],
      "metadata": {
        "id": "J6Wm_mm-OKUP"
      }
    },
    {
      "cell_type": "markdown",
      "source": [
        "reference:\n",
        "\n",
        "https://auto.gluon.ai/stable/index.html"
      ],
      "metadata": {
        "id": "diEfHwg1RLXK"
      }
    },
    {
      "cell_type": "markdown",
      "source": [
        "notes: \n",
        "* please first install the pacakge and restart run time \n",
        "* change runtime type to GPU can accelerate the speed\n",
        "* after you restart the runtime, please mute the code box for package installation\n",
        "\n"
      ],
      "metadata": {
        "id": "vaTSxqT8TNeh"
      }
    },
    {
      "cell_type": "code",
      "source": [
        "!pip install autogluon"
      ],
      "metadata": {
        "id": "4V6eh4Q3OOoJ",
        "colab": {
          "base_uri": "https://localhost:8080/"
        },
        "outputId": "c5758dd1-5b0f-4231-b316-d66422f47a6c"
      },
      "execution_count": 209,
      "outputs": [
        {
          "output_type": "stream",
          "name": "stdout",
          "text": [
            "Looking in indexes: https://pypi.org/simple, https://us-python.pkg.dev/colab-wheels/public/simple/\n",
            "Requirement already satisfied: autogluon in /usr/local/lib/python3.8/dist-packages (0.6.0)\n",
            "Requirement already satisfied: autogluon.text==0.6.0 in /usr/local/lib/python3.8/dist-packages (from autogluon) (0.6.0)\n",
            "Requirement already satisfied: autogluon.features==0.6.0 in /usr/local/lib/python3.8/dist-packages (from autogluon) (0.6.0)\n",
            "Requirement already satisfied: autogluon.vision==0.6.0 in /usr/local/lib/python3.8/dist-packages (from autogluon) (0.6.0)\n",
            "Requirement already satisfied: autogluon.multimodal==0.6.0 in /usr/local/lib/python3.8/dist-packages (from autogluon) (0.6.0)\n",
            "Requirement already satisfied: autogluon.core[all]==0.6.0 in /usr/local/lib/python3.8/dist-packages (from autogluon) (0.6.0)\n",
            "Requirement already satisfied: autogluon.timeseries[all]==0.6.0 in /usr/local/lib/python3.8/dist-packages (from autogluon) (0.6.0)\n",
            "Requirement already satisfied: autogluon.tabular[all]==0.6.0 in /usr/local/lib/python3.8/dist-packages (from autogluon) (0.6.0)\n",
            "Requirement already satisfied: scipy<1.10.0,>=1.5.4 in /usr/local/lib/python3.8/dist-packages (from autogluon.core[all]==0.6.0->autogluon) (1.7.3)\n",
            "Requirement already satisfied: tqdm>=4.38.0 in /usr/local/lib/python3.8/dist-packages (from autogluon.core[all]==0.6.0->autogluon) (4.64.1)\n",
            "Requirement already satisfied: boto3 in /usr/local/lib/python3.8/dist-packages (from autogluon.core[all]==0.6.0->autogluon) (1.26.27)\n",
            "Requirement already satisfied: requests in /usr/local/lib/python3.8/dist-packages (from autogluon.core[all]==0.6.0->autogluon) (2.23.0)\n",
            "Requirement already satisfied: autogluon.common==0.6.0 in /usr/local/lib/python3.8/dist-packages (from autogluon.core[all]==0.6.0->autogluon) (0.6.0)\n",
            "Requirement already satisfied: matplotlib in /usr/local/lib/python3.8/dist-packages (from autogluon.core[all]==0.6.0->autogluon) (3.2.2)\n",
            "Requirement already satisfied: dask<=2021.11.2,>=2021.09.1 in /usr/local/lib/python3.8/dist-packages (from autogluon.core[all]==0.6.0->autogluon) (2021.11.2)\n",
            "Requirement already satisfied: numpy<1.24,>=1.21 in /usr/local/lib/python3.8/dist-packages (from autogluon.core[all]==0.6.0->autogluon) (1.21.6)\n",
            "Requirement already satisfied: pandas!=1.4.0,<1.6,>=1.2.5 in /usr/local/lib/python3.8/dist-packages (from autogluon.core[all]==0.6.0->autogluon) (1.3.5)\n",
            "Requirement already satisfied: scikit-learn<1.2,>=1.0.0 in /usr/local/lib/python3.8/dist-packages (from autogluon.core[all]==0.6.0->autogluon) (1.0.2)\n",
            "Requirement already satisfied: distributed<=2021.11.2,>=2021.09.1 in /usr/local/lib/python3.8/dist-packages (from autogluon.core[all]==0.6.0->autogluon) (2021.11.2)\n",
            "Requirement already satisfied: ray<2.1,>=2.0 in /usr/local/lib/python3.8/dist-packages (from autogluon.core[all]==0.6.0->autogluon) (2.0.1)\n",
            "Requirement already satisfied: hyperopt<0.2.8,>=0.2.7 in /usr/local/lib/python3.8/dist-packages (from autogluon.core[all]==0.6.0->autogluon) (0.2.7)\n",
            "Requirement already satisfied: setuptools in /usr/local/lib/python3.8/dist-packages (from autogluon.common==0.6.0->autogluon.core[all]==0.6.0->autogluon) (57.4.0)\n",
            "Requirement already satisfied: psutil<6,>=5.7.3 in /usr/local/lib/python3.8/dist-packages (from autogluon.features==0.6.0->autogluon) (5.8.0)\n",
            "Requirement already satisfied: defusedxml<=0.7.1,>=0.7.1 in /usr/local/lib/python3.8/dist-packages (from autogluon.multimodal==0.6.0->autogluon) (0.7.1)\n",
            "Requirement already satisfied: transformers<4.24.0,>=4.23.0 in /usr/local/lib/python3.8/dist-packages (from autogluon.multimodal==0.6.0->autogluon) (4.23.1)\n",
            "Requirement already satisfied: sentencepiece<0.2.0,>=0.1.95 in /usr/local/lib/python3.8/dist-packages (from autogluon.multimodal==0.6.0->autogluon) (0.1.97)\n",
            "Requirement already satisfied: torchvision<0.14.0 in /usr/local/lib/python3.8/dist-packages (from autogluon.multimodal==0.6.0->autogluon) (0.13.1)\n",
            "Requirement already satisfied: scikit-image<0.20.0,>=0.19.1 in /usr/local/lib/python3.8/dist-packages (from autogluon.multimodal==0.6.0->autogluon) (0.19.3)\n",
            "Requirement already satisfied: pytorch-lightning<1.8.0,>=1.7.4 in /usr/local/lib/python3.8/dist-packages (from autogluon.multimodal==0.6.0->autogluon) (1.7.7)\n",
            "Requirement already satisfied: omegaconf<2.2.0,>=2.1.1 in /usr/local/lib/python3.8/dist-packages (from autogluon.multimodal==0.6.0->autogluon) (2.1.2)\n",
            "Requirement already satisfied: nptyping<1.5.0,>=1.4.4 in /usr/local/lib/python3.8/dist-packages (from autogluon.multimodal==0.6.0->autogluon) (1.4.4)\n",
            "Requirement already satisfied: evaluate<=0.2.2 in /usr/local/lib/python3.8/dist-packages (from autogluon.multimodal==0.6.0->autogluon) (0.2.2)\n",
            "Requirement already satisfied: albumentations<=1.2.0,>=1.1.0 in /usr/local/lib/python3.8/dist-packages (from autogluon.multimodal==0.6.0->autogluon) (1.1.0)\n",
            "Requirement already satisfied: smart-open<5.3.0,>=5.2.1 in /usr/local/lib/python3.8/dist-packages (from autogluon.multimodal==0.6.0->autogluon) (5.2.1)\n",
            "Requirement already satisfied: torchtext<0.14.0 in /usr/local/lib/python3.8/dist-packages (from autogluon.multimodal==0.6.0->autogluon) (0.13.1)\n",
            "Requirement already satisfied: jsonschema<=4.8.0 in /usr/local/lib/python3.8/dist-packages (from autogluon.multimodal==0.6.0->autogluon) (4.3.3)\n",
            "Requirement already satisfied: text-unidecode<=1.3 in /usr/local/lib/python3.8/dist-packages (from autogluon.multimodal==0.6.0->autogluon) (1.3)\n",
            "Requirement already satisfied: torch<1.13,>=1.9 in /usr/local/lib/python3.8/dist-packages (from autogluon.multimodal==0.6.0->autogluon) (1.12.1)\n",
            "Requirement already satisfied: seqeval<=1.2.2 in /usr/local/lib/python3.8/dist-packages (from autogluon.multimodal==0.6.0->autogluon) (1.2.2)\n",
            "Requirement already satisfied: torchmetrics<0.9.0,>=0.8.0 in /usr/local/lib/python3.8/dist-packages (from autogluon.multimodal==0.6.0->autogluon) (0.8.2)\n",
            "Requirement already satisfied: fairscale<=0.4.6,>=0.4.5 in /usr/local/lib/python3.8/dist-packages (from autogluon.multimodal==0.6.0->autogluon) (0.4.6)\n",
            "Requirement already satisfied: pycocotools<2.0.7,>=2.0.5 in /usr/local/lib/python3.8/dist-packages (from autogluon.multimodal==0.6.0->autogluon) (2.0.6)\n",
            "Requirement already satisfied: openmim<=0.2.1,>0.1.5 in /usr/local/lib/python3.8/dist-packages (from autogluon.multimodal==0.6.0->autogluon) (0.2.1)\n",
            "Requirement already satisfied: Pillow<9.1.0,>=9.0.1 in /usr/local/lib/python3.8/dist-packages (from autogluon.multimodal==0.6.0->autogluon) (9.0.1)\n",
            "Requirement already satisfied: nltk<4.0.0,>=3.4.5 in /usr/local/lib/python3.8/dist-packages (from autogluon.multimodal==0.6.0->autogluon) (3.7)\n",
            "Requirement already satisfied: nlpaug<=1.1.10,>=1.1.10 in /usr/local/lib/python3.8/dist-packages (from autogluon.multimodal==0.6.0->autogluon) (1.1.10)\n",
            "Requirement already satisfied: timm<0.7.0 in /usr/local/lib/python3.8/dist-packages (from autogluon.multimodal==0.6.0->autogluon) (0.6.12)\n",
            "Requirement already satisfied: pytorch-metric-learning<1.4.0,>=1.3.0 in /usr/local/lib/python3.8/dist-packages (from autogluon.multimodal==0.6.0->autogluon) (1.3.2)\n",
            "Requirement already satisfied: accelerate<0.14,>=0.9 in /usr/local/lib/python3.8/dist-packages (from autogluon.multimodal==0.6.0->autogluon) (0.13.2)\n",
            "Requirement already satisfied: networkx<3.0,>=2.3 in /usr/local/lib/python3.8/dist-packages (from autogluon.tabular[all]==0.6.0->autogluon) (2.8.8)\n",
            "Requirement already satisfied: fastai<2.8,>=2.3.1 in /usr/local/lib/python3.8/dist-packages (from autogluon.tabular[all]==0.6.0->autogluon) (2.7.10)\n",
            "Requirement already satisfied: xgboost<1.8,>=1.6 in /usr/local/lib/python3.8/dist-packages (from autogluon.tabular[all]==0.6.0->autogluon) (1.7.2)\n",
            "Requirement already satisfied: catboost<1.2,>=1.0 in /usr/local/lib/python3.8/dist-packages (from autogluon.tabular[all]==0.6.0->autogluon) (1.1.1)\n",
            "Requirement already satisfied: lightgbm<3.4,>=3.3 in /usr/local/lib/python3.8/dist-packages (from autogluon.tabular[all]==0.6.0->autogluon) (3.3.3)\n",
            "Requirement already satisfied: joblib~=1.1 in /usr/local/lib/python3.8/dist-packages (from autogluon.timeseries[all]==0.6.0->autogluon) (1.2.0)\n",
            "Requirement already satisfied: statsmodels~=0.13.0 in /usr/local/lib/python3.8/dist-packages (from autogluon.timeseries[all]==0.6.0->autogluon) (0.13.5)\n",
            "Requirement already satisfied: gluonts~=0.11.0 in /usr/local/lib/python3.8/dist-packages (from autogluon.timeseries[all]==0.6.0->autogluon) (0.11.4)\n",
            "Requirement already satisfied: pmdarima~=1.8.2 in /usr/local/lib/python3.8/dist-packages (from autogluon.timeseries[all]==0.6.0->autogluon) (1.8.5)\n",
            "Requirement already satisfied: tbats~=1.1 in /usr/local/lib/python3.8/dist-packages (from autogluon.timeseries[all]==0.6.0->autogluon) (1.1.2)\n",
            "Requirement already satisfied: sktime<0.14,>=0.13.1 in /usr/local/lib/python3.8/dist-packages (from autogluon.timeseries[all]==0.6.0->autogluon) (0.13.4)\n",
            "Requirement already satisfied: gluoncv<0.10.6,>=0.10.5 in /usr/local/lib/python3.8/dist-packages (from autogluon.vision==0.6.0->autogluon) (0.10.5.post0)\n",
            "Requirement already satisfied: pyyaml in /usr/local/lib/python3.8/dist-packages (from accelerate<0.14,>=0.9->autogluon.multimodal==0.6.0->autogluon) (6.0)\n",
            "Requirement already satisfied: packaging>=20.0 in /usr/local/lib/python3.8/dist-packages (from accelerate<0.14,>=0.9->autogluon.multimodal==0.6.0->autogluon) (21.3)\n",
            "Requirement already satisfied: qudida>=0.0.4 in /usr/local/lib/python3.8/dist-packages (from albumentations<=1.2.0,>=1.1.0->autogluon.multimodal==0.6.0->autogluon) (0.0.4)\n",
            "Requirement already satisfied: opencv-python-headless>=4.1.1 in /usr/local/lib/python3.8/dist-packages (from albumentations<=1.2.0,>=1.1.0->autogluon.multimodal==0.6.0->autogluon) (4.6.0.66)\n",
            "Requirement already satisfied: six in /usr/local/lib/python3.8/dist-packages (from catboost<1.2,>=1.0->autogluon.tabular[all]==0.6.0->autogluon) (1.15.0)\n",
            "Requirement already satisfied: plotly in /usr/local/lib/python3.8/dist-packages (from catboost<1.2,>=1.0->autogluon.tabular[all]==0.6.0->autogluon) (5.5.0)\n",
            "Requirement already satisfied: graphviz in /usr/local/lib/python3.8/dist-packages (from catboost<1.2,>=1.0->autogluon.tabular[all]==0.6.0->autogluon) (0.10.1)\n",
            "Requirement already satisfied: fsspec>=0.6.0 in /usr/local/lib/python3.8/dist-packages (from dask<=2021.11.2,>=2021.09.1->autogluon.core[all]==0.6.0->autogluon) (2022.11.0)\n",
            "Requirement already satisfied: toolz>=0.8.2 in /usr/local/lib/python3.8/dist-packages (from dask<=2021.11.2,>=2021.09.1->autogluon.core[all]==0.6.0->autogluon) (0.12.0)\n",
            "Requirement already satisfied: cloudpickle>=1.1.1 in /usr/local/lib/python3.8/dist-packages (from dask<=2021.11.2,>=2021.09.1->autogluon.core[all]==0.6.0->autogluon) (1.5.0)\n",
            "Requirement already satisfied: partd>=0.3.10 in /usr/local/lib/python3.8/dist-packages (from dask<=2021.11.2,>=2021.09.1->autogluon.core[all]==0.6.0->autogluon) (1.3.0)\n",
            "Requirement already satisfied: msgpack>=0.6.0 in /usr/local/lib/python3.8/dist-packages (from distributed<=2021.11.2,>=2021.09.1->autogluon.core[all]==0.6.0->autogluon) (1.0.4)\n",
            "Requirement already satisfied: sortedcontainers!=2.0.0,!=2.0.1 in /usr/local/lib/python3.8/dist-packages (from distributed<=2021.11.2,>=2021.09.1->autogluon.core[all]==0.6.0->autogluon) (2.4.0)\n",
            "Requirement already satisfied: jinja2 in /usr/local/lib/python3.8/dist-packages (from distributed<=2021.11.2,>=2021.09.1->autogluon.core[all]==0.6.0->autogluon) (2.11.3)\n",
            "Requirement already satisfied: tornado>=6.0.3 in /usr/local/lib/python3.8/dist-packages (from distributed<=2021.11.2,>=2021.09.1->autogluon.core[all]==0.6.0->autogluon) (6.0.4)\n",
            "Requirement already satisfied: zict>=0.1.3 in /usr/local/lib/python3.8/dist-packages (from distributed<=2021.11.2,>=2021.09.1->autogluon.core[all]==0.6.0->autogluon) (2.2.0)\n",
            "Requirement already satisfied: tblib>=1.6.0 in /usr/local/lib/python3.8/dist-packages (from distributed<=2021.11.2,>=2021.09.1->autogluon.core[all]==0.6.0->autogluon) (1.7.0)\n",
            "Requirement already satisfied: click>=6.6 in /usr/local/lib/python3.8/dist-packages (from distributed<=2021.11.2,>=2021.09.1->autogluon.core[all]==0.6.0->autogluon) (7.1.2)\n",
            "Requirement already satisfied: multiprocess in /usr/local/lib/python3.8/dist-packages (from evaluate<=0.2.2->autogluon.multimodal==0.6.0->autogluon) (0.70.14)\n",
            "Requirement already satisfied: dill in /usr/local/lib/python3.8/dist-packages (from evaluate<=0.2.2->autogluon.multimodal==0.6.0->autogluon) (0.3.6)\n",
            "Requirement already satisfied: xxhash in /usr/local/lib/python3.8/dist-packages (from evaluate<=0.2.2->autogluon.multimodal==0.6.0->autogluon) (3.1.0)\n",
            "Requirement already satisfied: responses<0.19 in /usr/local/lib/python3.8/dist-packages (from evaluate<=0.2.2->autogluon.multimodal==0.6.0->autogluon) (0.18.0)\n",
            "Requirement already satisfied: huggingface-hub>=0.7.0 in /usr/local/lib/python3.8/dist-packages (from evaluate<=0.2.2->autogluon.multimodal==0.6.0->autogluon) (0.11.1)\n",
            "Requirement already satisfied: datasets>=2.0.0 in /usr/local/lib/python3.8/dist-packages (from evaluate<=0.2.2->autogluon.multimodal==0.6.0->autogluon) (2.7.1)\n",
            "Requirement already satisfied: aiohttp in /usr/local/lib/python3.8/dist-packages (from datasets>=2.0.0->evaluate<=0.2.2->autogluon.multimodal==0.6.0->autogluon) (3.8.3)\n",
            "Requirement already satisfied: pyarrow>=6.0.0 in /usr/local/lib/python3.8/dist-packages (from datasets>=2.0.0->evaluate<=0.2.2->autogluon.multimodal==0.6.0->autogluon) (9.0.0)\n",
            "Requirement already satisfied: fastprogress>=0.2.4 in /usr/local/lib/python3.8/dist-packages (from fastai<2.8,>=2.3.1->autogluon.tabular[all]==0.6.0->autogluon) (1.0.3)\n",
            "Requirement already satisfied: fastcore<1.6,>=1.4.5 in /usr/local/lib/python3.8/dist-packages (from fastai<2.8,>=2.3.1->autogluon.tabular[all]==0.6.0->autogluon) (1.5.27)\n",
            "Requirement already satisfied: spacy<4 in /usr/local/lib/python3.8/dist-packages (from fastai<2.8,>=2.3.1->autogluon.tabular[all]==0.6.0->autogluon) (3.4.3)\n",
            "Requirement already satisfied: fastdownload<2,>=0.0.5 in /usr/local/lib/python3.8/dist-packages (from fastai<2.8,>=2.3.1->autogluon.tabular[all]==0.6.0->autogluon) (0.0.7)\n",
            "Requirement already satisfied: pip in /usr/local/lib/python3.8/dist-packages (from fastai<2.8,>=2.3.1->autogluon.tabular[all]==0.6.0->autogluon) (21.1.3)\n",
            "Requirement already satisfied: multidict<7.0,>=4.5 in /usr/local/lib/python3.8/dist-packages (from aiohttp->datasets>=2.0.0->evaluate<=0.2.2->autogluon.multimodal==0.6.0->autogluon) (6.0.3)\n",
            "Requirement already satisfied: async-timeout<5.0,>=4.0.0a3 in /usr/local/lib/python3.8/dist-packages (from aiohttp->datasets>=2.0.0->evaluate<=0.2.2->autogluon.multimodal==0.6.0->autogluon) (4.0.2)\n",
            "Requirement already satisfied: yarl<2.0,>=1.0 in /usr/local/lib/python3.8/dist-packages (from aiohttp->datasets>=2.0.0->evaluate<=0.2.2->autogluon.multimodal==0.6.0->autogluon) (1.8.2)\n",
            "Requirement already satisfied: attrs>=17.3.0 in /usr/local/lib/python3.8/dist-packages (from aiohttp->datasets>=2.0.0->evaluate<=0.2.2->autogluon.multimodal==0.6.0->autogluon) (22.1.0)\n",
            "Requirement already satisfied: aiosignal>=1.1.2 in /usr/local/lib/python3.8/dist-packages (from aiohttp->datasets>=2.0.0->evaluate<=0.2.2->autogluon.multimodal==0.6.0->autogluon) (1.3.1)\n",
            "Requirement already satisfied: frozenlist>=1.1.1 in /usr/local/lib/python3.8/dist-packages (from aiohttp->datasets>=2.0.0->evaluate<=0.2.2->autogluon.multimodal==0.6.0->autogluon) (1.3.3)\n",
            "Requirement already satisfied: charset-normalizer<3.0,>=2.0 in /usr/local/lib/python3.8/dist-packages (from aiohttp->datasets>=2.0.0->evaluate<=0.2.2->autogluon.multimodal==0.6.0->autogluon) (2.1.1)\n",
            "Requirement already satisfied: opencv-python in /usr/local/lib/python3.8/dist-packages (from gluoncv<0.10.6,>=0.10.5->autogluon.vision==0.6.0->autogluon) (4.6.0.66)\n",
            "Requirement already satisfied: portalocker in /usr/local/lib/python3.8/dist-packages (from gluoncv<0.10.6,>=0.10.5->autogluon.vision==0.6.0->autogluon) (2.6.0)\n",
            "Requirement already satisfied: yacs in /usr/local/lib/python3.8/dist-packages (from gluoncv<0.10.6,>=0.10.5->autogluon.vision==0.6.0->autogluon) (0.1.8)\n",
            "Requirement already satisfied: autocfg in /usr/local/lib/python3.8/dist-packages (from gluoncv<0.10.6,>=0.10.5->autogluon.vision==0.6.0->autogluon) (0.0.8)\n",
            "Requirement already satisfied: typing-extensions~=4.0 in /usr/local/lib/python3.8/dist-packages (from gluonts~=0.11.0->autogluon.timeseries[all]==0.6.0->autogluon) (4.4.0)\n",
            "Requirement already satisfied: pydantic~=1.7 in /usr/local/lib/python3.8/dist-packages (from gluonts~=0.11.0->autogluon.timeseries[all]==0.6.0->autogluon) (1.10.2)\n",
            "Requirement already satisfied: filelock in /usr/local/lib/python3.8/dist-packages (from huggingface-hub>=0.7.0->evaluate<=0.2.2->autogluon.multimodal==0.6.0->autogluon) (3.8.0)\n",
            "Requirement already satisfied: py4j in /usr/local/lib/python3.8/dist-packages (from hyperopt<0.2.8,>=0.2.7->autogluon.core[all]==0.6.0->autogluon) (0.10.9.7)\n",
            "Requirement already satisfied: future in /usr/local/lib/python3.8/dist-packages (from hyperopt<0.2.8,>=0.2.7->autogluon.core[all]==0.6.0->autogluon) (0.16.0)\n",
            "Requirement already satisfied: importlib-resources>=1.4.0 in /usr/local/lib/python3.8/dist-packages (from jsonschema<=4.8.0->autogluon.multimodal==0.6.0->autogluon) (5.10.0)\n",
            "Requirement already satisfied: pyrsistent!=0.17.0,!=0.17.1,!=0.17.2,>=0.14.0 in /usr/local/lib/python3.8/dist-packages (from jsonschema<=4.8.0->autogluon.multimodal==0.6.0->autogluon) (0.19.2)\n",
            "Requirement already satisfied: zipp>=3.1.0 in /usr/local/lib/python3.8/dist-packages (from importlib-resources>=1.4.0->jsonschema<=4.8.0->autogluon.multimodal==0.6.0->autogluon) (3.11.0)\n",
            "Requirement already satisfied: wheel in /usr/local/lib/python3.8/dist-packages (from lightgbm<3.4,>=3.3->autogluon.tabular[all]==0.6.0->autogluon) (0.38.4)\n",
            "Requirement already satisfied: regex>=2021.8.3 in /usr/local/lib/python3.8/dist-packages (from nltk<4.0.0,>=3.4.5->autogluon.multimodal==0.6.0->autogluon) (2022.6.2)\n",
            "Requirement already satisfied: typish>=1.7.0 in /usr/local/lib/python3.8/dist-packages (from nptyping<1.5.0,>=1.4.4->autogluon.multimodal==0.6.0->autogluon) (1.9.3)\n",
            "Requirement already satisfied: antlr4-python3-runtime==4.8 in /usr/local/lib/python3.8/dist-packages (from omegaconf<2.2.0,>=2.1.1->autogluon.multimodal==0.6.0->autogluon) (4.8)\n",
            "Requirement already satisfied: rich in /usr/local/lib/python3.8/dist-packages (from openmim<=0.2.1,>0.1.5->autogluon.multimodal==0.6.0->autogluon) (12.6.0)\n",
            "Requirement already satisfied: model-index in /usr/local/lib/python3.8/dist-packages (from openmim<=0.2.1,>0.1.5->autogluon.multimodal==0.6.0->autogluon) (0.1.11)\n",
            "Requirement already satisfied: tabulate in /usr/local/lib/python3.8/dist-packages (from openmim<=0.2.1,>0.1.5->autogluon.multimodal==0.6.0->autogluon) (0.8.10)\n",
            "Requirement already satisfied: colorama in /usr/local/lib/python3.8/dist-packages (from openmim<=0.2.1,>0.1.5->autogluon.multimodal==0.6.0->autogluon) (0.4.6)\n",
            "Requirement already satisfied: pyparsing!=3.0.5,>=2.0.2 in /usr/local/lib/python3.8/dist-packages (from packaging>=20.0->accelerate<0.14,>=0.9->autogluon.multimodal==0.6.0->autogluon) (3.0.9)\n",
            "Requirement already satisfied: python-dateutil>=2.7.3 in /usr/local/lib/python3.8/dist-packages (from pandas!=1.4.0,<1.6,>=1.2.5->autogluon.core[all]==0.6.0->autogluon) (2.8.2)\n",
            "Requirement already satisfied: pytz>=2017.3 in /usr/local/lib/python3.8/dist-packages (from pandas!=1.4.0,<1.6,>=1.2.5->autogluon.core[all]==0.6.0->autogluon) (2022.6)\n",
            "Requirement already satisfied: locket in /usr/local/lib/python3.8/dist-packages (from partd>=0.3.10->dask<=2021.11.2,>=2021.09.1->autogluon.core[all]==0.6.0->autogluon) (1.0.0)\n",
            "Requirement already satisfied: urllib3 in /usr/local/lib/python3.8/dist-packages (from pmdarima~=1.8.2->autogluon.timeseries[all]==0.6.0->autogluon) (1.25.11)\n",
            "Requirement already satisfied: Cython!=0.29.18,>=0.29 in /usr/local/lib/python3.8/dist-packages (from pmdarima~=1.8.2->autogluon.timeseries[all]==0.6.0->autogluon) (0.29.32)\n",
            "Requirement already satisfied: cycler>=0.10 in /usr/local/lib/python3.8/dist-packages (from matplotlib->autogluon.core[all]==0.6.0->autogluon) (0.11.0)\n",
            "Requirement already satisfied: kiwisolver>=1.0.1 in /usr/local/lib/python3.8/dist-packages (from matplotlib->autogluon.core[all]==0.6.0->autogluon) (1.4.4)\n",
            "Requirement already satisfied: tensorboard>=2.9.1 in /usr/local/lib/python3.8/dist-packages (from pytorch-lightning<1.8.0,>=1.7.4->autogluon.multimodal==0.6.0->autogluon) (2.9.1)\n",
            "Requirement already satisfied: pyDeprecate>=0.3.1 in /usr/local/lib/python3.8/dist-packages (from pytorch-lightning<1.8.0,>=1.7.4->autogluon.multimodal==0.6.0->autogluon) (0.3.2)\n",
            "Requirement already satisfied: protobuf<4.0.0,>=3.15.3 in /usr/local/lib/python3.8/dist-packages (from ray<2.1,>=2.0->autogluon.core[all]==0.6.0->autogluon) (3.19.6)\n",
            "Requirement already satisfied: grpcio<=1.43.0,>=1.32.0 in /usr/local/lib/python3.8/dist-packages (from ray<2.1,>=2.0->autogluon.core[all]==0.6.0->autogluon) (1.43.0)\n",
            "Requirement already satisfied: virtualenv in /usr/local/lib/python3.8/dist-packages (from ray<2.1,>=2.0->autogluon.core[all]==0.6.0->autogluon) (20.17.1)\n",
            "Requirement already satisfied: tensorboardX>=1.9 in /usr/local/lib/python3.8/dist-packages (from ray<2.1,>=2.0->autogluon.core[all]==0.6.0->autogluon) (2.5.1)\n",
            "Requirement already satisfied: chardet<4,>=3.0.2 in /usr/local/lib/python3.8/dist-packages (from requests->autogluon.core[all]==0.6.0->autogluon) (3.0.4)\n",
            "Requirement already satisfied: certifi>=2017.4.17 in /usr/local/lib/python3.8/dist-packages (from requests->autogluon.core[all]==0.6.0->autogluon) (2022.9.24)\n",
            "Requirement already satisfied: idna<3,>=2.5 in /usr/local/lib/python3.8/dist-packages (from requests->autogluon.core[all]==0.6.0->autogluon) (2.10)\n",
            "Requirement already satisfied: imageio>=2.4.1 in /usr/local/lib/python3.8/dist-packages (from scikit-image<0.20.0,>=0.19.1->autogluon.multimodal==0.6.0->autogluon) (2.9.0)\n",
            "Requirement already satisfied: PyWavelets>=1.1.1 in /usr/local/lib/python3.8/dist-packages (from scikit-image<0.20.0,>=0.19.1->autogluon.multimodal==0.6.0->autogluon) (1.4.1)\n",
            "Requirement already satisfied: tifffile>=2019.7.26 in /usr/local/lib/python3.8/dist-packages (from scikit-image<0.20.0,>=0.19.1->autogluon.multimodal==0.6.0->autogluon) (2022.10.10)\n",
            "Requirement already satisfied: threadpoolctl>=2.0.0 in /usr/local/lib/python3.8/dist-packages (from scikit-learn<1.2,>=1.0.0->autogluon.core[all]==0.6.0->autogluon) (3.1.0)\n",
            "Requirement already satisfied: deprecated>=1.2.13 in /usr/local/lib/python3.8/dist-packages (from sktime<0.14,>=0.13.1->autogluon.timeseries[all]==0.6.0->autogluon) (1.2.13)\n",
            "Requirement already satisfied: numba>=0.53 in /usr/local/lib/python3.8/dist-packages (from sktime<0.14,>=0.13.1->autogluon.timeseries[all]==0.6.0->autogluon) (0.56.4)\n",
            "Requirement already satisfied: wrapt<2,>=1.10 in /usr/local/lib/python3.8/dist-packages (from deprecated>=1.2.13->sktime<0.14,>=0.13.1->autogluon.timeseries[all]==0.6.0->autogluon) (1.14.1)\n",
            "Requirement already satisfied: llvmlite<0.40,>=0.39.0dev0 in /usr/local/lib/python3.8/dist-packages (from numba>=0.53->sktime<0.14,>=0.13.1->autogluon.timeseries[all]==0.6.0->autogluon) (0.39.1)\n",
            "Requirement already satisfied: importlib-metadata in /usr/local/lib/python3.8/dist-packages (from numba>=0.53->sktime<0.14,>=0.13.1->autogluon.timeseries[all]==0.6.0->autogluon) (4.13.0)\n",
            "Requirement already satisfied: murmurhash<1.1.0,>=0.28.0 in /usr/local/lib/python3.8/dist-packages (from spacy<4->fastai<2.8,>=2.3.1->autogluon.tabular[all]==0.6.0->autogluon) (1.0.9)\n",
            "Requirement already satisfied: cymem<2.1.0,>=2.0.2 in /usr/local/lib/python3.8/dist-packages (from spacy<4->fastai<2.8,>=2.3.1->autogluon.tabular[all]==0.6.0->autogluon) (2.0.7)\n",
            "Requirement already satisfied: typer<0.8.0,>=0.3.0 in /usr/local/lib/python3.8/dist-packages (from spacy<4->fastai<2.8,>=2.3.1->autogluon.tabular[all]==0.6.0->autogluon) (0.7.0)\n",
            "Requirement already satisfied: spacy-loggers<2.0.0,>=1.0.0 in /usr/local/lib/python3.8/dist-packages (from spacy<4->fastai<2.8,>=2.3.1->autogluon.tabular[all]==0.6.0->autogluon) (1.0.3)\n",
            "Requirement already satisfied: pathy>=0.3.5 in /usr/local/lib/python3.8/dist-packages (from spacy<4->fastai<2.8,>=2.3.1->autogluon.tabular[all]==0.6.0->autogluon) (0.10.0)\n",
            "Requirement already satisfied: thinc<8.2.0,>=8.1.0 in /usr/local/lib/python3.8/dist-packages (from spacy<4->fastai<2.8,>=2.3.1->autogluon.tabular[all]==0.6.0->autogluon) (8.1.5)\n",
            "Requirement already satisfied: preshed<3.1.0,>=3.0.2 in /usr/local/lib/python3.8/dist-packages (from spacy<4->fastai<2.8,>=2.3.1->autogluon.tabular[all]==0.6.0->autogluon) (3.0.8)\n",
            "Requirement already satisfied: catalogue<2.1.0,>=2.0.6 in /usr/local/lib/python3.8/dist-packages (from spacy<4->fastai<2.8,>=2.3.1->autogluon.tabular[all]==0.6.0->autogluon) (2.0.8)\n",
            "Requirement already satisfied: spacy-legacy<3.1.0,>=3.0.10 in /usr/local/lib/python3.8/dist-packages (from spacy<4->fastai<2.8,>=2.3.1->autogluon.tabular[all]==0.6.0->autogluon) (3.0.10)\n",
            "Requirement already satisfied: langcodes<4.0.0,>=3.2.0 in /usr/local/lib/python3.8/dist-packages (from spacy<4->fastai<2.8,>=2.3.1->autogluon.tabular[all]==0.6.0->autogluon) (3.3.0)\n",
            "Requirement already satisfied: wasabi<1.1.0,>=0.9.1 in /usr/local/lib/python3.8/dist-packages (from spacy<4->fastai<2.8,>=2.3.1->autogluon.tabular[all]==0.6.0->autogluon) (0.10.1)\n",
            "Requirement already satisfied: srsly<3.0.0,>=2.4.3 in /usr/local/lib/python3.8/dist-packages (from spacy<4->fastai<2.8,>=2.3.1->autogluon.tabular[all]==0.6.0->autogluon) (2.4.5)\n",
            "Requirement already satisfied: patsy>=0.5.2 in /usr/local/lib/python3.8/dist-packages (from statsmodels~=0.13.0->autogluon.timeseries[all]==0.6.0->autogluon) (0.5.3)\n",
            "Requirement already satisfied: tensorboard-data-server<0.7.0,>=0.6.0 in /usr/local/lib/python3.8/dist-packages (from tensorboard>=2.9.1->pytorch-lightning<1.8.0,>=1.7.4->autogluon.multimodal==0.6.0->autogluon) (0.6.1)\n",
            "Requirement already satisfied: absl-py>=0.4 in /usr/local/lib/python3.8/dist-packages (from tensorboard>=2.9.1->pytorch-lightning<1.8.0,>=1.7.4->autogluon.multimodal==0.6.0->autogluon) (1.3.0)\n",
            "Requirement already satisfied: google-auth-oauthlib<0.5,>=0.4.1 in /usr/local/lib/python3.8/dist-packages (from tensorboard>=2.9.1->pytorch-lightning<1.8.0,>=1.7.4->autogluon.multimodal==0.6.0->autogluon) (0.4.6)\n",
            "Requirement already satisfied: werkzeug>=1.0.1 in /usr/local/lib/python3.8/dist-packages (from tensorboard>=2.9.1->pytorch-lightning<1.8.0,>=1.7.4->autogluon.multimodal==0.6.0->autogluon) (1.0.1)\n",
            "Requirement already satisfied: tensorboard-plugin-wit>=1.6.0 in /usr/local/lib/python3.8/dist-packages (from tensorboard>=2.9.1->pytorch-lightning<1.8.0,>=1.7.4->autogluon.multimodal==0.6.0->autogluon) (1.8.1)\n",
            "Requirement already satisfied: google-auth<3,>=1.6.3 in /usr/local/lib/python3.8/dist-packages (from tensorboard>=2.9.1->pytorch-lightning<1.8.0,>=1.7.4->autogluon.multimodal==0.6.0->autogluon) (2.15.0)\n",
            "Requirement already satisfied: markdown>=2.6.8 in /usr/local/lib/python3.8/dist-packages (from tensorboard>=2.9.1->pytorch-lightning<1.8.0,>=1.7.4->autogluon.multimodal==0.6.0->autogluon) (3.4.1)\n",
            "Requirement already satisfied: rsa<5,>=3.1.4 in /usr/local/lib/python3.8/dist-packages (from google-auth<3,>=1.6.3->tensorboard>=2.9.1->pytorch-lightning<1.8.0,>=1.7.4->autogluon.multimodal==0.6.0->autogluon) (4.9)\n",
            "Requirement already satisfied: pyasn1-modules>=0.2.1 in /usr/local/lib/python3.8/dist-packages (from google-auth<3,>=1.6.3->tensorboard>=2.9.1->pytorch-lightning<1.8.0,>=1.7.4->autogluon.multimodal==0.6.0->autogluon) (0.2.8)\n",
            "Requirement already satisfied: cachetools<6.0,>=2.0.0 in /usr/local/lib/python3.8/dist-packages (from google-auth<3,>=1.6.3->tensorboard>=2.9.1->pytorch-lightning<1.8.0,>=1.7.4->autogluon.multimodal==0.6.0->autogluon) (5.2.0)\n",
            "Requirement already satisfied: requests-oauthlib>=0.7.0 in /usr/local/lib/python3.8/dist-packages (from google-auth-oauthlib<0.5,>=0.4.1->tensorboard>=2.9.1->pytorch-lightning<1.8.0,>=1.7.4->autogluon.multimodal==0.6.0->autogluon) (1.3.1)\n",
            "Requirement already satisfied: pyasn1<0.5.0,>=0.4.6 in /usr/local/lib/python3.8/dist-packages (from pyasn1-modules>=0.2.1->google-auth<3,>=1.6.3->tensorboard>=2.9.1->pytorch-lightning<1.8.0,>=1.7.4->autogluon.multimodal==0.6.0->autogluon) (0.4.8)\n",
            "Requirement already satisfied: oauthlib>=3.0.0 in /usr/local/lib/python3.8/dist-packages (from requests-oauthlib>=0.7.0->google-auth-oauthlib<0.5,>=0.4.1->tensorboard>=2.9.1->pytorch-lightning<1.8.0,>=1.7.4->autogluon.multimodal==0.6.0->autogluon) (3.2.2)\n",
            "Requirement already satisfied: confection<1.0.0,>=0.0.1 in /usr/local/lib/python3.8/dist-packages (from thinc<8.2.0,>=8.1.0->spacy<4->fastai<2.8,>=2.3.1->autogluon.tabular[all]==0.6.0->autogluon) (0.0.3)\n",
            "Requirement already satisfied: blis<0.8.0,>=0.7.8 in /usr/local/lib/python3.8/dist-packages (from thinc<8.2.0,>=8.1.0->spacy<4->fastai<2.8,>=2.3.1->autogluon.tabular[all]==0.6.0->autogluon) (0.7.9)\n",
            "Requirement already satisfied: tokenizers!=0.11.3,<0.14,>=0.11.1 in /usr/local/lib/python3.8/dist-packages (from transformers<4.24.0,>=4.23.0->autogluon.multimodal==0.6.0->autogluon) (0.13.2)\n",
            "Requirement already satisfied: heapdict in /usr/local/lib/python3.8/dist-packages (from zict>=0.1.3->distributed<=2021.11.2,>=2021.09.1->autogluon.core[all]==0.6.0->autogluon) (1.0.1)\n",
            "Requirement already satisfied: jmespath<2.0.0,>=0.7.1 in /usr/local/lib/python3.8/dist-packages (from boto3->autogluon.core[all]==0.6.0->autogluon) (1.0.1)\n",
            "Requirement already satisfied: s3transfer<0.7.0,>=0.6.0 in /usr/local/lib/python3.8/dist-packages (from boto3->autogluon.core[all]==0.6.0->autogluon) (0.6.0)\n",
            "Requirement already satisfied: botocore<1.30.0,>=1.29.27 in /usr/local/lib/python3.8/dist-packages (from boto3->autogluon.core[all]==0.6.0->autogluon) (1.29.27)\n",
            "Requirement already satisfied: MarkupSafe>=0.23 in /usr/local/lib/python3.8/dist-packages (from jinja2->distributed<=2021.11.2,>=2021.09.1->autogluon.core[all]==0.6.0->autogluon) (2.0.1)\n",
            "Requirement already satisfied: ordered-set in /usr/local/lib/python3.8/dist-packages (from model-index->openmim<=0.2.1,>0.1.5->autogluon.multimodal==0.6.0->autogluon) (4.1.0)\n",
            "Requirement already satisfied: tenacity>=6.2.0 in /usr/local/lib/python3.8/dist-packages (from plotly->catboost<1.2,>=1.0->autogluon.tabular[all]==0.6.0->autogluon) (8.1.0)\n",
            "Requirement already satisfied: pygments<3.0.0,>=2.6.0 in /usr/local/lib/python3.8/dist-packages (from rich->openmim<=0.2.1,>0.1.5->autogluon.multimodal==0.6.0->autogluon) (2.6.1)\n",
            "Requirement already satisfied: commonmark<0.10.0,>=0.9.0 in /usr/local/lib/python3.8/dist-packages (from rich->openmim<=0.2.1,>0.1.5->autogluon.multimodal==0.6.0->autogluon) (0.9.1)\n",
            "Requirement already satisfied: platformdirs<3,>=2.4 in /usr/local/lib/python3.8/dist-packages (from virtualenv->ray<2.1,>=2.0->autogluon.core[all]==0.6.0->autogluon) (2.5.4)\n",
            "Requirement already satisfied: distlib<1,>=0.3.6 in /usr/local/lib/python3.8/dist-packages (from virtualenv->ray<2.1,>=2.0->autogluon.core[all]==0.6.0->autogluon) (0.3.6)\n"
          ]
        }
      ]
    },
    {
      "cell_type": "code",
      "source": [
        "from autogluon.tabular import TabularDataset, TabularPredictor"
      ],
      "metadata": {
        "id": "NcPjkeJENu5C"
      },
      "execution_count": 210,
      "outputs": []
    },
    {
      "cell_type": "code",
      "source": [
        "train_df = pd.DataFrame(X_train)\n",
        "train_df['target'] = y_train.values\n",
        "\n",
        "test_df = pd.DataFrame(X_test)\n",
        "test_df['target'] = y_test.values"
      ],
      "metadata": {
        "id": "8FeMTI9MOM9A"
      },
      "execution_count": 211,
      "outputs": []
    },
    {
      "cell_type": "code",
      "source": [
        "train_data = TabularDataset(train_df)\n",
        "test_data = TabularDataset(test_df)"
      ],
      "metadata": {
        "id": "NQIypvvAQh_p"
      },
      "execution_count": 212,
      "outputs": []
    },
    {
      "cell_type": "code",
      "source": [
        "predictor = TabularPredictor(\n",
        "    path='AutogluonModels/classifier',\n",
        "    label='target'\n",
        ").fit(train_data)\n",
        "\n",
        "# predictor = TabularPredictor.load(\"AutogluonModels/classifier/\")"
      ],
      "metadata": {
        "id": "8L5QJrfCQln0",
        "colab": {
          "base_uri": "https://localhost:8080/"
        },
        "outputId": "394abdf9-e47e-4a5a-adfe-ce02060bb671"
      },
      "execution_count": 213,
      "outputs": [
        {
          "output_type": "stream",
          "name": "stderr",
          "text": [
            "Warning: path already exists! This predictor may overwrite an existing predictor! path=\"AutogluonModels/classifier\"\n",
            "Beginning AutoGluon training ...\n",
            "AutoGluon will save models to \"AutogluonModels/classifier/\"\n",
            "AutoGluon Version:  0.6.0\n",
            "Python Version:     3.8.16\n",
            "Operating System:   Linux\n",
            "Platform Machine:   x86_64\n",
            "Platform Version:   #1 SMP Fri Aug 26 08:44:51 UTC 2022\n",
            "Train Data Rows:    916\n",
            "Train Data Columns: 1\n",
            "Label Column: target\n",
            "Preprocessing data ...\n",
            "AutoGluon infers your prediction problem is: 'binary' (because only two unique label-values observed).\n",
            "\t2 unique label values:  [0, 1]\n",
            "\tIf 'binary' is not the correct problem_type, please manually specify the problem_type parameter during predictor init (You may specify problem_type as one of: ['binary', 'multiclass', 'regression'])\n",
            "Selected class <--> label mapping:  class 1 = 1, class 0 = 0\n",
            "Using Feature Generators to preprocess the data ...\n",
            "Fitting AutoMLPipelineFeatureGenerator...\n",
            "\tAvailable Memory:                    11551.38 MB\n",
            "\tTrain Data (Original)  Memory Usage: 0.01 MB (0.0% of available memory)\n",
            "\tInferring data type of each feature based on column values. Set feature_metadata_in to manually specify special dtypes of the features.\n",
            "\tStage 1 Generators:\n",
            "\t\tFitting AsTypeFeatureGenerator...\n",
            "\tStage 2 Generators:\n",
            "\t\tFitting FillNaFeatureGenerator...\n",
            "\tStage 3 Generators:\n",
            "\t\tFitting IdentityFeatureGenerator...\n",
            "\tStage 4 Generators:\n",
            "\t\tFitting DropUniqueFeatureGenerator...\n",
            "\tTypes of features in original data (raw dtype, special dtypes):\n",
            "\t\t('float', []) : 1 | ['0']\n",
            "\tTypes of features in processed data (raw dtype, special dtypes):\n",
            "\t\t('float', []) : 1 | ['0']\n",
            "\t0.0s = Fit runtime\n",
            "\t1 features in original data used to generate 1 features in processed data.\n",
            "\tTrain Data (Processed) Memory Usage: 0.01 MB (0.0% of available memory)\n",
            "Data preprocessing and feature engineering runtime = 0.06s ...\n",
            "AutoGluon will gauge predictive performance using evaluation metric: 'accuracy'\n",
            "\tTo change this, specify the eval_metric parameter of Predictor()\n",
            "Automatically generating train/validation split with holdout_frac=0.2, Train Rows: 732, Val Rows: 184\n",
            "Fitting 13 L1 models ...\n",
            "Fitting model: KNeighborsUnif ...\n",
            "\t0.5163\t = Validation score   (accuracy)\n",
            "\t0.01s\t = Training   runtime\n",
            "\t0.03s\t = Validation runtime\n",
            "Fitting model: KNeighborsDist ...\n",
            "\t0.4946\t = Validation score   (accuracy)\n",
            "\t0.01s\t = Training   runtime\n",
            "\t0.01s\t = Validation runtime\n",
            "Fitting model: LightGBMXT ...\n",
            "\t0.5435\t = Validation score   (accuracy)\n",
            "\t0.51s\t = Training   runtime\n",
            "\t0.0s\t = Validation runtime\n",
            "Fitting model: LightGBM ...\n",
            "\t0.5598\t = Validation score   (accuracy)\n",
            "\t0.36s\t = Training   runtime\n",
            "\t0.0s\t = Validation runtime\n",
            "Fitting model: RandomForestGini ...\n",
            "\t0.5\t = Validation score   (accuracy)\n",
            "\t1.02s\t = Training   runtime\n",
            "\t0.09s\t = Validation runtime\n",
            "Fitting model: RandomForestEntr ...\n",
            "\t0.5\t = Validation score   (accuracy)\n",
            "\t1.31s\t = Training   runtime\n",
            "\t0.08s\t = Validation runtime\n",
            "Fitting model: CatBoost ...\n",
            "\t0.5761\t = Validation score   (accuracy)\n",
            "\t0.56s\t = Training   runtime\n",
            "\t0.01s\t = Validation runtime\n",
            "Fitting model: ExtraTreesGini ...\n",
            "\t0.4837\t = Validation score   (accuracy)\n",
            "\t0.98s\t = Training   runtime\n",
            "\t0.09s\t = Validation runtime\n",
            "Fitting model: ExtraTreesEntr ...\n",
            "\t0.4837\t = Validation score   (accuracy)\n",
            "\t0.96s\t = Training   runtime\n",
            "\t0.15s\t = Validation runtime\n",
            "Fitting model: NeuralNetFastAI ...\n",
            "No improvement since epoch 6: early stopping\n",
            "\t0.5435\t = Validation score   (accuracy)\n",
            "\t1.48s\t = Training   runtime\n",
            "\t0.01s\t = Validation runtime\n",
            "Fitting model: XGBoost ...\n",
            "\t0.5598\t = Validation score   (accuracy)\n",
            "\t0.61s\t = Training   runtime\n",
            "\t0.04s\t = Validation runtime\n",
            "Fitting model: NeuralNetTorch ...\n",
            "\t0.5652\t = Validation score   (accuracy)\n",
            "\t2.25s\t = Training   runtime\n",
            "\t0.01s\t = Validation runtime\n",
            "Fitting model: LightGBMLarge ...\n",
            "\t0.5489\t = Validation score   (accuracy)\n",
            "\t0.76s\t = Training   runtime\n",
            "\t0.02s\t = Validation runtime\n",
            "Fitting model: WeightedEnsemble_L2 ...\n",
            "\t0.5761\t = Validation score   (accuracy)\n",
            "\t0.84s\t = Training   runtime\n",
            "\t0.0s\t = Validation runtime\n",
            "AutoGluon training complete, total runtime = 12.86s ... Best model: \"WeightedEnsemble_L2\"\n",
            "TabularPredictor saved. To load, use: predictor = TabularPredictor.load(\"AutogluonModels/classifier/\")\n"
          ]
        }
      ]
    },
    {
      "cell_type": "code",
      "source": [
        "predictor = TabularPredictor.load(\"AutogluonModels/classifier/\")"
      ],
      "metadata": {
        "id": "LK0AOSN2Z21X"
      },
      "execution_count": 214,
      "outputs": []
    },
    {
      "cell_type": "code",
      "source": [
        "# reference: https://auto.gluon.ai/stable/cheatsheet.html\n",
        "predictor.leaderboard(silent=True, data=test_data,extra_metrics=['accuracy','precision','recall','acc','f1'])"
      ],
      "metadata": {
        "id": "WNO4QUP5Qnl6",
        "colab": {
          "base_uri": "https://localhost:8080/",
          "height": 552
        },
        "outputId": "d8411ca6-da76-4bdf-8a22-3a45d4e0a1ae"
      },
      "execution_count": 215,
      "outputs": [
        {
          "output_type": "execute_result",
          "data": {
            "text/plain": [
              "                  model  score_test  accuracy  precision    recall        f1  \\\n",
              "0              LightGBM    0.580786  0.580786   0.567398  0.770213  0.653430   \n",
              "1        NeuralNetTorch    0.539301  0.539301   0.529703  0.910638  0.669797   \n",
              "2       NeuralNetFastAI    0.537118  0.537118   0.529412  0.880851  0.661342   \n",
              "3            LightGBMXT    0.532751  0.532751   0.525060  0.936170  0.672783   \n",
              "4              CatBoost    0.532751  0.532751   0.526854  0.876596  0.658147   \n",
              "5   WeightedEnsemble_L2    0.532751  0.532751   0.526854  0.876596  0.658147   \n",
              "6        ExtraTreesGini    0.515284  0.515284   0.522648  0.638298  0.574713   \n",
              "7      RandomForestGini    0.510917  0.510917   0.520295  0.600000  0.557312   \n",
              "8      RandomForestEntr    0.510917  0.510917   0.520295  0.600000  0.557312   \n",
              "9        ExtraTreesEntr    0.504367  0.504367   0.513889  0.629787  0.565966   \n",
              "10        LightGBMLarge    0.497817  0.497817   0.510121  0.536170  0.522822   \n",
              "11       KNeighborsDist    0.493450  0.493450   0.504950  0.651064  0.568773   \n",
              "12       KNeighborsUnif    0.486900  0.486900   0.500000  0.651064  0.565619   \n",
              "13              XGBoost    0.469432  0.469432   0.486928  0.634043  0.550832   \n",
              "\n",
              "    score_val  pred_time_test  pred_time_val  fit_time  \\\n",
              "0    0.559783        0.002295       0.002552  0.361405   \n",
              "1    0.565217        0.012053       0.008122  2.252262   \n",
              "2    0.543478        0.024797       0.012345  1.475892   \n",
              "3    0.543478        0.002042       0.002895  0.507919   \n",
              "4    0.576087        0.003573       0.005949  0.563479   \n",
              "5    0.576087        0.005187       0.007011  1.405278   \n",
              "6    0.483696        0.193824       0.094646  0.982834   \n",
              "7    0.500000        0.145356       0.085413  1.019520   \n",
              "8    0.500000        0.189963       0.075144  1.306612   \n",
              "9    0.483696        0.164929       0.153289  0.958789   \n",
              "10   0.548913        0.005488       0.024420  0.757318   \n",
              "11   0.494565        0.003361       0.011257  0.005533   \n",
              "12   0.516304        0.004238       0.031095  0.012525   \n",
              "13   0.559783        0.035990       0.040978  0.612353   \n",
              "\n",
              "    pred_time_test_marginal  pred_time_val_marginal  fit_time_marginal  \\\n",
              "0                  0.002295                0.002552           0.361405   \n",
              "1                  0.012053                0.008122           2.252262   \n",
              "2                  0.024797                0.012345           1.475892   \n",
              "3                  0.002042                0.002895           0.507919   \n",
              "4                  0.003573                0.005949           0.563479   \n",
              "5                  0.001615                0.001062           0.841800   \n",
              "6                  0.193824                0.094646           0.982834   \n",
              "7                  0.145356                0.085413           1.019520   \n",
              "8                  0.189963                0.075144           1.306612   \n",
              "9                  0.164929                0.153289           0.958789   \n",
              "10                 0.005488                0.024420           0.757318   \n",
              "11                 0.003361                0.011257           0.005533   \n",
              "12                 0.004238                0.031095           0.012525   \n",
              "13                 0.035990                0.040978           0.612353   \n",
              "\n",
              "    stack_level  can_infer  fit_order  \n",
              "0             1       True          4  \n",
              "1             1       True         12  \n",
              "2             1       True         10  \n",
              "3             1       True          3  \n",
              "4             1       True          7  \n",
              "5             2       True         14  \n",
              "6             1       True          8  \n",
              "7             1       True          5  \n",
              "8             1       True          6  \n",
              "9             1       True          9  \n",
              "10            1       True         13  \n",
              "11            1       True          2  \n",
              "12            1       True          1  \n",
              "13            1       True         11  "
            ],
            "text/html": [
              "\n",
              "  <div id=\"df-c18a3d43-730b-4d96-926f-3e6d31e40f32\">\n",
              "    <div class=\"colab-df-container\">\n",
              "      <div>\n",
              "<style scoped>\n",
              "    .dataframe tbody tr th:only-of-type {\n",
              "        vertical-align: middle;\n",
              "    }\n",
              "\n",
              "    .dataframe tbody tr th {\n",
              "        vertical-align: top;\n",
              "    }\n",
              "\n",
              "    .dataframe thead th {\n",
              "        text-align: right;\n",
              "    }\n",
              "</style>\n",
              "<table border=\"1\" class=\"dataframe\">\n",
              "  <thead>\n",
              "    <tr style=\"text-align: right;\">\n",
              "      <th></th>\n",
              "      <th>model</th>\n",
              "      <th>score_test</th>\n",
              "      <th>accuracy</th>\n",
              "      <th>precision</th>\n",
              "      <th>recall</th>\n",
              "      <th>f1</th>\n",
              "      <th>score_val</th>\n",
              "      <th>pred_time_test</th>\n",
              "      <th>pred_time_val</th>\n",
              "      <th>fit_time</th>\n",
              "      <th>pred_time_test_marginal</th>\n",
              "      <th>pred_time_val_marginal</th>\n",
              "      <th>fit_time_marginal</th>\n",
              "      <th>stack_level</th>\n",
              "      <th>can_infer</th>\n",
              "      <th>fit_order</th>\n",
              "    </tr>\n",
              "  </thead>\n",
              "  <tbody>\n",
              "    <tr>\n",
              "      <th>0</th>\n",
              "      <td>LightGBM</td>\n",
              "      <td>0.580786</td>\n",
              "      <td>0.580786</td>\n",
              "      <td>0.567398</td>\n",
              "      <td>0.770213</td>\n",
              "      <td>0.653430</td>\n",
              "      <td>0.559783</td>\n",
              "      <td>0.002295</td>\n",
              "      <td>0.002552</td>\n",
              "      <td>0.361405</td>\n",
              "      <td>0.002295</td>\n",
              "      <td>0.002552</td>\n",
              "      <td>0.361405</td>\n",
              "      <td>1</td>\n",
              "      <td>True</td>\n",
              "      <td>4</td>\n",
              "    </tr>\n",
              "    <tr>\n",
              "      <th>1</th>\n",
              "      <td>NeuralNetTorch</td>\n",
              "      <td>0.539301</td>\n",
              "      <td>0.539301</td>\n",
              "      <td>0.529703</td>\n",
              "      <td>0.910638</td>\n",
              "      <td>0.669797</td>\n",
              "      <td>0.565217</td>\n",
              "      <td>0.012053</td>\n",
              "      <td>0.008122</td>\n",
              "      <td>2.252262</td>\n",
              "      <td>0.012053</td>\n",
              "      <td>0.008122</td>\n",
              "      <td>2.252262</td>\n",
              "      <td>1</td>\n",
              "      <td>True</td>\n",
              "      <td>12</td>\n",
              "    </tr>\n",
              "    <tr>\n",
              "      <th>2</th>\n",
              "      <td>NeuralNetFastAI</td>\n",
              "      <td>0.537118</td>\n",
              "      <td>0.537118</td>\n",
              "      <td>0.529412</td>\n",
              "      <td>0.880851</td>\n",
              "      <td>0.661342</td>\n",
              "      <td>0.543478</td>\n",
              "      <td>0.024797</td>\n",
              "      <td>0.012345</td>\n",
              "      <td>1.475892</td>\n",
              "      <td>0.024797</td>\n",
              "      <td>0.012345</td>\n",
              "      <td>1.475892</td>\n",
              "      <td>1</td>\n",
              "      <td>True</td>\n",
              "      <td>10</td>\n",
              "    </tr>\n",
              "    <tr>\n",
              "      <th>3</th>\n",
              "      <td>LightGBMXT</td>\n",
              "      <td>0.532751</td>\n",
              "      <td>0.532751</td>\n",
              "      <td>0.525060</td>\n",
              "      <td>0.936170</td>\n",
              "      <td>0.672783</td>\n",
              "      <td>0.543478</td>\n",
              "      <td>0.002042</td>\n",
              "      <td>0.002895</td>\n",
              "      <td>0.507919</td>\n",
              "      <td>0.002042</td>\n",
              "      <td>0.002895</td>\n",
              "      <td>0.507919</td>\n",
              "      <td>1</td>\n",
              "      <td>True</td>\n",
              "      <td>3</td>\n",
              "    </tr>\n",
              "    <tr>\n",
              "      <th>4</th>\n",
              "      <td>CatBoost</td>\n",
              "      <td>0.532751</td>\n",
              "      <td>0.532751</td>\n",
              "      <td>0.526854</td>\n",
              "      <td>0.876596</td>\n",
              "      <td>0.658147</td>\n",
              "      <td>0.576087</td>\n",
              "      <td>0.003573</td>\n",
              "      <td>0.005949</td>\n",
              "      <td>0.563479</td>\n",
              "      <td>0.003573</td>\n",
              "      <td>0.005949</td>\n",
              "      <td>0.563479</td>\n",
              "      <td>1</td>\n",
              "      <td>True</td>\n",
              "      <td>7</td>\n",
              "    </tr>\n",
              "    <tr>\n",
              "      <th>5</th>\n",
              "      <td>WeightedEnsemble_L2</td>\n",
              "      <td>0.532751</td>\n",
              "      <td>0.532751</td>\n",
              "      <td>0.526854</td>\n",
              "      <td>0.876596</td>\n",
              "      <td>0.658147</td>\n",
              "      <td>0.576087</td>\n",
              "      <td>0.005187</td>\n",
              "      <td>0.007011</td>\n",
              "      <td>1.405278</td>\n",
              "      <td>0.001615</td>\n",
              "      <td>0.001062</td>\n",
              "      <td>0.841800</td>\n",
              "      <td>2</td>\n",
              "      <td>True</td>\n",
              "      <td>14</td>\n",
              "    </tr>\n",
              "    <tr>\n",
              "      <th>6</th>\n",
              "      <td>ExtraTreesGini</td>\n",
              "      <td>0.515284</td>\n",
              "      <td>0.515284</td>\n",
              "      <td>0.522648</td>\n",
              "      <td>0.638298</td>\n",
              "      <td>0.574713</td>\n",
              "      <td>0.483696</td>\n",
              "      <td>0.193824</td>\n",
              "      <td>0.094646</td>\n",
              "      <td>0.982834</td>\n",
              "      <td>0.193824</td>\n",
              "      <td>0.094646</td>\n",
              "      <td>0.982834</td>\n",
              "      <td>1</td>\n",
              "      <td>True</td>\n",
              "      <td>8</td>\n",
              "    </tr>\n",
              "    <tr>\n",
              "      <th>7</th>\n",
              "      <td>RandomForestGini</td>\n",
              "      <td>0.510917</td>\n",
              "      <td>0.510917</td>\n",
              "      <td>0.520295</td>\n",
              "      <td>0.600000</td>\n",
              "      <td>0.557312</td>\n",
              "      <td>0.500000</td>\n",
              "      <td>0.145356</td>\n",
              "      <td>0.085413</td>\n",
              "      <td>1.019520</td>\n",
              "      <td>0.145356</td>\n",
              "      <td>0.085413</td>\n",
              "      <td>1.019520</td>\n",
              "      <td>1</td>\n",
              "      <td>True</td>\n",
              "      <td>5</td>\n",
              "    </tr>\n",
              "    <tr>\n",
              "      <th>8</th>\n",
              "      <td>RandomForestEntr</td>\n",
              "      <td>0.510917</td>\n",
              "      <td>0.510917</td>\n",
              "      <td>0.520295</td>\n",
              "      <td>0.600000</td>\n",
              "      <td>0.557312</td>\n",
              "      <td>0.500000</td>\n",
              "      <td>0.189963</td>\n",
              "      <td>0.075144</td>\n",
              "      <td>1.306612</td>\n",
              "      <td>0.189963</td>\n",
              "      <td>0.075144</td>\n",
              "      <td>1.306612</td>\n",
              "      <td>1</td>\n",
              "      <td>True</td>\n",
              "      <td>6</td>\n",
              "    </tr>\n",
              "    <tr>\n",
              "      <th>9</th>\n",
              "      <td>ExtraTreesEntr</td>\n",
              "      <td>0.504367</td>\n",
              "      <td>0.504367</td>\n",
              "      <td>0.513889</td>\n",
              "      <td>0.629787</td>\n",
              "      <td>0.565966</td>\n",
              "      <td>0.483696</td>\n",
              "      <td>0.164929</td>\n",
              "      <td>0.153289</td>\n",
              "      <td>0.958789</td>\n",
              "      <td>0.164929</td>\n",
              "      <td>0.153289</td>\n",
              "      <td>0.958789</td>\n",
              "      <td>1</td>\n",
              "      <td>True</td>\n",
              "      <td>9</td>\n",
              "    </tr>\n",
              "    <tr>\n",
              "      <th>10</th>\n",
              "      <td>LightGBMLarge</td>\n",
              "      <td>0.497817</td>\n",
              "      <td>0.497817</td>\n",
              "      <td>0.510121</td>\n",
              "      <td>0.536170</td>\n",
              "      <td>0.522822</td>\n",
              "      <td>0.548913</td>\n",
              "      <td>0.005488</td>\n",
              "      <td>0.024420</td>\n",
              "      <td>0.757318</td>\n",
              "      <td>0.005488</td>\n",
              "      <td>0.024420</td>\n",
              "      <td>0.757318</td>\n",
              "      <td>1</td>\n",
              "      <td>True</td>\n",
              "      <td>13</td>\n",
              "    </tr>\n",
              "    <tr>\n",
              "      <th>11</th>\n",
              "      <td>KNeighborsDist</td>\n",
              "      <td>0.493450</td>\n",
              "      <td>0.493450</td>\n",
              "      <td>0.504950</td>\n",
              "      <td>0.651064</td>\n",
              "      <td>0.568773</td>\n",
              "      <td>0.494565</td>\n",
              "      <td>0.003361</td>\n",
              "      <td>0.011257</td>\n",
              "      <td>0.005533</td>\n",
              "      <td>0.003361</td>\n",
              "      <td>0.011257</td>\n",
              "      <td>0.005533</td>\n",
              "      <td>1</td>\n",
              "      <td>True</td>\n",
              "      <td>2</td>\n",
              "    </tr>\n",
              "    <tr>\n",
              "      <th>12</th>\n",
              "      <td>KNeighborsUnif</td>\n",
              "      <td>0.486900</td>\n",
              "      <td>0.486900</td>\n",
              "      <td>0.500000</td>\n",
              "      <td>0.651064</td>\n",
              "      <td>0.565619</td>\n",
              "      <td>0.516304</td>\n",
              "      <td>0.004238</td>\n",
              "      <td>0.031095</td>\n",
              "      <td>0.012525</td>\n",
              "      <td>0.004238</td>\n",
              "      <td>0.031095</td>\n",
              "      <td>0.012525</td>\n",
              "      <td>1</td>\n",
              "      <td>True</td>\n",
              "      <td>1</td>\n",
              "    </tr>\n",
              "    <tr>\n",
              "      <th>13</th>\n",
              "      <td>XGBoost</td>\n",
              "      <td>0.469432</td>\n",
              "      <td>0.469432</td>\n",
              "      <td>0.486928</td>\n",
              "      <td>0.634043</td>\n",
              "      <td>0.550832</td>\n",
              "      <td>0.559783</td>\n",
              "      <td>0.035990</td>\n",
              "      <td>0.040978</td>\n",
              "      <td>0.612353</td>\n",
              "      <td>0.035990</td>\n",
              "      <td>0.040978</td>\n",
              "      <td>0.612353</td>\n",
              "      <td>1</td>\n",
              "      <td>True</td>\n",
              "      <td>11</td>\n",
              "    </tr>\n",
              "  </tbody>\n",
              "</table>\n",
              "</div>\n",
              "      <button class=\"colab-df-convert\" onclick=\"convertToInteractive('df-c18a3d43-730b-4d96-926f-3e6d31e40f32')\"\n",
              "              title=\"Convert this dataframe to an interactive table.\"\n",
              "              style=\"display:none;\">\n",
              "        \n",
              "  <svg xmlns=\"http://www.w3.org/2000/svg\" height=\"24px\"viewBox=\"0 0 24 24\"\n",
              "       width=\"24px\">\n",
              "    <path d=\"M0 0h24v24H0V0z\" fill=\"none\"/>\n",
              "    <path d=\"M18.56 5.44l.94 2.06.94-2.06 2.06-.94-2.06-.94-.94-2.06-.94 2.06-2.06.94zm-11 1L8.5 8.5l.94-2.06 2.06-.94-2.06-.94L8.5 2.5l-.94 2.06-2.06.94zm10 10l.94 2.06.94-2.06 2.06-.94-2.06-.94-.94-2.06-.94 2.06-2.06.94z\"/><path d=\"M17.41 7.96l-1.37-1.37c-.4-.4-.92-.59-1.43-.59-.52 0-1.04.2-1.43.59L10.3 9.45l-7.72 7.72c-.78.78-.78 2.05 0 2.83L4 21.41c.39.39.9.59 1.41.59.51 0 1.02-.2 1.41-.59l7.78-7.78 2.81-2.81c.8-.78.8-2.07 0-2.86zM5.41 20L4 18.59l7.72-7.72 1.47 1.35L5.41 20z\"/>\n",
              "  </svg>\n",
              "      </button>\n",
              "      \n",
              "  <style>\n",
              "    .colab-df-container {\n",
              "      display:flex;\n",
              "      flex-wrap:wrap;\n",
              "      gap: 12px;\n",
              "    }\n",
              "\n",
              "    .colab-df-convert {\n",
              "      background-color: #E8F0FE;\n",
              "      border: none;\n",
              "      border-radius: 50%;\n",
              "      cursor: pointer;\n",
              "      display: none;\n",
              "      fill: #1967D2;\n",
              "      height: 32px;\n",
              "      padding: 0 0 0 0;\n",
              "      width: 32px;\n",
              "    }\n",
              "\n",
              "    .colab-df-convert:hover {\n",
              "      background-color: #E2EBFA;\n",
              "      box-shadow: 0px 1px 2px rgba(60, 64, 67, 0.3), 0px 1px 3px 1px rgba(60, 64, 67, 0.15);\n",
              "      fill: #174EA6;\n",
              "    }\n",
              "\n",
              "    [theme=dark] .colab-df-convert {\n",
              "      background-color: #3B4455;\n",
              "      fill: #D2E3FC;\n",
              "    }\n",
              "\n",
              "    [theme=dark] .colab-df-convert:hover {\n",
              "      background-color: #434B5C;\n",
              "      box-shadow: 0px 1px 3px 1px rgba(0, 0, 0, 0.15);\n",
              "      filter: drop-shadow(0px 1px 2px rgba(0, 0, 0, 0.3));\n",
              "      fill: #FFFFFF;\n",
              "    }\n",
              "  </style>\n",
              "\n",
              "      <script>\n",
              "        const buttonEl =\n",
              "          document.querySelector('#df-c18a3d43-730b-4d96-926f-3e6d31e40f32 button.colab-df-convert');\n",
              "        buttonEl.style.display =\n",
              "          google.colab.kernel.accessAllowed ? 'block' : 'none';\n",
              "\n",
              "        async function convertToInteractive(key) {\n",
              "          const element = document.querySelector('#df-c18a3d43-730b-4d96-926f-3e6d31e40f32');\n",
              "          const dataTable =\n",
              "            await google.colab.kernel.invokeFunction('convertToInteractive',\n",
              "                                                     [key], {});\n",
              "          if (!dataTable) return;\n",
              "\n",
              "          const docLinkHtml = 'Like what you see? Visit the ' +\n",
              "            '<a target=\"_blank\" href=https://colab.research.google.com/notebooks/data_table.ipynb>data table notebook</a>'\n",
              "            + ' to learn more about interactive tables.';\n",
              "          element.innerHTML = '';\n",
              "          dataTable['output_type'] = 'display_data';\n",
              "          await google.colab.output.renderOutput(dataTable, element);\n",
              "          const docLink = document.createElement('div');\n",
              "          docLink.innerHTML = docLinkHtml;\n",
              "          element.appendChild(docLink);\n",
              "        }\n",
              "      </script>\n",
              "    </div>\n",
              "  </div>\n",
              "  "
            ]
          },
          "metadata": {},
          "execution_count": 215
        }
      ]
    },
    {
      "cell_type": "markdown",
      "source": [
        "# Machine Learning Regression"
      ],
      "metadata": {
        "id": "6C17ZvIeZ-k8"
      }
    },
    {
      "cell_type": "markdown",
      "source": [
        "## important global packages"
      ],
      "metadata": {
        "id": "UyptqNIeYDfs"
      }
    },
    {
      "cell_type": "code",
      "source": [
        "from sklearn.metrics import r2_score"
      ],
      "metadata": {
        "id": "BtEJDcDQYCzm"
      },
      "execution_count": 216,
      "outputs": []
    },
    {
      "cell_type": "markdown",
      "source": [
        "## Define the Train and Test (X, y)"
      ],
      "metadata": {
        "id": "JfwTlp1ChEfQ"
      }
    },
    {
      "cell_type": "code",
      "source": [
        "R_train.head()"
      ],
      "metadata": {
        "id": "8T8GGHuhckiO",
        "colab": {
          "base_uri": "https://localhost:8080/",
          "height": 206
        },
        "outputId": "af9b05ea-270e-45f7-ee0e-ecdfd7a2e721"
      },
      "execution_count": 217,
      "outputs": [
        {
          "output_type": "execute_result",
          "data": {
            "text/plain": [
              "   Unnamed: 0       ROI  ROI_past_average10\n",
              "1           2 -0.286615            0.256252\n",
              "2           3 -0.020988           -0.015182\n",
              "3           4  0.639344           -0.017117\n",
              "4           5  0.293158            0.146998\n",
              "5           6 -0.343799            0.176230"
            ],
            "text/html": [
              "\n",
              "  <div id=\"df-c3731536-56e8-4c87-9937-3c541e1fc5b2\">\n",
              "    <div class=\"colab-df-container\">\n",
              "      <div>\n",
              "<style scoped>\n",
              "    .dataframe tbody tr th:only-of-type {\n",
              "        vertical-align: middle;\n",
              "    }\n",
              "\n",
              "    .dataframe tbody tr th {\n",
              "        vertical-align: top;\n",
              "    }\n",
              "\n",
              "    .dataframe thead th {\n",
              "        text-align: right;\n",
              "    }\n",
              "</style>\n",
              "<table border=\"1\" class=\"dataframe\">\n",
              "  <thead>\n",
              "    <tr style=\"text-align: right;\">\n",
              "      <th></th>\n",
              "      <th>Unnamed: 0</th>\n",
              "      <th>ROI</th>\n",
              "      <th>ROI_past_average10</th>\n",
              "    </tr>\n",
              "  </thead>\n",
              "  <tbody>\n",
              "    <tr>\n",
              "      <th>1</th>\n",
              "      <td>2</td>\n",
              "      <td>-0.286615</td>\n",
              "      <td>0.256252</td>\n",
              "    </tr>\n",
              "    <tr>\n",
              "      <th>2</th>\n",
              "      <td>3</td>\n",
              "      <td>-0.020988</td>\n",
              "      <td>-0.015182</td>\n",
              "    </tr>\n",
              "    <tr>\n",
              "      <th>3</th>\n",
              "      <td>4</td>\n",
              "      <td>0.639344</td>\n",
              "      <td>-0.017117</td>\n",
              "    </tr>\n",
              "    <tr>\n",
              "      <th>4</th>\n",
              "      <td>5</td>\n",
              "      <td>0.293158</td>\n",
              "      <td>0.146998</td>\n",
              "    </tr>\n",
              "    <tr>\n",
              "      <th>5</th>\n",
              "      <td>6</td>\n",
              "      <td>-0.343799</td>\n",
              "      <td>0.176230</td>\n",
              "    </tr>\n",
              "  </tbody>\n",
              "</table>\n",
              "</div>\n",
              "      <button class=\"colab-df-convert\" onclick=\"convertToInteractive('df-c3731536-56e8-4c87-9937-3c541e1fc5b2')\"\n",
              "              title=\"Convert this dataframe to an interactive table.\"\n",
              "              style=\"display:none;\">\n",
              "        \n",
              "  <svg xmlns=\"http://www.w3.org/2000/svg\" height=\"24px\"viewBox=\"0 0 24 24\"\n",
              "       width=\"24px\">\n",
              "    <path d=\"M0 0h24v24H0V0z\" fill=\"none\"/>\n",
              "    <path d=\"M18.56 5.44l.94 2.06.94-2.06 2.06-.94-2.06-.94-.94-2.06-.94 2.06-2.06.94zm-11 1L8.5 8.5l.94-2.06 2.06-.94-2.06-.94L8.5 2.5l-.94 2.06-2.06.94zm10 10l.94 2.06.94-2.06 2.06-.94-2.06-.94-.94-2.06-.94 2.06-2.06.94z\"/><path d=\"M17.41 7.96l-1.37-1.37c-.4-.4-.92-.59-1.43-.59-.52 0-1.04.2-1.43.59L10.3 9.45l-7.72 7.72c-.78.78-.78 2.05 0 2.83L4 21.41c.39.39.9.59 1.41.59.51 0 1.02-.2 1.41-.59l7.78-7.78 2.81-2.81c.8-.78.8-2.07 0-2.86zM5.41 20L4 18.59l7.72-7.72 1.47 1.35L5.41 20z\"/>\n",
              "  </svg>\n",
              "      </button>\n",
              "      \n",
              "  <style>\n",
              "    .colab-df-container {\n",
              "      display:flex;\n",
              "      flex-wrap:wrap;\n",
              "      gap: 12px;\n",
              "    }\n",
              "\n",
              "    .colab-df-convert {\n",
              "      background-color: #E8F0FE;\n",
              "      border: none;\n",
              "      border-radius: 50%;\n",
              "      cursor: pointer;\n",
              "      display: none;\n",
              "      fill: #1967D2;\n",
              "      height: 32px;\n",
              "      padding: 0 0 0 0;\n",
              "      width: 32px;\n",
              "    }\n",
              "\n",
              "    .colab-df-convert:hover {\n",
              "      background-color: #E2EBFA;\n",
              "      box-shadow: 0px 1px 2px rgba(60, 64, 67, 0.3), 0px 1px 3px 1px rgba(60, 64, 67, 0.15);\n",
              "      fill: #174EA6;\n",
              "    }\n",
              "\n",
              "    [theme=dark] .colab-df-convert {\n",
              "      background-color: #3B4455;\n",
              "      fill: #D2E3FC;\n",
              "    }\n",
              "\n",
              "    [theme=dark] .colab-df-convert:hover {\n",
              "      background-color: #434B5C;\n",
              "      box-shadow: 0px 1px 3px 1px rgba(0, 0, 0, 0.15);\n",
              "      filter: drop-shadow(0px 1px 2px rgba(0, 0, 0, 0.3));\n",
              "      fill: #FFFFFF;\n",
              "    }\n",
              "  </style>\n",
              "\n",
              "      <script>\n",
              "        const buttonEl =\n",
              "          document.querySelector('#df-c3731536-56e8-4c87-9937-3c541e1fc5b2 button.colab-df-convert');\n",
              "        buttonEl.style.display =\n",
              "          google.colab.kernel.accessAllowed ? 'block' : 'none';\n",
              "\n",
              "        async function convertToInteractive(key) {\n",
              "          const element = document.querySelector('#df-c3731536-56e8-4c87-9937-3c541e1fc5b2');\n",
              "          const dataTable =\n",
              "            await google.colab.kernel.invokeFunction('convertToInteractive',\n",
              "                                                     [key], {});\n",
              "          if (!dataTable) return;\n",
              "\n",
              "          const docLinkHtml = 'Like what you see? Visit the ' +\n",
              "            '<a target=\"_blank\" href=https://colab.research.google.com/notebooks/data_table.ipynb>data table notebook</a>'\n",
              "            + ' to learn more about interactive tables.';\n",
              "          element.innerHTML = '';\n",
              "          dataTable['output_type'] = 'display_data';\n",
              "          await google.colab.output.renderOutput(dataTable, element);\n",
              "          const docLink = document.createElement('div');\n",
              "          docLink.innerHTML = docLinkHtml;\n",
              "          element.appendChild(docLink);\n",
              "        }\n",
              "      </script>\n",
              "    </div>\n",
              "  </div>\n",
              "  "
            ]
          },
          "metadata": {},
          "execution_count": 217
        }
      ]
    },
    {
      "cell_type": "code",
      "source": [
        "X_train = pd.DataFrame(R_train['ROI_past_average10'])\n",
        "y_train = pd.DataFrame(R_train['ROI'])"
      ],
      "metadata": {
        "id": "KM6TuriZb-dR"
      },
      "execution_count": 218,
      "outputs": []
    },
    {
      "cell_type": "code",
      "source": [
        "R_test.head()"
      ],
      "metadata": {
        "id": "EXAjr3B4cr_O",
        "colab": {
          "base_uri": "https://localhost:8080/",
          "height": 206
        },
        "outputId": "e9aac635-d02e-43c5-a5aa-3f874f50f91b"
      },
      "execution_count": 219,
      "outputs": [
        {
          "output_type": "execute_result",
          "data": {
            "text/plain": [
              "   Unnamed: 0       ROI  ROI_past_average10\n",
              "0         918 -0.319668            0.227745\n",
              "1         919 -0.451086            0.193472\n",
              "2         920  0.331667            0.192793\n",
              "3         921  4.125766            0.210238\n",
              "4         922 -0.635588            0.611775"
            ],
            "text/html": [
              "\n",
              "  <div id=\"df-55d02bab-c39c-4db7-b543-9cbc61dd9010\">\n",
              "    <div class=\"colab-df-container\">\n",
              "      <div>\n",
              "<style scoped>\n",
              "    .dataframe tbody tr th:only-of-type {\n",
              "        vertical-align: middle;\n",
              "    }\n",
              "\n",
              "    .dataframe tbody tr th {\n",
              "        vertical-align: top;\n",
              "    }\n",
              "\n",
              "    .dataframe thead th {\n",
              "        text-align: right;\n",
              "    }\n",
              "</style>\n",
              "<table border=\"1\" class=\"dataframe\">\n",
              "  <thead>\n",
              "    <tr style=\"text-align: right;\">\n",
              "      <th></th>\n",
              "      <th>Unnamed: 0</th>\n",
              "      <th>ROI</th>\n",
              "      <th>ROI_past_average10</th>\n",
              "    </tr>\n",
              "  </thead>\n",
              "  <tbody>\n",
              "    <tr>\n",
              "      <th>0</th>\n",
              "      <td>918</td>\n",
              "      <td>-0.319668</td>\n",
              "      <td>0.227745</td>\n",
              "    </tr>\n",
              "    <tr>\n",
              "      <th>1</th>\n",
              "      <td>919</td>\n",
              "      <td>-0.451086</td>\n",
              "      <td>0.193472</td>\n",
              "    </tr>\n",
              "    <tr>\n",
              "      <th>2</th>\n",
              "      <td>920</td>\n",
              "      <td>0.331667</td>\n",
              "      <td>0.192793</td>\n",
              "    </tr>\n",
              "    <tr>\n",
              "      <th>3</th>\n",
              "      <td>921</td>\n",
              "      <td>4.125766</td>\n",
              "      <td>0.210238</td>\n",
              "    </tr>\n",
              "    <tr>\n",
              "      <th>4</th>\n",
              "      <td>922</td>\n",
              "      <td>-0.635588</td>\n",
              "      <td>0.611775</td>\n",
              "    </tr>\n",
              "  </tbody>\n",
              "</table>\n",
              "</div>\n",
              "      <button class=\"colab-df-convert\" onclick=\"convertToInteractive('df-55d02bab-c39c-4db7-b543-9cbc61dd9010')\"\n",
              "              title=\"Convert this dataframe to an interactive table.\"\n",
              "              style=\"display:none;\">\n",
              "        \n",
              "  <svg xmlns=\"http://www.w3.org/2000/svg\" height=\"24px\"viewBox=\"0 0 24 24\"\n",
              "       width=\"24px\">\n",
              "    <path d=\"M0 0h24v24H0V0z\" fill=\"none\"/>\n",
              "    <path d=\"M18.56 5.44l.94 2.06.94-2.06 2.06-.94-2.06-.94-.94-2.06-.94 2.06-2.06.94zm-11 1L8.5 8.5l.94-2.06 2.06-.94-2.06-.94L8.5 2.5l-.94 2.06-2.06.94zm10 10l.94 2.06.94-2.06 2.06-.94-2.06-.94-.94-2.06-.94 2.06-2.06.94z\"/><path d=\"M17.41 7.96l-1.37-1.37c-.4-.4-.92-.59-1.43-.59-.52 0-1.04.2-1.43.59L10.3 9.45l-7.72 7.72c-.78.78-.78 2.05 0 2.83L4 21.41c.39.39.9.59 1.41.59.51 0 1.02-.2 1.41-.59l7.78-7.78 2.81-2.81c.8-.78.8-2.07 0-2.86zM5.41 20L4 18.59l7.72-7.72 1.47 1.35L5.41 20z\"/>\n",
              "  </svg>\n",
              "      </button>\n",
              "      \n",
              "  <style>\n",
              "    .colab-df-container {\n",
              "      display:flex;\n",
              "      flex-wrap:wrap;\n",
              "      gap: 12px;\n",
              "    }\n",
              "\n",
              "    .colab-df-convert {\n",
              "      background-color: #E8F0FE;\n",
              "      border: none;\n",
              "      border-radius: 50%;\n",
              "      cursor: pointer;\n",
              "      display: none;\n",
              "      fill: #1967D2;\n",
              "      height: 32px;\n",
              "      padding: 0 0 0 0;\n",
              "      width: 32px;\n",
              "    }\n",
              "\n",
              "    .colab-df-convert:hover {\n",
              "      background-color: #E2EBFA;\n",
              "      box-shadow: 0px 1px 2px rgba(60, 64, 67, 0.3), 0px 1px 3px 1px rgba(60, 64, 67, 0.15);\n",
              "      fill: #174EA6;\n",
              "    }\n",
              "\n",
              "    [theme=dark] .colab-df-convert {\n",
              "      background-color: #3B4455;\n",
              "      fill: #D2E3FC;\n",
              "    }\n",
              "\n",
              "    [theme=dark] .colab-df-convert:hover {\n",
              "      background-color: #434B5C;\n",
              "      box-shadow: 0px 1px 3px 1px rgba(0, 0, 0, 0.15);\n",
              "      filter: drop-shadow(0px 1px 2px rgba(0, 0, 0, 0.3));\n",
              "      fill: #FFFFFF;\n",
              "    }\n",
              "  </style>\n",
              "\n",
              "      <script>\n",
              "        const buttonEl =\n",
              "          document.querySelector('#df-55d02bab-c39c-4db7-b543-9cbc61dd9010 button.colab-df-convert');\n",
              "        buttonEl.style.display =\n",
              "          google.colab.kernel.accessAllowed ? 'block' : 'none';\n",
              "\n",
              "        async function convertToInteractive(key) {\n",
              "          const element = document.querySelector('#df-55d02bab-c39c-4db7-b543-9cbc61dd9010');\n",
              "          const dataTable =\n",
              "            await google.colab.kernel.invokeFunction('convertToInteractive',\n",
              "                                                     [key], {});\n",
              "          if (!dataTable) return;\n",
              "\n",
              "          const docLinkHtml = 'Like what you see? Visit the ' +\n",
              "            '<a target=\"_blank\" href=https://colab.research.google.com/notebooks/data_table.ipynb>data table notebook</a>'\n",
              "            + ' to learn more about interactive tables.';\n",
              "          element.innerHTML = '';\n",
              "          dataTable['output_type'] = 'display_data';\n",
              "          await google.colab.output.renderOutput(dataTable, element);\n",
              "          const docLink = document.createElement('div');\n",
              "          docLink.innerHTML = docLinkHtml;\n",
              "          element.appendChild(docLink);\n",
              "        }\n",
              "      </script>\n",
              "    </div>\n",
              "  </div>\n",
              "  "
            ]
          },
          "metadata": {},
          "execution_count": 219
        }
      ]
    },
    {
      "cell_type": "code",
      "source": [
        "X_test = pd.DataFrame(R_test['ROI_past_average10'])\n",
        "y_test = pd.DataFrame(R_test['ROI'])"
      ],
      "metadata": {
        "id": "srNlCM2XcuEj"
      },
      "execution_count": 220,
      "outputs": []
    },
    {
      "cell_type": "markdown",
      "source": [
        "## Linear Regression"
      ],
      "metadata": {
        "id": "BlVbPm9caCuj"
      }
    },
    {
      "cell_type": "code",
      "source": [
        "from sklearn import linear_model"
      ],
      "metadata": {
        "id": "XguKfeVGfWTT"
      },
      "execution_count": 221,
      "outputs": []
    },
    {
      "cell_type": "code",
      "source": [
        "mdl = linear_model.LinearRegression().fit(X_train,y_train)"
      ],
      "metadata": {
        "id": "kANHWOC9fsed"
      },
      "execution_count": 222,
      "outputs": []
    },
    {
      "cell_type": "code",
      "source": [
        "r2 = r2_score(y_test, mdl.predict(X_test))\n",
        "print(f'R2 Score: {r2}')\n"
      ],
      "metadata": {
        "id": "AnOF2JWjf5JA",
        "colab": {
          "base_uri": "https://localhost:8080/"
        },
        "outputId": "7ea36ba5-59dc-42c8-af24-b542131b9d63"
      },
      "execution_count": 223,
      "outputs": [
        {
          "output_type": "stream",
          "name": "stdout",
          "text": [
            "R2 Score: -1.5287543409876378\n"
          ]
        }
      ]
    },
    {
      "cell_type": "code",
      "source": [
        "y_pred = pd.DataFrame(np.array(mdl.predict(X_test)).astype(float),columns=['y_pred'])\n",
        "y_pred"
      ],
      "metadata": {
        "id": "YW5u-0KUZjkV",
        "colab": {
          "base_uri": "https://localhost:8080/",
          "height": 424
        },
        "outputId": "40dadf24-3ea0-4a6c-d34d-e5ba096f63ce"
      },
      "execution_count": 224,
      "outputs": [
        {
          "output_type": "execute_result",
          "data": {
            "text/plain": [
              "       y_pred\n",
              "0    0.581534\n",
              "1    0.589067\n",
              "2    0.589217\n",
              "3    0.585382\n",
              "4    0.497128\n",
              "..        ...\n",
              "453  0.621519\n",
              "454  0.633564\n",
              "455  0.626694\n",
              "456  0.618914\n",
              "457  0.632799\n",
              "\n",
              "[458 rows x 1 columns]"
            ],
            "text/html": [
              "\n",
              "  <div id=\"df-78278ccf-bf5d-4b61-8a54-34915bfae9bb\">\n",
              "    <div class=\"colab-df-container\">\n",
              "      <div>\n",
              "<style scoped>\n",
              "    .dataframe tbody tr th:only-of-type {\n",
              "        vertical-align: middle;\n",
              "    }\n",
              "\n",
              "    .dataframe tbody tr th {\n",
              "        vertical-align: top;\n",
              "    }\n",
              "\n",
              "    .dataframe thead th {\n",
              "        text-align: right;\n",
              "    }\n",
              "</style>\n",
              "<table border=\"1\" class=\"dataframe\">\n",
              "  <thead>\n",
              "    <tr style=\"text-align: right;\">\n",
              "      <th></th>\n",
              "      <th>y_pred</th>\n",
              "    </tr>\n",
              "  </thead>\n",
              "  <tbody>\n",
              "    <tr>\n",
              "      <th>0</th>\n",
              "      <td>0.581534</td>\n",
              "    </tr>\n",
              "    <tr>\n",
              "      <th>1</th>\n",
              "      <td>0.589067</td>\n",
              "    </tr>\n",
              "    <tr>\n",
              "      <th>2</th>\n",
              "      <td>0.589217</td>\n",
              "    </tr>\n",
              "    <tr>\n",
              "      <th>3</th>\n",
              "      <td>0.585382</td>\n",
              "    </tr>\n",
              "    <tr>\n",
              "      <th>4</th>\n",
              "      <td>0.497128</td>\n",
              "    </tr>\n",
              "    <tr>\n",
              "      <th>...</th>\n",
              "      <td>...</td>\n",
              "    </tr>\n",
              "    <tr>\n",
              "      <th>453</th>\n",
              "      <td>0.621519</td>\n",
              "    </tr>\n",
              "    <tr>\n",
              "      <th>454</th>\n",
              "      <td>0.633564</td>\n",
              "    </tr>\n",
              "    <tr>\n",
              "      <th>455</th>\n",
              "      <td>0.626694</td>\n",
              "    </tr>\n",
              "    <tr>\n",
              "      <th>456</th>\n",
              "      <td>0.618914</td>\n",
              "    </tr>\n",
              "    <tr>\n",
              "      <th>457</th>\n",
              "      <td>0.632799</td>\n",
              "    </tr>\n",
              "  </tbody>\n",
              "</table>\n",
              "<p>458 rows × 1 columns</p>\n",
              "</div>\n",
              "      <button class=\"colab-df-convert\" onclick=\"convertToInteractive('df-78278ccf-bf5d-4b61-8a54-34915bfae9bb')\"\n",
              "              title=\"Convert this dataframe to an interactive table.\"\n",
              "              style=\"display:none;\">\n",
              "        \n",
              "  <svg xmlns=\"http://www.w3.org/2000/svg\" height=\"24px\"viewBox=\"0 0 24 24\"\n",
              "       width=\"24px\">\n",
              "    <path d=\"M0 0h24v24H0V0z\" fill=\"none\"/>\n",
              "    <path d=\"M18.56 5.44l.94 2.06.94-2.06 2.06-.94-2.06-.94-.94-2.06-.94 2.06-2.06.94zm-11 1L8.5 8.5l.94-2.06 2.06-.94-2.06-.94L8.5 2.5l-.94 2.06-2.06.94zm10 10l.94 2.06.94-2.06 2.06-.94-2.06-.94-.94-2.06-.94 2.06-2.06.94z\"/><path d=\"M17.41 7.96l-1.37-1.37c-.4-.4-.92-.59-1.43-.59-.52 0-1.04.2-1.43.59L10.3 9.45l-7.72 7.72c-.78.78-.78 2.05 0 2.83L4 21.41c.39.39.9.59 1.41.59.51 0 1.02-.2 1.41-.59l7.78-7.78 2.81-2.81c.8-.78.8-2.07 0-2.86zM5.41 20L4 18.59l7.72-7.72 1.47 1.35L5.41 20z\"/>\n",
              "  </svg>\n",
              "      </button>\n",
              "      \n",
              "  <style>\n",
              "    .colab-df-container {\n",
              "      display:flex;\n",
              "      flex-wrap:wrap;\n",
              "      gap: 12px;\n",
              "    }\n",
              "\n",
              "    .colab-df-convert {\n",
              "      background-color: #E8F0FE;\n",
              "      border: none;\n",
              "      border-radius: 50%;\n",
              "      cursor: pointer;\n",
              "      display: none;\n",
              "      fill: #1967D2;\n",
              "      height: 32px;\n",
              "      padding: 0 0 0 0;\n",
              "      width: 32px;\n",
              "    }\n",
              "\n",
              "    .colab-df-convert:hover {\n",
              "      background-color: #E2EBFA;\n",
              "      box-shadow: 0px 1px 2px rgba(60, 64, 67, 0.3), 0px 1px 3px 1px rgba(60, 64, 67, 0.15);\n",
              "      fill: #174EA6;\n",
              "    }\n",
              "\n",
              "    [theme=dark] .colab-df-convert {\n",
              "      background-color: #3B4455;\n",
              "      fill: #D2E3FC;\n",
              "    }\n",
              "\n",
              "    [theme=dark] .colab-df-convert:hover {\n",
              "      background-color: #434B5C;\n",
              "      box-shadow: 0px 1px 3px 1px rgba(0, 0, 0, 0.15);\n",
              "      filter: drop-shadow(0px 1px 2px rgba(0, 0, 0, 0.3));\n",
              "      fill: #FFFFFF;\n",
              "    }\n",
              "  </style>\n",
              "\n",
              "      <script>\n",
              "        const buttonEl =\n",
              "          document.querySelector('#df-78278ccf-bf5d-4b61-8a54-34915bfae9bb button.colab-df-convert');\n",
              "        buttonEl.style.display =\n",
              "          google.colab.kernel.accessAllowed ? 'block' : 'none';\n",
              "\n",
              "        async function convertToInteractive(key) {\n",
              "          const element = document.querySelector('#df-78278ccf-bf5d-4b61-8a54-34915bfae9bb');\n",
              "          const dataTable =\n",
              "            await google.colab.kernel.invokeFunction('convertToInteractive',\n",
              "                                                     [key], {});\n",
              "          if (!dataTable) return;\n",
              "\n",
              "          const docLinkHtml = 'Like what you see? Visit the ' +\n",
              "            '<a target=\"_blank\" href=https://colab.research.google.com/notebooks/data_table.ipynb>data table notebook</a>'\n",
              "            + ' to learn more about interactive tables.';\n",
              "          element.innerHTML = '';\n",
              "          dataTable['output_type'] = 'display_data';\n",
              "          await google.colab.output.renderOutput(dataTable, element);\n",
              "          const docLink = document.createElement('div');\n",
              "          docLink.innerHTML = docLinkHtml;\n",
              "          element.appendChild(docLink);\n",
              "        }\n",
              "      </script>\n",
              "    </div>\n",
              "  </div>\n",
              "  "
            ]
          },
          "metadata": {},
          "execution_count": 224
        }
      ]
    },
    {
      "cell_type": "code",
      "source": [
        "fig, ax = plt.subplots()\n",
        "\n",
        "y_test.hist(ax=ax, label='true', alpha=.75)\n",
        "y_pred.hist(ax=ax, label='pred', alpha=.75)\n",
        "\n",
        "ax.legend()\n",
        "fig.show()\n"
      ],
      "metadata": {
        "id": "QQ13E55cYyZS",
        "colab": {
          "base_uri": "https://localhost:8080/",
          "height": 452
        },
        "outputId": "c07c297d-4c4a-4b4c-d2b8-7f469b41945c"
      },
      "execution_count": 225,
      "outputs": [
        {
          "output_type": "display_data",
          "data": {
            "text/plain": [
              "<Figure size 640x480 with 1 Axes>"
            ],
            "image/png": "[encoded data removed]"
          },
          "metadata": {}
        }
      ]
    },
    {
      "cell_type": "markdown",
      "source": [
        "## Random Forest Regression"
      ],
      "metadata": {
        "id": "DTLXVRHSaAH4"
      }
    },
    {
      "cell_type": "code",
      "source": [
        "from sklearn.ensemble import RandomForestRegressor"
      ],
      "metadata": {
        "id": "vlRjeIEOaMwd"
      },
      "execution_count": 226,
      "outputs": []
    },
    {
      "cell_type": "code",
      "source": [
        "mdl = RandomForestRegressor().fit(X_train, y_train)"
      ],
      "metadata": {
        "id": "89543Q-3aOcJ",
        "colab": {
          "base_uri": "https://localhost:8080/"
        },
        "outputId": "4e0b93d5-5198-4cfe-858f-8eff39225de7"
      },
      "execution_count": 227,
      "outputs": [
        {
          "output_type": "stream",
          "name": "stderr",
          "text": [
            "<ipython-input-227-d958d3892696>:1: DataConversionWarning: A column-vector y was passed when a 1d array was expected. Please change the shape of y to (n_samples,), for example using ravel().\n",
            "  mdl = RandomForestRegressor().fit(X_train, y_train)\n"
          ]
        }
      ]
    },
    {
      "cell_type": "code",
      "source": [
        "# calculate R2\n",
        "from sklearn.metrics import r2_score"
      ],
      "metadata": {
        "id": "K2Y7vUp4ajA8"
      },
      "execution_count": 228,
      "outputs": []
    },
    {
      "cell_type": "code",
      "source": [
        "r2 = r2_score(y_test, mdl.predict(X_test))\n",
        "print(f'R2 Score: {r2}')\n"
      ],
      "metadata": {
        "id": "i2p7OO23anqM",
        "colab": {
          "base_uri": "https://localhost:8080/"
        },
        "outputId": "f5855003-d3a4-4a0c-9488-7bf8da0ce3f1"
      },
      "execution_count": 229,
      "outputs": [
        {
          "output_type": "stream",
          "name": "stdout",
          "text": [
            "R2 Score: -31.173610276410827\n"
          ]
        }
      ]
    },
    {
      "cell_type": "code",
      "source": [
        "y_pred = pd.DataFrame(np.array(mdl.predict(X_test)).astype(float),columns=['y_pred'])\n",
        "y_pred"
      ],
      "metadata": {
        "id": "qshm9IJ8Zs2o",
        "colab": {
          "base_uri": "https://localhost:8080/",
          "height": 424
        },
        "outputId": "f1135a7a-2982-42cd-b399-649006d23a91"
      },
      "execution_count": 230,
      "outputs": [
        {
          "output_type": "execute_result",
          "data": {
            "text/plain": [
              "        y_pred\n",
              "0    -0.234403\n",
              "1    -0.254971\n",
              "2    -0.265248\n",
              "3    -0.302258\n",
              "4    -0.623205\n",
              "..         ...\n",
              "453   0.857446\n",
              "454  14.158380\n",
              "455   2.545411\n",
              "456   0.174258\n",
              "457   3.303466\n",
              "\n",
              "[458 rows x 1 columns]"
            ],
            "text/html": [
              "\n",
              "  <div id=\"df-75843f46-29fb-4d4e-bf5a-96a5fdd11188\">\n",
              "    <div class=\"colab-df-container\">\n",
              "      <div>\n",
              "<style scoped>\n",
              "    .dataframe tbody tr th:only-of-type {\n",
              "        vertical-align: middle;\n",
              "    }\n",
              "\n",
              "    .dataframe tbody tr th {\n",
              "        vertical-align: top;\n",
              "    }\n",
              "\n",
              "    .dataframe thead th {\n",
              "        text-align: right;\n",
              "    }\n",
              "</style>\n",
              "<table border=\"1\" class=\"dataframe\">\n",
              "  <thead>\n",
              "    <tr style=\"text-align: right;\">\n",
              "      <th></th>\n",
              "      <th>y_pred</th>\n",
              "    </tr>\n",
              "  </thead>\n",
              "  <tbody>\n",
              "    <tr>\n",
              "      <th>0</th>\n",
              "      <td>-0.234403</td>\n",
              "    </tr>\n",
              "    <tr>\n",
              "      <th>1</th>\n",
              "      <td>-0.254971</td>\n",
              "    </tr>\n",
              "    <tr>\n",
              "      <th>2</th>\n",
              "      <td>-0.265248</td>\n",
              "    </tr>\n",
              "    <tr>\n",
              "      <th>3</th>\n",
              "      <td>-0.302258</td>\n",
              "    </tr>\n",
              "    <tr>\n",
              "      <th>4</th>\n",
              "      <td>-0.623205</td>\n",
              "    </tr>\n",
              "    <tr>\n",
              "      <th>...</th>\n",
              "      <td>...</td>\n",
              "    </tr>\n",
              "    <tr>\n",
              "      <th>453</th>\n",
              "      <td>0.857446</td>\n",
              "    </tr>\n",
              "    <tr>\n",
              "      <th>454</th>\n",
              "      <td>14.158380</td>\n",
              "    </tr>\n",
              "    <tr>\n",
              "      <th>455</th>\n",
              "      <td>2.545411</td>\n",
              "    </tr>\n",
              "    <tr>\n",
              "      <th>456</th>\n",
              "      <td>0.174258</td>\n",
              "    </tr>\n",
              "    <tr>\n",
              "      <th>457</th>\n",
              "      <td>3.303466</td>\n",
              "    </tr>\n",
              "  </tbody>\n",
              "</table>\n",
              "<p>458 rows × 1 columns</p>\n",
              "</div>\n",
              "      <button class=\"colab-df-convert\" onclick=\"convertToInteractive('df-75843f46-29fb-4d4e-bf5a-96a5fdd11188')\"\n",
              "              title=\"Convert this dataframe to an interactive table.\"\n",
              "              style=\"display:none;\">\n",
              "        \n",
              "  <svg xmlns=\"http://www.w3.org/2000/svg\" height=\"24px\"viewBox=\"0 0 24 24\"\n",
              "       width=\"24px\">\n",
              "    <path d=\"M0 0h24v24H0V0z\" fill=\"none\"/>\n",
              "    <path d=\"M18.56 5.44l.94 2.06.94-2.06 2.06-.94-2.06-.94-.94-2.06-.94 2.06-2.06.94zm-11 1L8.5 8.5l.94-2.06 2.06-.94-2.06-.94L8.5 2.5l-.94 2.06-2.06.94zm10 10l.94 2.06.94-2.06 2.06-.94-2.06-.94-.94-2.06-.94 2.06-2.06.94z\"/><path d=\"M17.41 7.96l-1.37-1.37c-.4-.4-.92-.59-1.43-.59-.52 0-1.04.2-1.43.59L10.3 9.45l-7.72 7.72c-.78.78-.78 2.05 0 2.83L4 21.41c.39.39.9.59 1.41.59.51 0 1.02-.2 1.41-.59l7.78-7.78 2.81-2.81c.8-.78.8-2.07 0-2.86zM5.41 20L4 18.59l7.72-7.72 1.47 1.35L5.41 20z\"/>\n",
              "  </svg>\n",
              "      </button>\n",
              "      \n",
              "  <style>\n",
              "    .colab-df-container {\n",
              "      display:flex;\n",
              "      flex-wrap:wrap;\n",
              "      gap: 12px;\n",
              "    }\n",
              "\n",
              "    .colab-df-convert {\n",
              "      background-color: #E8F0FE;\n",
              "      border: none;\n",
              "      border-radius: 50%;\n",
              "      cursor: pointer;\n",
              "      display: none;\n",
              "      fill: #1967D2;\n",
              "      height: 32px;\n",
              "      padding: 0 0 0 0;\n",
              "      width: 32px;\n",
              "    }\n",
              "\n",
              "    .colab-df-convert:hover {\n",
              "      background-color: #E2EBFA;\n",
              "      box-shadow: 0px 1px 2px rgba(60, 64, 67, 0.3), 0px 1px 3px 1px rgba(60, 64, 67, 0.15);\n",
              "      fill: #174EA6;\n",
              "    }\n",
              "\n",
              "    [theme=dark] .colab-df-convert {\n",
              "      background-color: #3B4455;\n",
              "      fill: #D2E3FC;\n",
              "    }\n",
              "\n",
              "    [theme=dark] .colab-df-convert:hover {\n",
              "      background-color: #434B5C;\n",
              "      box-shadow: 0px 1px 3px 1px rgba(0, 0, 0, 0.15);\n",
              "      filter: drop-shadow(0px 1px 2px rgba(0, 0, 0, 0.3));\n",
              "      fill: #FFFFFF;\n",
              "    }\n",
              "  </style>\n",
              "\n",
              "      <script>\n",
              "        const buttonEl =\n",
              "          document.querySelector('#df-75843f46-29fb-4d4e-bf5a-96a5fdd11188 button.colab-df-convert');\n",
              "        buttonEl.style.display =\n",
              "          google.colab.kernel.accessAllowed ? 'block' : 'none';\n",
              "\n",
              "        async function convertToInteractive(key) {\n",
              "          const element = document.querySelector('#df-75843f46-29fb-4d4e-bf5a-96a5fdd11188');\n",
              "          const dataTable =\n",
              "            await google.colab.kernel.invokeFunction('convertToInteractive',\n",
              "                                                     [key], {});\n",
              "          if (!dataTable) return;\n",
              "\n",
              "          const docLinkHtml = 'Like what you see? Visit the ' +\n",
              "            '<a target=\"_blank\" href=https://colab.research.google.com/notebooks/data_table.ipynb>data table notebook</a>'\n",
              "            + ' to learn more about interactive tables.';\n",
              "          element.innerHTML = '';\n",
              "          dataTable['output_type'] = 'display_data';\n",
              "          await google.colab.output.renderOutput(dataTable, element);\n",
              "          const docLink = document.createElement('div');\n",
              "          docLink.innerHTML = docLinkHtml;\n",
              "          element.appendChild(docLink);\n",
              "        }\n",
              "      </script>\n",
              "    </div>\n",
              "  </div>\n",
              "  "
            ]
          },
          "metadata": {},
          "execution_count": 230
        }
      ]
    },
    {
      "cell_type": "code",
      "source": [
        "fig, ax = plt.subplots()\n",
        "\n",
        "y_test.hist(ax=ax, label='true', alpha=.75)\n",
        "y_pred.hist(ax=ax, label='pred', alpha=.75)\n",
        "\n",
        "ax.legend()\n",
        "fig.show()\n"
      ],
      "metadata": {
        "id": "PIqFakx6bgxb",
        "colab": {
          "base_uri": "https://localhost:8080/",
          "height": 452
        },
        "outputId": "7a2e4455-a88d-4326-ad56-e9eca4b966ad"
      },
      "execution_count": 231,
      "outputs": [
        {
          "output_type": "display_data",
          "data": {
            "text/plain": [
              "<Figure size 640x480 with 1 Axes>"
            ],
            "image/png": "[encoded data removed]"
          },
          "metadata": {}
        }
      ]
    },
    {
      "cell_type": "markdown",
      "source": [
        "## Auto-ML"
      ],
      "metadata": {
        "id": "9rBLTHkbaFuw"
      }
    },
    {
      "cell_type": "code",
      "source": [
        "train_df = pd.DataFrame(X_train)\n",
        "train_df['target'] = y_train.values\n",
        "\n",
        "test_df = pd.DataFrame(X_test)\n",
        "test_df['target'] = y_test.values"
      ],
      "metadata": {
        "id": "AQR55Fh2UbCM"
      },
      "execution_count": 232,
      "outputs": []
    },
    {
      "cell_type": "code",
      "source": [
        "train_data = TabularDataset(train_df)\n",
        "test_data = TabularDataset(test_df)"
      ],
      "metadata": {
        "id": "2Z6jcHBKdvJa"
      },
      "execution_count": 233,
      "outputs": []
    },
    {
      "cell_type": "code",
      "source": [
        "predictor = TabularPredictor(\n",
        "    path='AutogluonModels/regression/',\n",
        "    label='target'\n",
        ").fit(train_data)"
      ],
      "metadata": {
        "id": "Nw0YNlwZdzq2",
        "colab": {
          "base_uri": "https://localhost:8080/"
        },
        "outputId": "7a714962-583b-41ba-fccd-25d18e46ed75"
      },
      "execution_count": 234,
      "outputs": [
        {
          "output_type": "stream",
          "name": "stderr",
          "text": [
            "Warning: path already exists! This predictor may overwrite an existing predictor! path=\"AutogluonModels/regression/\"\n",
            "Beginning AutoGluon training ...\n",
            "AutoGluon will save models to \"AutogluonModels/regression/\"\n",
            "AutoGluon Version:  0.6.0\n",
            "Python Version:     3.8.16\n",
            "Operating System:   Linux\n",
            "Platform Machine:   x86_64\n",
            "Platform Version:   #1 SMP Fri Aug 26 08:44:51 UTC 2022\n",
            "Train Data Rows:    916\n",
            "Train Data Columns: 1\n",
            "Label Column: target\n",
            "Preprocessing data ...\n",
            "AutoGluon infers your prediction problem is: 'regression' (because dtype of label-column == float and many unique label-values observed).\n",
            "\tLabel info (max, min, mean, stddev): (39.0, -0.988976377952756, 0.51805, 2.60672)\n",
            "\tIf 'regression' is not the correct problem_type, please manually specify the problem_type parameter during predictor init (You may specify problem_type as one of: ['binary', 'multiclass', 'regression'])\n",
            "Using Feature Generators to preprocess the data ...\n",
            "Fitting AutoMLPipelineFeatureGenerator...\n",
            "\tAvailable Memory:                    12495.97 MB\n",
            "\tTrain Data (Original)  Memory Usage: 0.01 MB (0.0% of available memory)\n",
            "\tInferring data type of each feature based on column values. Set feature_metadata_in to manually specify special dtypes of the features.\n",
            "\tStage 1 Generators:\n",
            "\t\tFitting AsTypeFeatureGenerator...\n",
            "\tStage 2 Generators:\n",
            "\t\tFitting FillNaFeatureGenerator...\n",
            "\tStage 3 Generators:\n",
            "\t\tFitting IdentityFeatureGenerator...\n",
            "\tStage 4 Generators:\n",
            "\t\tFitting DropUniqueFeatureGenerator...\n",
            "\tTypes of features in original data (raw dtype, special dtypes):\n",
            "\t\t('float', []) : 1 | ['ROI_past_average10']\n",
            "\tTypes of features in processed data (raw dtype, special dtypes):\n",
            "\t\t('float', []) : 1 | ['ROI_past_average10']\n",
            "\t0.0s = Fit runtime\n",
            "\t1 features in original data used to generate 1 features in processed data.\n",
            "\tTrain Data (Processed) Memory Usage: 0.01 MB (0.0% of available memory)\n",
            "Data preprocessing and feature engineering runtime = 0.06s ...\n",
            "AutoGluon will gauge predictive performance using evaluation metric: 'root_mean_squared_error'\n",
            "\tThis metric's sign has been flipped to adhere to being higher_is_better. The metric score can be multiplied by -1 to get the metric value.\n",
            "\tTo change this, specify the eval_metric parameter of Predictor()\n",
            "Automatically generating train/validation split with holdout_frac=0.2, Train Rows: 732, Val Rows: 184\n",
            "Fitting 11 L1 models ...\n",
            "Fitting model: KNeighborsUnif ...\n",
            "\t-2.8927\t = Validation score   (-root_mean_squared_error)\n",
            "\t0.01s\t = Training   runtime\n",
            "\t0.04s\t = Validation runtime\n",
            "Fitting model: KNeighborsDist ...\n",
            "\t-3.0904\t = Validation score   (-root_mean_squared_error)\n",
            "\t0.01s\t = Training   runtime\n",
            "\t0.01s\t = Validation runtime\n",
            "Fitting model: LightGBMXT ...\n",
            "\t-2.6961\t = Validation score   (-root_mean_squared_error)\n",
            "\t0.23s\t = Training   runtime\n",
            "\t0.01s\t = Validation runtime\n",
            "Fitting model: LightGBM ...\n",
            "\t-2.7277\t = Validation score   (-root_mean_squared_error)\n",
            "\t0.42s\t = Training   runtime\n",
            "\t0.01s\t = Validation runtime\n",
            "Fitting model: RandomForestMSE ...\n",
            "\t-3.3641\t = Validation score   (-root_mean_squared_error)\n",
            "\t1.33s\t = Training   runtime\n",
            "\t0.1s\t = Validation runtime\n",
            "Fitting model: CatBoost ...\n",
            "\t-2.7144\t = Validation score   (-root_mean_squared_error)\n",
            "\t0.78s\t = Training   runtime\n",
            "\t0.01s\t = Validation runtime\n",
            "Fitting model: ExtraTreesMSE ...\n",
            "\t-3.1534\t = Validation score   (-root_mean_squared_error)\n",
            "\t1.09s\t = Training   runtime\n",
            "\t0.15s\t = Validation runtime\n",
            "Fitting model: NeuralNetFastAI ...\n",
            "\t-2.6812\t = Validation score   (-root_mean_squared_error)\n",
            "\t2.26s\t = Training   runtime\n",
            "\t0.05s\t = Validation runtime\n",
            "Fitting model: XGBoost ...\n",
            "\t-2.7171\t = Validation score   (-root_mean_squared_error)\n",
            "\t0.5s\t = Training   runtime\n",
            "\t0.04s\t = Validation runtime\n",
            "Fitting model: NeuralNetTorch ...\n",
            "\t-2.7007\t = Validation score   (-root_mean_squared_error)\n",
            "\t11.34s\t = Training   runtime\n",
            "\t0.01s\t = Validation runtime\n",
            "Fitting model: LightGBMLarge ...\n",
            "\t-2.7262\t = Validation score   (-root_mean_squared_error)\n",
            "\t0.68s\t = Training   runtime\n",
            "\t0.01s\t = Validation runtime\n",
            "Fitting model: WeightedEnsemble_L2 ...\n",
            "\t-2.6812\t = Validation score   (-root_mean_squared_error)\n",
            "\t0.68s\t = Training   runtime\n",
            "\t0.0s\t = Validation runtime\n",
            "AutoGluon training complete, total runtime = 20.45s ... Best model: \"WeightedEnsemble_L2\"\n",
            "TabularPredictor saved. To load, use: predictor = TabularPredictor.load(\"AutogluonModels/regression/\")\n"
          ]
        }
      ]
    },
    {
      "cell_type": "code",
      "source": [
        "predictor = TabularPredictor.load(\"AutogluonModels/regression/\")"
      ],
      "metadata": {
        "id": "0wzO-1h-d-vX"
      },
      "execution_count": 235,
      "outputs": []
    },
    {
      "cell_type": "code",
      "source": [
        "# reference: https://auto.gluon.ai/stable/cheatsheet.html\n",
        "# https://auto.gluon.ai/0.3.1/api/autogluon.tabular.models.html\n",
        "predictor.leaderboard(silent=True, data=test_data, extra_metrics=[\"root_mean_squared_error\", \"mean_squared_error\", \"mean_absolute_error\", \"median_absolute_error\", \"r2\"])"
      ],
      "metadata": {
        "id": "c34jhqW1eHXG",
        "colab": {
          "base_uri": "https://localhost:8080/",
          "height": 490
        },
        "outputId": "3dbd91ad-46e9-40fa-92ec-df8c56efc9e8"
      },
      "execution_count": 236,
      "outputs": [
        {
          "output_type": "execute_result",
          "data": {
            "text/plain": [
              "                  model  score_test  root_mean_squared_error  \\\n",
              "0              LightGBM   -0.631668                -0.631668   \n",
              "1        NeuralNetTorch   -0.632368                -0.632368   \n",
              "2               XGBoost   -0.640644                -0.640644   \n",
              "3         LightGBMLarge   -0.643236                -0.643236   \n",
              "4              CatBoost   -0.697365                -0.697365   \n",
              "5            LightGBMXT   -0.799445                -0.799445   \n",
              "6       NeuralNetFastAI   -0.838745                -0.838745   \n",
              "7   WeightedEnsemble_L2   -0.838745                -0.838745   \n",
              "8        KNeighborsUnif   -1.450991                -1.450991   \n",
              "9        KNeighborsDist   -1.586328                -1.586328   \n",
              "10        ExtraTreesMSE   -1.641523                -1.641523   \n",
              "11      RandomForestMSE   -1.724572                -1.724572   \n",
              "\n",
              "    mean_squared_error  mean_absolute_error  median_absolute_error         r2  \\\n",
              "0            -0.399004            -0.555222              -0.535877  -1.037661   \n",
              "1            -0.399889            -0.536271              -0.533317  -1.042181   \n",
              "2            -0.410424            -0.558601              -0.532234  -1.095983   \n",
              "3            -0.413753            -0.561453              -0.522022  -1.112981   \n",
              "4            -0.486317            -0.625301              -0.606840  -1.483557   \n",
              "5            -0.639113            -0.732466              -0.742543  -2.263862   \n",
              "6            -0.703494            -0.780606              -0.796871  -2.592648   \n",
              "7            -0.703494            -0.780606              -0.796871  -2.592648   \n",
              "8            -2.105376            -0.840751              -0.473612  -9.751871   \n",
              "9            -2.516436            -0.844117              -0.438174 -11.851100   \n",
              "10           -2.694597            -0.823135              -0.408627 -12.760943   \n",
              "11           -2.974149            -0.851512              -0.421909 -14.188579   \n",
              "\n",
              "    score_val  pred_time_test  pred_time_val   fit_time  \\\n",
              "0   -2.727671        0.001948       0.005042   0.420291   \n",
              "1   -2.700689        0.019022       0.008652  11.344985   \n",
              "2   -2.717056        0.019901       0.039991   0.498627   \n",
              "3   -2.726236        0.049176       0.009556   0.678512   \n",
              "4   -2.714413        0.005249       0.005986   0.784562   \n",
              "5   -2.696136        0.004008       0.006867   0.226634   \n",
              "6   -2.681183        0.026308       0.046395   2.261412   \n",
              "7   -2.681183        0.028361       0.047076   2.941524   \n",
              "8   -2.892704        0.006518       0.043648   0.012116   \n",
              "9   -3.090381        0.003813       0.008442   0.006010   \n",
              "10  -3.153381        0.134783       0.150499   1.090808   \n",
              "11  -3.364081        0.103647       0.098614   1.333807   \n",
              "\n",
              "    pred_time_test_marginal  pred_time_val_marginal  fit_time_marginal  \\\n",
              "0                  0.001948                0.005042           0.420291   \n",
              "1                  0.019022                0.008652          11.344985   \n",
              "2                  0.019901                0.039991           0.498627   \n",
              "3                  0.049176                0.009556           0.678512   \n",
              "4                  0.005249                0.005986           0.784562   \n",
              "5                  0.004008                0.006867           0.226634   \n",
              "6                  0.026308                0.046395           2.261412   \n",
              "7                  0.002053                0.000681           0.680113   \n",
              "8                  0.006518                0.043648           0.012116   \n",
              "9                  0.003813                0.008442           0.006010   \n",
              "10                 0.134783                0.150499           1.090808   \n",
              "11                 0.103647                0.098614           1.333807   \n",
              "\n",
              "    stack_level  can_infer  fit_order  \n",
              "0             1       True          4  \n",
              "1             1       True         10  \n",
              "2             1       True          9  \n",
              "3             1       True         11  \n",
              "4             1       True          6  \n",
              "5             1       True          3  \n",
              "6             1       True          8  \n",
              "7             2       True         12  \n",
              "8             1       True          1  \n",
              "9             1       True          2  \n",
              "10            1       True          7  \n",
              "11            1       True          5  "
            ],
            "text/html": [
              "\n",
              "  <div id=\"df-64558f33-1a62-49c8-a27d-07e3832b4733\">\n",
              "    <div class=\"colab-df-container\">\n",
              "      <div>\n",
              "<style scoped>\n",
              "    .dataframe tbody tr th:only-of-type {\n",
              "        vertical-align: middle;\n",
              "    }\n",
              "\n",
              "    .dataframe tbody tr th {\n",
              "        vertical-align: top;\n",
              "    }\n",
              "\n",
              "    .dataframe thead th {\n",
              "        text-align: right;\n",
              "    }\n",
              "</style>\n",
              "<table border=\"1\" class=\"dataframe\">\n",
              "  <thead>\n",
              "    <tr style=\"text-align: right;\">\n",
              "      <th></th>\n",
              "      <th>model</th>\n",
              "      <th>score_test</th>\n",
              "      <th>root_mean_squared_error</th>\n",
              "      <th>mean_squared_error</th>\n",
              "      <th>mean_absolute_error</th>\n",
              "      <th>median_absolute_error</th>\n",
              "      <th>r2</th>\n",
              "      <th>score_val</th>\n",
              "      <th>pred_time_test</th>\n",
              "      <th>pred_time_val</th>\n",
              "      <th>fit_time</th>\n",
              "      <th>pred_time_test_marginal</th>\n",
              "      <th>pred_time_val_marginal</th>\n",
              "      <th>fit_time_marginal</th>\n",
              "      <th>stack_level</th>\n",
              "      <th>can_infer</th>\n",
              "      <th>fit_order</th>\n",
              "    </tr>\n",
              "  </thead>\n",
              "  <tbody>\n",
              "    <tr>\n",
              "      <th>0</th>\n",
              "      <td>LightGBM</td>\n",
              "      <td>-0.631668</td>\n",
              "      <td>-0.631668</td>\n",
              "      <td>-0.399004</td>\n",
              "      <td>-0.555222</td>\n",
              "      <td>-0.535877</td>\n",
              "      <td>-1.037661</td>\n",
              "      <td>-2.727671</td>\n",
              "      <td>0.001948</td>\n",
              "      <td>0.005042</td>\n",
              "      <td>0.420291</td>\n",
              "      <td>0.001948</td>\n",
              "      <td>0.005042</td>\n",
              "      <td>0.420291</td>\n",
              "      <td>1</td>\n",
              "      <td>True</td>\n",
              "      <td>4</td>\n",
              "    </tr>\n",
              "    <tr>\n",
              "      <th>1</th>\n",
              "      <td>NeuralNetTorch</td>\n",
              "      <td>-0.632368</td>\n",
              "      <td>-0.632368</td>\n",
              "      <td>-0.399889</td>\n",
              "      <td>-0.536271</td>\n",
              "      <td>-0.533317</td>\n",
              "      <td>-1.042181</td>\n",
              "      <td>-2.700689</td>\n",
              "      <td>0.019022</td>\n",
              "      <td>0.008652</td>\n",
              "      <td>11.344985</td>\n",
              "      <td>0.019022</td>\n",
              "      <td>0.008652</td>\n",
              "      <td>11.344985</td>\n",
              "      <td>1</td>\n",
              "      <td>True</td>\n",
              "      <td>10</td>\n",
              "    </tr>\n",
              "    <tr>\n",
              "      <th>2</th>\n",
              "      <td>XGBoost</td>\n",
              "      <td>-0.640644</td>\n",
              "      <td>-0.640644</td>\n",
              "      <td>-0.410424</td>\n",
              "      <td>-0.558601</td>\n",
              "      <td>-0.532234</td>\n",
              "      <td>-1.095983</td>\n",
              "      <td>-2.717056</td>\n",
              "      <td>0.019901</td>\n",
              "      <td>0.039991</td>\n",
              "      <td>0.498627</td>\n",
              "      <td>0.019901</td>\n",
              "      <td>0.039991</td>\n",
              "      <td>0.498627</td>\n",
              "      <td>1</td>\n",
              "      <td>True</td>\n",
              "      <td>9</td>\n",
              "    </tr>\n",
              "    <tr>\n",
              "      <th>3</th>\n",
              "      <td>LightGBMLarge</td>\n",
              "      <td>-0.643236</td>\n",
              "      <td>-0.643236</td>\n",
              "      <td>-0.413753</td>\n",
              "      <td>-0.561453</td>\n",
              "      <td>-0.522022</td>\n",
              "      <td>-1.112981</td>\n",
              "      <td>-2.726236</td>\n",
              "      <td>0.049176</td>\n",
              "      <td>0.009556</td>\n",
              "      <td>0.678512</td>\n",
              "      <td>0.049176</td>\n",
              "      <td>0.009556</td>\n",
              "      <td>0.678512</td>\n",
              "      <td>1</td>\n",
              "      <td>True</td>\n",
              "      <td>11</td>\n",
              "    </tr>\n",
              "    <tr>\n",
              "      <th>4</th>\n",
              "      <td>CatBoost</td>\n",
              "      <td>-0.697365</td>\n",
              "      <td>-0.697365</td>\n",
              "      <td>-0.486317</td>\n",
              "      <td>-0.625301</td>\n",
              "      <td>-0.606840</td>\n",
              "      <td>-1.483557</td>\n",
              "      <td>-2.714413</td>\n",
              "      <td>0.005249</td>\n",
              "      <td>0.005986</td>\n",
              "      <td>0.784562</td>\n",
              "      <td>0.005249</td>\n",
              "      <td>0.005986</td>\n",
              "      <td>0.784562</td>\n",
              "      <td>1</td>\n",
              "      <td>True</td>\n",
              "      <td>6</td>\n",
              "    </tr>\n",
              "    <tr>\n",
              "      <th>5</th>\n",
              "      <td>LightGBMXT</td>\n",
              "      <td>-0.799445</td>\n",
              "      <td>-0.799445</td>\n",
              "      <td>-0.639113</td>\n",
              "      <td>-0.732466</td>\n",
              "      <td>-0.742543</td>\n",
              "      <td>-2.263862</td>\n",
              "      <td>-2.696136</td>\n",
              "      <td>0.004008</td>\n",
              "      <td>0.006867</td>\n",
              "      <td>0.226634</td>\n",
              "      <td>0.004008</td>\n",
              "      <td>0.006867</td>\n",
              "      <td>0.226634</td>\n",
              "      <td>1</td>\n",
              "      <td>True</td>\n",
              "      <td>3</td>\n",
              "    </tr>\n",
              "    <tr>\n",
              "      <th>6</th>\n",
              "      <td>NeuralNetFastAI</td>\n",
              "      <td>-0.838745</td>\n",
              "      <td>-0.838745</td>\n",
              "      <td>-0.703494</td>\n",
              "      <td>-0.780606</td>\n",
              "      <td>-0.796871</td>\n",
              "      <td>-2.592648</td>\n",
              "      <td>-2.681183</td>\n",
              "      <td>0.026308</td>\n",
              "      <td>0.046395</td>\n",
              "      <td>2.261412</td>\n",
              "      <td>0.026308</td>\n",
              "      <td>0.046395</td>\n",
              "      <td>2.261412</td>\n",
              "      <td>1</td>\n",
              "      <td>True</td>\n",
              "      <td>8</td>\n",
              "    </tr>\n",
              "    <tr>\n",
              "      <th>7</th>\n",
              "      <td>WeightedEnsemble_L2</td>\n",
              "      <td>-0.838745</td>\n",
              "      <td>-0.838745</td>\n",
              "      <td>-0.703494</td>\n",
              "      <td>-0.780606</td>\n",
              "      <td>-0.796871</td>\n",
              "      <td>-2.592648</td>\n",
              "      <td>-2.681183</td>\n",
              "      <td>0.028361</td>\n",
              "      <td>0.047076</td>\n",
              "      <td>2.941524</td>\n",
              "      <td>0.002053</td>\n",
              "      <td>0.000681</td>\n",
              "      <td>0.680113</td>\n",
              "      <td>2</td>\n",
              "      <td>True</td>\n",
              "      <td>12</td>\n",
              "    </tr>\n",
              "    <tr>\n",
              "      <th>8</th>\n",
              "      <td>KNeighborsUnif</td>\n",
              "      <td>-1.450991</td>\n",
              "      <td>-1.450991</td>\n",
              "      <td>-2.105376</td>\n",
              "      <td>-0.840751</td>\n",
              "      <td>-0.473612</td>\n",
              "      <td>-9.751871</td>\n",
              "      <td>-2.892704</td>\n",
              "      <td>0.006518</td>\n",
              "      <td>0.043648</td>\n",
              "      <td>0.012116</td>\n",
              "      <td>0.006518</td>\n",
              "      <td>0.043648</td>\n",
              "      <td>0.012116</td>\n",
              "      <td>1</td>\n",
              "      <td>True</td>\n",
              "      <td>1</td>\n",
              "    </tr>\n",
              "    <tr>\n",
              "      <th>9</th>\n",
              "      <td>KNeighborsDist</td>\n",
              "      <td>-1.586328</td>\n",
              "      <td>-1.586328</td>\n",
              "      <td>-2.516436</td>\n",
              "      <td>-0.844117</td>\n",
              "      <td>-0.438174</td>\n",
              "      <td>-11.851100</td>\n",
              "      <td>-3.090381</td>\n",
              "      <td>0.003813</td>\n",
              "      <td>0.008442</td>\n",
              "      <td>0.006010</td>\n",
              "      <td>0.003813</td>\n",
              "      <td>0.008442</td>\n",
              "      <td>0.006010</td>\n",
              "      <td>1</td>\n",
              "      <td>True</td>\n",
              "      <td>2</td>\n",
              "    </tr>\n",
              "    <tr>\n",
              "      <th>10</th>\n",
              "      <td>ExtraTreesMSE</td>\n",
              "      <td>-1.641523</td>\n",
              "      <td>-1.641523</td>\n",
              "      <td>-2.694597</td>\n",
              "      <td>-0.823135</td>\n",
              "      <td>-0.408627</td>\n",
              "      <td>-12.760943</td>\n",
              "      <td>-3.153381</td>\n",
              "      <td>0.134783</td>\n",
              "      <td>0.150499</td>\n",
              "      <td>1.090808</td>\n",
              "      <td>0.134783</td>\n",
              "      <td>0.150499</td>\n",
              "      <td>1.090808</td>\n",
              "      <td>1</td>\n",
              "      <td>True</td>\n",
              "      <td>7</td>\n",
              "    </tr>\n",
              "    <tr>\n",
              "      <th>11</th>\n",
              "      <td>RandomForestMSE</td>\n",
              "      <td>-1.724572</td>\n",
              "      <td>-1.724572</td>\n",
              "      <td>-2.974149</td>\n",
              "      <td>-0.851512</td>\n",
              "      <td>-0.421909</td>\n",
              "      <td>-14.188579</td>\n",
              "      <td>-3.364081</td>\n",
              "      <td>0.103647</td>\n",
              "      <td>0.098614</td>\n",
              "      <td>1.333807</td>\n",
              "      <td>0.103647</td>\n",
              "      <td>0.098614</td>\n",
              "      <td>1.333807</td>\n",
              "      <td>1</td>\n",
              "      <td>True</td>\n",
              "      <td>5</td>\n",
              "    </tr>\n",
              "  </tbody>\n",
              "</table>\n",
              "</div>\n",
              "      <button class=\"colab-df-convert\" onclick=\"convertToInteractive('df-64558f33-1a62-49c8-a27d-07e3832b4733')\"\n",
              "              title=\"Convert this dataframe to an interactive table.\"\n",
              "              style=\"display:none;\">\n",
              "        \n",
              "  <svg xmlns=\"http://www.w3.org/2000/svg\" height=\"24px\"viewBox=\"0 0 24 24\"\n",
              "       width=\"24px\">\n",
              "    <path d=\"M0 0h24v24H0V0z\" fill=\"none\"/>\n",
              "    <path d=\"M18.56 5.44l.94 2.06.94-2.06 2.06-.94-2.06-.94-.94-2.06-.94 2.06-2.06.94zm-11 1L8.5 8.5l.94-2.06 2.06-.94-2.06-.94L8.5 2.5l-.94 2.06-2.06.94zm10 10l.94 2.06.94-2.06 2.06-.94-2.06-.94-.94-2.06-.94 2.06-2.06.94z\"/><path d=\"M17.41 7.96l-1.37-1.37c-.4-.4-.92-.59-1.43-.59-.52 0-1.04.2-1.43.59L10.3 9.45l-7.72 7.72c-.78.78-.78 2.05 0 2.83L4 21.41c.39.39.9.59 1.41.59.51 0 1.02-.2 1.41-.59l7.78-7.78 2.81-2.81c.8-.78.8-2.07 0-2.86zM5.41 20L4 18.59l7.72-7.72 1.47 1.35L5.41 20z\"/>\n",
              "  </svg>\n",
              "      </button>\n",
              "      \n",
              "  <style>\n",
              "    .colab-df-container {\n",
              "      display:flex;\n",
              "      flex-wrap:wrap;\n",
              "      gap: 12px;\n",
              "    }\n",
              "\n",
              "    .colab-df-convert {\n",
              "      background-color: #E8F0FE;\n",
              "      border: none;\n",
              "      border-radius: 50%;\n",
              "      cursor: pointer;\n",
              "      display: none;\n",
              "      fill: #1967D2;\n",
              "      height: 32px;\n",
              "      padding: 0 0 0 0;\n",
              "      width: 32px;\n",
              "    }\n",
              "\n",
              "    .colab-df-convert:hover {\n",
              "      background-color: #E2EBFA;\n",
              "      box-shadow: 0px 1px 2px rgba(60, 64, 67, 0.3), 0px 1px 3px 1px rgba(60, 64, 67, 0.15);\n",
              "      fill: #174EA6;\n",
              "    }\n",
              "\n",
              "    [theme=dark] .colab-df-convert {\n",
              "      background-color: #3B4455;\n",
              "      fill: #D2E3FC;\n",
              "    }\n",
              "\n",
              "    [theme=dark] .colab-df-convert:hover {\n",
              "      background-color: #434B5C;\n",
              "      box-shadow: 0px 1px 3px 1px rgba(0, 0, 0, 0.15);\n",
              "      filter: drop-shadow(0px 1px 2px rgba(0, 0, 0, 0.3));\n",
              "      fill: #FFFFFF;\n",
              "    }\n",
              "  </style>\n",
              "\n",
              "      <script>\n",
              "        const buttonEl =\n",
              "          document.querySelector('#df-64558f33-1a62-49c8-a27d-07e3832b4733 button.colab-df-convert');\n",
              "        buttonEl.style.display =\n",
              "          google.colab.kernel.accessAllowed ? 'block' : 'none';\n",
              "\n",
              "        async function convertToInteractive(key) {\n",
              "          const element = document.querySelector('#df-64558f33-1a62-49c8-a27d-07e3832b4733');\n",
              "          const dataTable =\n",
              "            await google.colab.kernel.invokeFunction('convertToInteractive',\n",
              "                                                     [key], {});\n",
              "          if (!dataTable) return;\n",
              "\n",
              "          const docLinkHtml = 'Like what you see? Visit the ' +\n",
              "            '<a target=\"_blank\" href=https://colab.research.google.com/notebooks/data_table.ipynb>data table notebook</a>'\n",
              "            + ' to learn more about interactive tables.';\n",
              "          element.innerHTML = '';\n",
              "          dataTable['output_type'] = 'display_data';\n",
              "          await google.colab.output.renderOutput(dataTable, element);\n",
              "          const docLink = document.createElement('div');\n",
              "          docLink.innerHTML = docLinkHtml;\n",
              "          element.appendChild(docLink);\n",
              "        }\n",
              "      </script>\n",
              "    </div>\n",
              "  </div>\n",
              "  "
            ]
          },
          "metadata": {},
          "execution_count": 236
        }
      ]
    },
    {
      "cell_type": "code",
      "source": [
        "r2 = r2_score(y_test,\n",
        "              predictor.predict(\n",
        "                  X_test)\n",
        "              )\n",
        "print(f'R2 Score: {r2}')"
      ],
      "metadata": {
        "id": "_Hiag7doeLei",
        "colab": {
          "base_uri": "https://localhost:8080/"
        },
        "outputId": "b1355406-a091-4bec-de0b-91ce1ec6bfe8"
      },
      "execution_count": 237,
      "outputs": [
        {
          "output_type": "stream",
          "name": "stdout",
          "text": [
            "R2 Score: -2.592647831799172\n"
          ]
        }
      ]
    },
    {
      "cell_type": "code",
      "source": [
        "y_pred = predictor.predict(X_test)\n",
        "y_pred"
      ],
      "metadata": {
        "id": "-r1mncIweC6l",
        "colab": {
          "base_uri": "https://localhost:8080/"
        },
        "outputId": "eca3b96b-32f0-4832-fce4-bc8786d8090d"
      },
      "execution_count": 238,
      "outputs": [
        {
          "output_type": "execute_result",
          "data": {
            "text/plain": [
              "0      0.424408\n",
              "1      0.509343\n",
              "2      0.511032\n",
              "3      0.470050\n",
              "4      0.229025\n",
              "         ...   \n",
              "453    0.818358\n",
              "454    0.939629\n",
              "455    0.870460\n",
              "456    0.792133\n",
              "457    0.931928\n",
              "Name: target, Length: 458, dtype: float32"
            ]
          },
          "metadata": {},
          "execution_count": 238
        }
      ]
    },
    {
      "cell_type": "code",
      "source": [
        "fig, ax = plt.subplots()\n",
        "\n",
        "y_test.hist(ax=ax, label='true', alpha=.75)\n",
        "y_pred.hist(ax=ax, label='pred', alpha=.75)\n",
        "\n",
        "ax.legend()\n",
        "fig.show()\n"
      ],
      "metadata": {
        "id": "aDzAMu95eO2A",
        "colab": {
          "base_uri": "https://localhost:8080/",
          "height": 452
        },
        "outputId": "51924001-0e9e-4d57-a40e-51aebcc72f05"
      },
      "execution_count": 239,
      "outputs": [
        {
          "output_type": "display_data",
          "data": {
            "text/plain": [
              "<Figure size 640x480 with 1 Axes>"
            ],
            "image/png": "[encoded data removed]"
          },
          "metadata": {}
        }
      ]
    },
    {
      "cell_type": "code",
      "source": [],
      "metadata": {
        "id": "LCCPl3RHfOnK"
      },
      "execution_count": 239,
      "outputs": []
    }
  ]
}