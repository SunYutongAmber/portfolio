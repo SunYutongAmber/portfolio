{
  "nbformat": 4,
  "nbformat_minor": 0,
  "metadata": {
    "colab": {
      "provenance": [],
      "include_colab_link": true
    },
    "kernelspec": {
      "name": "python3",
      "display_name": "Python 3"
    },
    "language_info": {
      "name": "python"
    },
    "gpuClass": "standard"
  },
  "cells": [
    {
      "cell_type": "markdown",
      "metadata": {
        "id": "view-in-github",
        "colab_type": "text"
      },
      "source": [
        "<a href=\"https://colab.research.google.com/github/SunYutongAmber/portfolio/blob/main/Final%20Project/code/Final_Project_Query_Cryptopunks_Data.ipynb\" target=\"_parent\"><img src=\"https://colab.research.google.com/assets/colab-badge.svg\" alt=\"Open In Colab\"/></a>"
      ]
    },
    {
      "cell_type": "markdown",
      "source": [
        "References: https://github.com/blockchain-etl/ethereum-etl"
      ],
      "metadata": {
        "id": "OgpllVSE7kmW"
      }
    },
    {
      "cell_type": "markdown",
      "source": [
        "# Part I: Install and Import Required Dependancies"
      ],
      "metadata": {
        "id": "vRFxzzOM7nbV"
      }
    },
    {
      "cell_type": "code",
      "execution_count": 4,
      "metadata": {
        "colab": {
          "base_uri": "https://localhost:8080/"
        },
        "id": "nFuttmHw7WHS",
        "outputId": "53bc661f-bacc-4fb0-f21f-f76937d9e060"
      },
      "outputs": [
        {
          "output_type": "stream",
          "name": "stdout",
          "text": [
            "Looking in indexes: https://pypi.org/simple, https://us-python.pkg.dev/colab-wheels/public/simple/\n",
            "Requirement already satisfied: ethereum-etl in /usr/local/lib/python3.8/dist-packages (2.1.2)\n",
            "Requirement already satisfied: pandas in /usr/local/lib/python3.8/dist-packages (1.3.5)\n",
            "Requirement already satisfied: eth-abi<3.0.0,>=2.2.0 in /usr/local/lib/python3.8/dist-packages (from ethereum-etl) (2.2.0)\n",
            "Requirement already satisfied: base58 in /usr/local/lib/python3.8/dist-packages (from ethereum-etl) (2.1.1)\n",
            "Requirement already satisfied: ethereum-dasm==0.1.4 in /usr/local/lib/python3.8/dist-packages (from ethereum-etl) (0.1.4)\n",
            "Requirement already satisfied: eth-utils==1.10 in /usr/local/lib/python3.8/dist-packages (from ethereum-etl) (1.10.0)\n",
            "Requirement already satisfied: python-dateutil<3,>=2.8.0 in /usr/local/lib/python3.8/dist-packages (from ethereum-etl) (2.8.2)\n",
            "Requirement already satisfied: click==8.0.4 in /usr/local/lib/python3.8/dist-packages (from ethereum-etl) (8.0.4)\n",
            "Requirement already satisfied: requests in /usr/local/lib/python3.8/dist-packages (from ethereum-etl) (2.23.0)\n",
            "Requirement already satisfied: web3<6,>=5.29 in /usr/local/lib/python3.8/dist-packages (from ethereum-etl) (5.31.3)\n",
            "Requirement already satisfied: eth-typing<3.0.0,>=2.2.1 in /usr/local/lib/python3.8/dist-packages (from eth-utils==1.10->ethereum-etl) (2.3.0)\n",
            "Requirement already satisfied: eth-hash<0.4.0,>=0.3.1 in /usr/local/lib/python3.8/dist-packages (from eth-utils==1.10->ethereum-etl) (0.3.3)\n",
            "Requirement already satisfied: cytoolz<1.0.0,>=0.10.1 in /usr/local/lib/python3.8/dist-packages (from eth-utils==1.10->ethereum-etl) (0.12.0)\n",
            "Requirement already satisfied: evmdasm in /usr/local/lib/python3.8/dist-packages (from ethereum-dasm==0.1.4->ethereum-etl) (0.1.10)\n",
            "Requirement already satisfied: colorama in /usr/local/lib/python3.8/dist-packages (from ethereum-dasm==0.1.4->ethereum-etl) (0.4.6)\n",
            "Requirement already satisfied: tabulate in /usr/local/lib/python3.8/dist-packages (from ethereum-dasm==0.1.4->ethereum-etl) (0.8.10)\n",
            "Requirement already satisfied: toolz>=0.8.0 in /usr/local/lib/python3.8/dist-packages (from cytoolz<1.0.0,>=0.10.1->eth-utils==1.10->ethereum-etl) (0.12.0)\n",
            "Requirement already satisfied: parsimonious<0.9.0,>=0.8.0 in /usr/local/lib/python3.8/dist-packages (from eth-abi<3.0.0,>=2.2.0->ethereum-etl) (0.8.1)\n",
            "Requirement already satisfied: six>=1.9.0 in /usr/local/lib/python3.8/dist-packages (from parsimonious<0.9.0,>=0.8.0->eth-abi<3.0.0,>=2.2.0->ethereum-etl) (1.15.0)\n",
            "Requirement already satisfied: eth-account<0.6.0,>=0.5.9 in /usr/local/lib/python3.8/dist-packages (from web3<6,>=5.29->ethereum-etl) (0.5.9)\n",
            "Requirement already satisfied: lru-dict<2.0.0,>=1.1.6 in /usr/local/lib/python3.8/dist-packages (from web3<6,>=5.29->ethereum-etl) (1.1.8)\n",
            "Requirement already satisfied: websockets<10,>=9.1 in /usr/local/lib/python3.8/dist-packages (from web3<6,>=5.29->ethereum-etl) (9.1)\n",
            "Requirement already satisfied: ipfshttpclient==0.8.0a2 in /usr/local/lib/python3.8/dist-packages (from web3<6,>=5.29->ethereum-etl) (0.8.0a2)\n",
            "Requirement already satisfied: hexbytes<1.0.0,>=0.1.0 in /usr/local/lib/python3.8/dist-packages (from web3<6,>=5.29->ethereum-etl) (0.3.0)\n",
            "Requirement already satisfied: jsonschema<5,>=3.2.0 in /usr/local/lib/python3.8/dist-packages (from web3<6,>=5.29->ethereum-etl) (4.3.3)\n",
            "Requirement already satisfied: eth-rlp<0.3 in /usr/local/lib/python3.8/dist-packages (from web3<6,>=5.29->ethereum-etl) (0.2.1)\n",
            "Requirement already satisfied: aiohttp<4,>=3.7.4.post0 in /usr/local/lib/python3.8/dist-packages (from web3<6,>=5.29->ethereum-etl) (3.8.3)\n",
            "Requirement already satisfied: protobuf==3.19.5 in /usr/local/lib/python3.8/dist-packages (from web3<6,>=5.29->ethereum-etl) (3.19.5)\n",
            "Requirement already satisfied: multiaddr>=0.0.7 in /usr/local/lib/python3.8/dist-packages (from ipfshttpclient==0.8.0a2->web3<6,>=5.29->ethereum-etl) (0.0.9)\n",
            "Requirement already satisfied: multidict<7.0,>=4.5 in /usr/local/lib/python3.8/dist-packages (from aiohttp<4,>=3.7.4.post0->web3<6,>=5.29->ethereum-etl) (6.0.3)\n",
            "Requirement already satisfied: attrs>=17.3.0 in /usr/local/lib/python3.8/dist-packages (from aiohttp<4,>=3.7.4.post0->web3<6,>=5.29->ethereum-etl) (22.1.0)\n",
            "Requirement already satisfied: charset-normalizer<3.0,>=2.0 in /usr/local/lib/python3.8/dist-packages (from aiohttp<4,>=3.7.4.post0->web3<6,>=5.29->ethereum-etl) (2.1.1)\n",
            "Requirement already satisfied: frozenlist>=1.1.1 in /usr/local/lib/python3.8/dist-packages (from aiohttp<4,>=3.7.4.post0->web3<6,>=5.29->ethereum-etl) (1.3.3)\n",
            "Requirement already satisfied: aiosignal>=1.1.2 in /usr/local/lib/python3.8/dist-packages (from aiohttp<4,>=3.7.4.post0->web3<6,>=5.29->ethereum-etl) (1.3.1)\n",
            "Requirement already satisfied: async-timeout<5.0,>=4.0.0a3 in /usr/local/lib/python3.8/dist-packages (from aiohttp<4,>=3.7.4.post0->web3<6,>=5.29->ethereum-etl) (4.0.2)\n",
            "Requirement already satisfied: yarl<2.0,>=1.0 in /usr/local/lib/python3.8/dist-packages (from aiohttp<4,>=3.7.4.post0->web3<6,>=5.29->ethereum-etl) (1.8.2)\n",
            "Requirement already satisfied: eth-keyfile<0.6.0,>=0.5.0 in /usr/local/lib/python3.8/dist-packages (from eth-account<0.6.0,>=0.5.9->web3<6,>=5.29->ethereum-etl) (0.5.1)\n",
            "Requirement already satisfied: bitarray<3,>=1.2.1 in /usr/local/lib/python3.8/dist-packages (from eth-account<0.6.0,>=0.5.9->web3<6,>=5.29->ethereum-etl) (2.6.0)\n",
            "Requirement already satisfied: rlp<3,>=1.0.0 in /usr/local/lib/python3.8/dist-packages (from eth-account<0.6.0,>=0.5.9->web3<6,>=5.29->ethereum-etl) (2.0.1)\n",
            "Requirement already satisfied: eth-keys<0.4.0,>=0.3.4 in /usr/local/lib/python3.8/dist-packages (from eth-account<0.6.0,>=0.5.9->web3<6,>=5.29->ethereum-etl) (0.3.4)\n",
            "Requirement already satisfied: pycryptodome<4,>=3.6.6 in /usr/local/lib/python3.8/dist-packages (from eth-hash<0.4.0,>=0.3.1->eth-utils==1.10->ethereum-etl) (3.16.0)\n",
            "Requirement already satisfied: importlib-resources>=1.4.0 in /usr/local/lib/python3.8/dist-packages (from jsonschema<5,>=3.2.0->web3<6,>=5.29->ethereum-etl) (5.10.0)\n",
            "Requirement already satisfied: pyrsistent!=0.17.0,!=0.17.1,!=0.17.2,>=0.14.0 in /usr/local/lib/python3.8/dist-packages (from jsonschema<5,>=3.2.0->web3<6,>=5.29->ethereum-etl) (0.19.2)\n",
            "Requirement already satisfied: zipp>=3.1.0 in /usr/local/lib/python3.8/dist-packages (from importlib-resources>=1.4.0->jsonschema<5,>=3.2.0->web3<6,>=5.29->ethereum-etl) (3.11.0)\n",
            "Requirement already satisfied: varint in /usr/local/lib/python3.8/dist-packages (from multiaddr>=0.0.7->ipfshttpclient==0.8.0a2->web3<6,>=5.29->ethereum-etl) (1.0.2)\n",
            "Requirement already satisfied: netaddr in /usr/local/lib/python3.8/dist-packages (from multiaddr>=0.0.7->ipfshttpclient==0.8.0a2->web3<6,>=5.29->ethereum-etl) (0.8.0)\n",
            "Requirement already satisfied: chardet<4,>=3.0.2 in /usr/local/lib/python3.8/dist-packages (from requests->ethereum-etl) (3.0.4)\n",
            "Requirement already satisfied: urllib3!=1.25.0,!=1.25.1,<1.26,>=1.21.1 in /usr/local/lib/python3.8/dist-packages (from requests->ethereum-etl) (1.24.3)\n",
            "Requirement already satisfied: certifi>=2017.4.17 in /usr/local/lib/python3.8/dist-packages (from requests->ethereum-etl) (2022.9.24)\n",
            "Requirement already satisfied: idna<3,>=2.5 in /usr/local/lib/python3.8/dist-packages (from requests->ethereum-etl) (2.10)\n",
            "Requirement already satisfied: pytz>=2017.3 in /usr/local/lib/python3.8/dist-packages (from pandas) (2022.6)\n",
            "Requirement already satisfied: numpy>=1.17.3 in /usr/local/lib/python3.8/dist-packages (from pandas) (1.21.6)\n"
          ]
        }
      ],
      "source": [
        "# install ethereum-etl and pandas\n",
        "!python -m pip install ethereum-etl pandas"
      ]
    },
    {
      "cell_type": "code",
      "source": [
        "# import libraries to print data frame\n",
        "import pandas as pd"
      ],
      "metadata": {
        "id": "dE6wyGLmAtIr"
      },
      "execution_count": 5,
      "outputs": []
    },
    {
      "cell_type": "markdown",
      "source": [
        "# Part II: Mount Google Drive for Result Exports"
      ],
      "metadata": {
        "id": "tj8gVFiv7z96"
      }
    },
    {
      "cell_type": "code",
      "source": [
        "# mount google drive\n",
        "from google.colab import drive\n",
        "\n",
        "drive.mount('/content/drive')"
      ],
      "metadata": {
        "colab": {
          "base_uri": "https://localhost:8080/"
        },
        "id": "wC7DJKHt7uU7",
        "outputId": "a88d491a-5d80-4eba-e39f-6166782d5e64"
      },
      "execution_count": 6,
      "outputs": [
        {
          "output_type": "stream",
          "name": "stdout",
          "text": [
            "Mounted at /content/drive\n"
          ]
        }
      ]
    },
    {
      "cell_type": "code",
      "source": [
        "# print the current directory\n",
        "!pwd"
      ],
      "metadata": {
        "colab": {
          "base_uri": "https://localhost:8080/"
        },
        "id": "zvb8F7mn73_T",
        "outputId": "dafa43f6-6831-4a93-bf52-494b9ad944e4"
      },
      "execution_count": 7,
      "outputs": [
        {
          "output_type": "stream",
          "name": "stdout",
          "text": [
            "/content\n"
          ]
        }
      ]
    },
    {
      "cell_type": "code",
      "source": [
        "#@title path\n",
        "#create a project folder and identify the path\n",
        "path = \"/content/drive/MyDrive/txn_history-2021-10-07\" #@param {type:\"string\"}"
      ],
      "metadata": {
        "id": "a6IFIP6G8GV8"
      },
      "execution_count": 8,
      "outputs": []
    },
    {
      "cell_type": "code",
      "source": [
        "#go to your project folder \n",
        "%cd /content/drive/MyDrive/txn_history-2021-10-07"
      ],
      "metadata": {
        "colab": {
          "base_uri": "https://localhost:8080/"
        },
        "id": "mPkkSpa88LI_",
        "outputId": "fa97a7a4-b001-43f4-d32f-10aff48e03be"
      },
      "execution_count": 9,
      "outputs": [
        {
          "output_type": "stream",
          "name": "stdout",
          "text": [
            "[Errno 2] No such file or directory: '/content/drive/MyDrive/txn_history-2021-10-07'\n",
            "/content\n"
          ]
        }
      ]
    },
    {
      "cell_type": "code",
      "source": [
        "# print the current directory again to make sure that you are in the project folder\n",
        "!pwd"
      ],
      "metadata": {
        "colab": {
          "base_uri": "https://localhost:8080/"
        },
        "id": "BGDX196N8Nlt",
        "outputId": "5939ae20-f596-4e81-86a6-a6db360caf10"
      },
      "execution_count": 10,
      "outputs": [
        {
          "output_type": "stream",
          "name": "stdout",
          "text": [
            "/content\n"
          ]
        }
      ]
    },
    {
      "cell_type": "markdown",
      "source": [
        "# Part III: Query Data and Export CSV"
      ],
      "metadata": {
        "id": "os5uEnmn8SH1"
      }
    },
    {
      "cell_type": "markdown",
      "source": [
        "# Part IV: Save the Necessary Queried Data"
      ],
      "metadata": {
        "id": "ed4IVvSIAHeC"
      }
    },
    {
      "cell_type": "markdown",
      "source": [
        "## 4.1. read the data into Panda DataFrame"
      ],
      "metadata": {
        "id": "HQ7OBCweBm36"
      }
    },
    {
      "cell_type": "code",
      "source": [
        "df_cryptopunks = pd.read_json('/content/drive/MyDrive/txn_history-2021-10-07.jsonl', lines=True)\n",
        "display(df_cryptopunks.head(10))"
      ],
      "metadata": {
        "colab": {
          "base_uri": "https://localhost:8080/",
          "height": 948
        },
        "id": "TE0kPchIAnx_",
        "outputId": "5cb14128-b594-4a91-df54-242332eab47a"
      },
      "execution_count": 11,
      "outputs": [
        {
          "output_type": "display_data",
          "data": {
            "text/plain": [
              "        txn_type      from to       date  timestamp     source    eth  \\\n",
              "0  Bid Withdrawn  0xe73a1d    2021-09-04 2021-09-04  larvalabs  321.0   \n",
              "1            Bid  0xe73a1d    2021-09-01 2021-09-01  larvalabs  321.0   \n",
              "2  Bid Withdrawn  0x2e5e22    2021-09-01 2021-09-01  larvalabs  320.0   \n",
              "3            Bid  0x2e5e22    2021-09-01 2021-09-01  larvalabs  320.0   \n",
              "4  Bid Withdrawn  0x2e5e22    2021-09-01 2021-09-01  larvalabs  263.0   \n",
              "5            Bid  0x2e5e22    2021-08-29 2021-08-29  larvalabs  263.0   \n",
              "6  Bid Withdrawn  0x983ace    2021-05-10 2021-05-10  larvalabs  250.0   \n",
              "7            Bid  0x983ace    2021-04-11 2021-04-11  larvalabs  250.0   \n",
              "8  Bid Withdrawn  0xd7510a    2021-03-03 2021-03-03  larvalabs  100.0   \n",
              "9            Bid  0xd7510a    2021-02-20 2021-02-20  larvalabs  100.0   \n",
              "\n",
              "   punk_id from_wallet_address to_wallet_address      type  \\\n",
              "0        0                None              None  [Female]   \n",
              "1        0                None              None  [Female]   \n",
              "2        0                None              None  [Female]   \n",
              "3        0                None              None  [Female]   \n",
              "4        0                None              None  [Female]   \n",
              "5        0                None              None  [Female]   \n",
              "6        0                None              None  [Female]   \n",
              "7        0                None              None  [Female]   \n",
              "8        0                None              None  [Female]   \n",
              "9        0                None              None  [Female]   \n",
              "\n",
              "                               accessories  \n",
              "0  [Green Eye Shadow, Earring, Blonde Bob]  \n",
              "1  [Green Eye Shadow, Earring, Blonde Bob]  \n",
              "2  [Green Eye Shadow, Earring, Blonde Bob]  \n",
              "3  [Green Eye Shadow, Earring, Blonde Bob]  \n",
              "4  [Green Eye Shadow, Earring, Blonde Bob]  \n",
              "5  [Green Eye Shadow, Earring, Blonde Bob]  \n",
              "6  [Green Eye Shadow, Earring, Blonde Bob]  \n",
              "7  [Green Eye Shadow, Earring, Blonde Bob]  \n",
              "8  [Green Eye Shadow, Earring, Blonde Bob]  \n",
              "9  [Green Eye Shadow, Earring, Blonde Bob]  "
            ],
            "text/html": [
              "\n",
              "  <div id=\"df-c2cada7a-895f-4d22-9ff6-00ce9982d4a8\">\n",
              "    <div class=\"colab-df-container\">\n",
              "      <div>\n",
              "<style scoped>\n",
              "    .dataframe tbody tr th:only-of-type {\n",
              "        vertical-align: middle;\n",
              "    }\n",
              "\n",
              "    .dataframe tbody tr th {\n",
              "        vertical-align: top;\n",
              "    }\n",
              "\n",
              "    .dataframe thead th {\n",
              "        text-align: right;\n",
              "    }\n",
              "</style>\n",
              "<table border=\"1\" class=\"dataframe\">\n",
              "  <thead>\n",
              "    <tr style=\"text-align: right;\">\n",
              "      <th></th>\n",
              "      <th>txn_type</th>\n",
              "      <th>from</th>\n",
              "      <th>to</th>\n",
              "      <th>date</th>\n",
              "      <th>timestamp</th>\n",
              "      <th>source</th>\n",
              "      <th>eth</th>\n",
              "      <th>punk_id</th>\n",
              "      <th>from_wallet_address</th>\n",
              "      <th>to_wallet_address</th>\n",
              "      <th>type</th>\n",
              "      <th>accessories</th>\n",
              "    </tr>\n",
              "  </thead>\n",
              "  <tbody>\n",
              "    <tr>\n",
              "      <th>0</th>\n",
              "      <td>Bid Withdrawn</td>\n",
              "      <td>0xe73a1d</td>\n",
              "      <td></td>\n",
              "      <td>2021-09-04</td>\n",
              "      <td>2021-09-04</td>\n",
              "      <td>larvalabs</td>\n",
              "      <td>321.0</td>\n",
              "      <td>0</td>\n",
              "      <td>None</td>\n",
              "      <td>None</td>\n",
              "      <td>[Female]</td>\n",
              "      <td>[Green Eye Shadow, Earring, Blonde Bob]</td>\n",
              "    </tr>\n",
              "    <tr>\n",
              "      <th>1</th>\n",
              "      <td>Bid</td>\n",
              "      <td>0xe73a1d</td>\n",
              "      <td></td>\n",
              "      <td>2021-09-01</td>\n",
              "      <td>2021-09-01</td>\n",
              "      <td>larvalabs</td>\n",
              "      <td>321.0</td>\n",
              "      <td>0</td>\n",
              "      <td>None</td>\n",
              "      <td>None</td>\n",
              "      <td>[Female]</td>\n",
              "      <td>[Green Eye Shadow, Earring, Blonde Bob]</td>\n",
              "    </tr>\n",
              "    <tr>\n",
              "      <th>2</th>\n",
              "      <td>Bid Withdrawn</td>\n",
              "      <td>0x2e5e22</td>\n",
              "      <td></td>\n",
              "      <td>2021-09-01</td>\n",
              "      <td>2021-09-01</td>\n",
              "      <td>larvalabs</td>\n",
              "      <td>320.0</td>\n",
              "      <td>0</td>\n",
              "      <td>None</td>\n",
              "      <td>None</td>\n",
              "      <td>[Female]</td>\n",
              "      <td>[Green Eye Shadow, Earring, Blonde Bob]</td>\n",
              "    </tr>\n",
              "    <tr>\n",
              "      <th>3</th>\n",
              "      <td>Bid</td>\n",
              "      <td>0x2e5e22</td>\n",
              "      <td></td>\n",
              "      <td>2021-09-01</td>\n",
              "      <td>2021-09-01</td>\n",
              "      <td>larvalabs</td>\n",
              "      <td>320.0</td>\n",
              "      <td>0</td>\n",
              "      <td>None</td>\n",
              "      <td>None</td>\n",
              "      <td>[Female]</td>\n",
              "      <td>[Green Eye Shadow, Earring, Blonde Bob]</td>\n",
              "    </tr>\n",
              "    <tr>\n",
              "      <th>4</th>\n",
              "      <td>Bid Withdrawn</td>\n",
              "      <td>0x2e5e22</td>\n",
              "      <td></td>\n",
              "      <td>2021-09-01</td>\n",
              "      <td>2021-09-01</td>\n",
              "      <td>larvalabs</td>\n",
              "      <td>263.0</td>\n",
              "      <td>0</td>\n",
              "      <td>None</td>\n",
              "      <td>None</td>\n",
              "      <td>[Female]</td>\n",
              "      <td>[Green Eye Shadow, Earring, Blonde Bob]</td>\n",
              "    </tr>\n",
              "    <tr>\n",
              "      <th>5</th>\n",
              "      <td>Bid</td>\n",
              "      <td>0x2e5e22</td>\n",
              "      <td></td>\n",
              "      <td>2021-08-29</td>\n",
              "      <td>2021-08-29</td>\n",
              "      <td>larvalabs</td>\n",
              "      <td>263.0</td>\n",
              "      <td>0</td>\n",
              "      <td>None</td>\n",
              "      <td>None</td>\n",
              "      <td>[Female]</td>\n",
              "      <td>[Green Eye Shadow, Earring, Blonde Bob]</td>\n",
              "    </tr>\n",
              "    <tr>\n",
              "      <th>6</th>\n",
              "      <td>Bid Withdrawn</td>\n",
              "      <td>0x983ace</td>\n",
              "      <td></td>\n",
              "      <td>2021-05-10</td>\n",
              "      <td>2021-05-10</td>\n",
              "      <td>larvalabs</td>\n",
              "      <td>250.0</td>\n",
              "      <td>0</td>\n",
              "      <td>None</td>\n",
              "      <td>None</td>\n",
              "      <td>[Female]</td>\n",
              "      <td>[Green Eye Shadow, Earring, Blonde Bob]</td>\n",
              "    </tr>\n",
              "    <tr>\n",
              "      <th>7</th>\n",
              "      <td>Bid</td>\n",
              "      <td>0x983ace</td>\n",
              "      <td></td>\n",
              "      <td>2021-04-11</td>\n",
              "      <td>2021-04-11</td>\n",
              "      <td>larvalabs</td>\n",
              "      <td>250.0</td>\n",
              "      <td>0</td>\n",
              "      <td>None</td>\n",
              "      <td>None</td>\n",
              "      <td>[Female]</td>\n",
              "      <td>[Green Eye Shadow, Earring, Blonde Bob]</td>\n",
              "    </tr>\n",
              "    <tr>\n",
              "      <th>8</th>\n",
              "      <td>Bid Withdrawn</td>\n",
              "      <td>0xd7510a</td>\n",
              "      <td></td>\n",
              "      <td>2021-03-03</td>\n",
              "      <td>2021-03-03</td>\n",
              "      <td>larvalabs</td>\n",
              "      <td>100.0</td>\n",
              "      <td>0</td>\n",
              "      <td>None</td>\n",
              "      <td>None</td>\n",
              "      <td>[Female]</td>\n",
              "      <td>[Green Eye Shadow, Earring, Blonde Bob]</td>\n",
              "    </tr>\n",
              "    <tr>\n",
              "      <th>9</th>\n",
              "      <td>Bid</td>\n",
              "      <td>0xd7510a</td>\n",
              "      <td></td>\n",
              "      <td>2021-02-20</td>\n",
              "      <td>2021-02-20</td>\n",
              "      <td>larvalabs</td>\n",
              "      <td>100.0</td>\n",
              "      <td>0</td>\n",
              "      <td>None</td>\n",
              "      <td>None</td>\n",
              "      <td>[Female]</td>\n",
              "      <td>[Green Eye Shadow, Earring, Blonde Bob]</td>\n",
              "    </tr>\n",
              "  </tbody>\n",
              "</table>\n",
              "</div>\n",
              "      <button class=\"colab-df-convert\" onclick=\"convertToInteractive('df-c2cada7a-895f-4d22-9ff6-00ce9982d4a8')\"\n",
              "              title=\"Convert this dataframe to an interactive table.\"\n",
              "              style=\"display:none;\">\n",
              "        \n",
              "  <svg xmlns=\"http://www.w3.org/2000/svg\" height=\"24px\"viewBox=\"0 0 24 24\"\n",
              "       width=\"24px\">\n",
              "    <path d=\"M0 0h24v24H0V0z\" fill=\"none\"/>\n",
              "    <path d=\"M18.56 5.44l.94 2.06.94-2.06 2.06-.94-2.06-.94-.94-2.06-.94 2.06-2.06.94zm-11 1L8.5 8.5l.94-2.06 2.06-.94-2.06-.94L8.5 2.5l-.94 2.06-2.06.94zm10 10l.94 2.06.94-2.06 2.06-.94-2.06-.94-.94-2.06-.94 2.06-2.06.94z\"/><path d=\"M17.41 7.96l-1.37-1.37c-.4-.4-.92-.59-1.43-.59-.52 0-1.04.2-1.43.59L10.3 9.45l-7.72 7.72c-.78.78-.78 2.05 0 2.83L4 21.41c.39.39.9.59 1.41.59.51 0 1.02-.2 1.41-.59l7.78-7.78 2.81-2.81c.8-.78.8-2.07 0-2.86zM5.41 20L4 18.59l7.72-7.72 1.47 1.35L5.41 20z\"/>\n",
              "  </svg>\n",
              "      </button>\n",
              "      \n",
              "  <style>\n",
              "    .colab-df-container {\n",
              "      display:flex;\n",
              "      flex-wrap:wrap;\n",
              "      gap: 12px;\n",
              "    }\n",
              "\n",
              "    .colab-df-convert {\n",
              "      background-color: #E8F0FE;\n",
              "      border: none;\n",
              "      border-radius: 50%;\n",
              "      cursor: pointer;\n",
              "      display: none;\n",
              "      fill: #1967D2;\n",
              "      height: 32px;\n",
              "      padding: 0 0 0 0;\n",
              "      width: 32px;\n",
              "    }\n",
              "\n",
              "    .colab-df-convert:hover {\n",
              "      background-color: #E2EBFA;\n",
              "      box-shadow: 0px 1px 2px rgba(60, 64, 67, 0.3), 0px 1px 3px 1px rgba(60, 64, 67, 0.15);\n",
              "      fill: #174EA6;\n",
              "    }\n",
              "\n",
              "    [theme=dark] .colab-df-convert {\n",
              "      background-color: #3B4455;\n",
              "      fill: #D2E3FC;\n",
              "    }\n",
              "\n",
              "    [theme=dark] .colab-df-convert:hover {\n",
              "      background-color: #434B5C;\n",
              "      box-shadow: 0px 1px 3px 1px rgba(0, 0, 0, 0.15);\n",
              "      filter: drop-shadow(0px 1px 2px rgba(0, 0, 0, 0.3));\n",
              "      fill: #FFFFFF;\n",
              "    }\n",
              "  </style>\n",
              "\n",
              "      <script>\n",
              "        const buttonEl =\n",
              "          document.querySelector('#df-c2cada7a-895f-4d22-9ff6-00ce9982d4a8 button.colab-df-convert');\n",
              "        buttonEl.style.display =\n",
              "          google.colab.kernel.accessAllowed ? 'block' : 'none';\n",
              "\n",
              "        async function convertToInteractive(key) {\n",
              "          const element = document.querySelector('#df-c2cada7a-895f-4d22-9ff6-00ce9982d4a8');\n",
              "          const dataTable =\n",
              "            await google.colab.kernel.invokeFunction('convertToInteractive',\n",
              "                                                     [key], {});\n",
              "          if (!dataTable) return;\n",
              "\n",
              "          const docLinkHtml = 'Like what you see? Visit the ' +\n",
              "            '<a target=\"_blank\" href=https://colab.research.google.com/notebooks/data_table.ipynb>data table notebook</a>'\n",
              "            + ' to learn more about interactive tables.';\n",
              "          element.innerHTML = '';\n",
              "          dataTable['output_type'] = 'display_data';\n",
              "          await google.colab.output.renderOutput(dataTable, element);\n",
              "          const docLink = document.createElement('div');\n",
              "          docLink.innerHTML = docLinkHtml;\n",
              "          element.appendChild(docLink);\n",
              "        }\n",
              "      </script>\n",
              "    </div>\n",
              "  </div>\n",
              "  "
            ]
          },
          "metadata": {}
        }
      ]
    },
    {
      "cell_type": "code",
      "source": [
        "df_cryptopunks['txn_type'].value_counts()"
      ],
      "metadata": {
        "colab": {
          "base_uri": "https://localhost:8080/"
        },
        "id": "KqSADUecQumF",
        "outputId": "5b638b7f-d116-45f3-c500-1ae2e69ec6e3"
      },
      "execution_count": 12,
      "outputs": [
        {
          "output_type": "execute_result",
          "data": {
            "text/plain": [
              "Offered            65467\n",
              "Bid                26808\n",
              "Sold               18979\n",
              "Bid Withdrawn      16342\n",
              "Transfer           14225\n",
              "Offer Withdrawn    10372\n",
              "Claimed            10000\n",
              "(Wrap)              2773\n",
              "(Unwrap)            2526\n",
              "Name: txn_type, dtype: int64"
            ]
          },
          "metadata": {},
          "execution_count": 12
        }
      ]
    },
    {
      "cell_type": "markdown",
      "source": [
        "I am only interested in Punks sales and Punks transfers, I'll filter this dataset for sell and transfer data."
      ],
      "metadata": {
        "id": "sxHV4eoZQ_3Q"
      }
    },
    {
      "cell_type": "code",
      "source": [
        "df_cryptopunks = df_cryptopunks.loc[(df_cryptopunks['txn_type'] == 'Sold') | (df_cryptopunks['txn_type'] == 'Transfer')].copy()"
      ],
      "metadata": {
        "id": "O2fJRabdRBVW"
      },
      "execution_count": 13,
      "outputs": []
    },
    {
      "cell_type": "markdown",
      "source": [
        "## 4.2. Check data information and adjust if necessary"
      ],
      "metadata": {
        "id": "Uko9yEH_BwtG"
      }
    },
    {
      "cell_type": "code",
      "source": [
        "df_cryptopunks.dtypes"
      ],
      "metadata": {
        "colab": {
          "base_uri": "https://localhost:8080/"
        },
        "id": "TFmaSkt0CNhC",
        "outputId": "ce8f9500-098e-4500-ed9d-acd9466987a2"
      },
      "execution_count": 14,
      "outputs": [
        {
          "output_type": "execute_result",
          "data": {
            "text/plain": [
              "txn_type                       object\n",
              "from                           object\n",
              "to                             object\n",
              "date                   datetime64[ns]\n",
              "timestamp              datetime64[ns]\n",
              "source                         object\n",
              "eth                           float64\n",
              "punk_id                         int64\n",
              "from_wallet_address            object\n",
              "to_wallet_address              object\n",
              "type                           object\n",
              "accessories                    object\n",
              "dtype: object"
            ]
          },
          "metadata": {},
          "execution_count": 14
        }
      ]
    },
    {
      "cell_type": "code",
      "source": [
        "df_cryptopunks.info()"
      ],
      "metadata": {
        "colab": {
          "base_uri": "https://localhost:8080/"
        },
        "id": "RZNQ-B6zBcG4",
        "outputId": "cd5ec1ef-d775-43e7-9bab-18e651942432"
      },
      "execution_count": 15,
      "outputs": [
        {
          "output_type": "stream",
          "name": "stdout",
          "text": [
            "<class 'pandas.core.frame.DataFrame'>\n",
            "Int64Index: 33204 entries, 22 to 167457\n",
            "Data columns (total 12 columns):\n",
            " #   Column               Non-Null Count  Dtype         \n",
            "---  ------               --------------  -----         \n",
            " 0   txn_type             33204 non-null  object        \n",
            " 1   from                 33204 non-null  object        \n",
            " 2   to                   33204 non-null  object        \n",
            " 3   date                 33204 non-null  datetime64[ns]\n",
            " 4   timestamp            33204 non-null  datetime64[ns]\n",
            " 5   source               33204 non-null  object        \n",
            " 6   eth                  18979 non-null  float64       \n",
            " 7   punk_id              33204 non-null  int64         \n",
            " 8   from_wallet_address  57 non-null     object        \n",
            " 9   to_wallet_address    57 non-null     object        \n",
            " 10  type                 33204 non-null  object        \n",
            " 11  accessories          33204 non-null  object        \n",
            "dtypes: datetime64[ns](2), float64(1), int64(1), object(8)\n",
            "memory usage: 3.3+ MB\n"
          ]
        }
      ]
    },
    {
      "cell_type": "code",
      "source": [
        "print('The earliest transaction date in the dataset is: ')\n",
        "print(df_cryptopunks.date.min())\n",
        "\n",
        "print('\\n\\nThe latest transaction date in the dataset is: ')\n",
        "print(df_cryptopunks.date.max())"
      ],
      "metadata": {
        "colab": {
          "base_uri": "https://localhost:8080/"
        },
        "id": "37j-iHtJERyG",
        "outputId": "d0c635ef-56de-419d-f58b-cc89a06c4678"
      },
      "execution_count": 16,
      "outputs": [
        {
          "output_type": "stream",
          "name": "stdout",
          "text": [
            "The earliest transaction date in the dataset is: \n",
            "2017-06-23 00:00:00\n",
            "\n",
            "\n",
            "The latest transaction date in the dataset is: \n",
            "2021-10-07 00:00:00\n"
          ]
        }
      ]
    },
    {
      "cell_type": "code",
      "source": [
        "df_cryptopunks.describe(include='all', datetime_is_numeric=True)"
      ],
      "metadata": {
        "colab": {
          "base_uri": "https://localhost:8080/",
          "height": 597
        },
        "id": "nkpCs5tcRRQG",
        "outputId": "9882c671-891c-443d-bdda-b4e67c9d93fc"
      },
      "execution_count": 17,
      "outputs": [
        {
          "output_type": "execute_result",
          "data": {
            "text/plain": [
              "       txn_type   from        to                           date  \\\n",
              "count     33204  33204     33204                          33204   \n",
              "unique        2   4289      6518                            NaN   \n",
              "top        Sold  Hemba  0x577ebc                            NaN   \n",
              "freq      18979   1244       764                            NaN   \n",
              "mean        NaN    NaN       NaN  2020-10-03 03:03:19.060354048   \n",
              "min         NaN    NaN       NaN            2017-06-23 00:00:00   \n",
              "25%         NaN    NaN       NaN            2020-09-15 00:00:00   \n",
              "50%         NaN    NaN       NaN            2021-02-22 00:00:00   \n",
              "75%         NaN    NaN       NaN            2021-06-21 00:00:00   \n",
              "max         NaN    NaN       NaN            2021-10-07 00:00:00   \n",
              "std         NaN    NaN       NaN                            NaN   \n",
              "\n",
              "                            timestamp     source           eth       punk_id  \\\n",
              "count                           33204      33204  18979.000000  33204.000000   \n",
              "unique                            NaN          2           NaN           NaN   \n",
              "top                               NaN  larvalabs           NaN           NaN   \n",
              "freq                              NaN      32461           NaN           NaN   \n",
              "mean    2020-10-03 03:17:27.257378560        NaN     29.386728   5295.921094   \n",
              "min               2017-06-23 00:00:00        NaN      0.000000      0.000000   \n",
              "25%               2020-09-15 00:00:00        NaN      1.500000   2948.000000   \n",
              "50%               2021-02-22 00:00:00        NaN     15.400000   5356.000000   \n",
              "75%               2021-06-21 00:00:00        NaN     33.000000   7693.000000   \n",
              "max               2021-10-07 17:37:42        NaN   4200.000000   9999.000000   \n",
              "std                               NaN        NaN     69.642424   2768.022396   \n",
              "\n",
              "                               from_wallet_address to_wallet_address    type  \\\n",
              "count                                           57                57   33204   \n",
              "unique                                          47                22       5   \n",
              "top     0x8fa20dcc712bd224b54bc1cdfd30a37349f8df2a                    [Male]   \n",
              "freq                                             3                34   21907   \n",
              "mean                                           NaN               NaN     NaN   \n",
              "min                                            NaN               NaN     NaN   \n",
              "25%                                            NaN               NaN     NaN   \n",
              "50%                                            NaN               NaN     NaN   \n",
              "75%                                            NaN               NaN     NaN   \n",
              "max                                            NaN               NaN     NaN   \n",
              "std                                            NaN               NaN     NaN   \n",
              "\n",
              "                             accessories  \n",
              "count                              33204  \n",
              "unique                              6053  \n",
              "top     [Stringy Hair, Front Beard Dark]  \n",
              "freq                                  48  \n",
              "mean                                 NaN  \n",
              "min                                  NaN  \n",
              "25%                                  NaN  \n",
              "50%                                  NaN  \n",
              "75%                                  NaN  \n",
              "max                                  NaN  \n",
              "std                                  NaN  "
            ],
            "text/html": [
              "\n",
              "  <div id=\"df-c6b0b617-b8e4-44e9-b7cf-ed59be7cf9e1\">\n",
              "    <div class=\"colab-df-container\">\n",
              "      <div>\n",
              "<style scoped>\n",
              "    .dataframe tbody tr th:only-of-type {\n",
              "        vertical-align: middle;\n",
              "    }\n",
              "\n",
              "    .dataframe tbody tr th {\n",
              "        vertical-align: top;\n",
              "    }\n",
              "\n",
              "    .dataframe thead th {\n",
              "        text-align: right;\n",
              "    }\n",
              "</style>\n",
              "<table border=\"1\" class=\"dataframe\">\n",
              "  <thead>\n",
              "    <tr style=\"text-align: right;\">\n",
              "      <th></th>\n",
              "      <th>txn_type</th>\n",
              "      <th>from</th>\n",
              "      <th>to</th>\n",
              "      <th>date</th>\n",
              "      <th>timestamp</th>\n",
              "      <th>source</th>\n",
              "      <th>eth</th>\n",
              "      <th>punk_id</th>\n",
              "      <th>from_wallet_address</th>\n",
              "      <th>to_wallet_address</th>\n",
              "      <th>type</th>\n",
              "      <th>accessories</th>\n",
              "    </tr>\n",
              "  </thead>\n",
              "  <tbody>\n",
              "    <tr>\n",
              "      <th>count</th>\n",
              "      <td>33204</td>\n",
              "      <td>33204</td>\n",
              "      <td>33204</td>\n",
              "      <td>33204</td>\n",
              "      <td>33204</td>\n",
              "      <td>33204</td>\n",
              "      <td>18979.000000</td>\n",
              "      <td>33204.000000</td>\n",
              "      <td>57</td>\n",
              "      <td>57</td>\n",
              "      <td>33204</td>\n",
              "      <td>33204</td>\n",
              "    </tr>\n",
              "    <tr>\n",
              "      <th>unique</th>\n",
              "      <td>2</td>\n",
              "      <td>4289</td>\n",
              "      <td>6518</td>\n",
              "      <td>NaN</td>\n",
              "      <td>NaN</td>\n",
              "      <td>2</td>\n",
              "      <td>NaN</td>\n",
              "      <td>NaN</td>\n",
              "      <td>47</td>\n",
              "      <td>22</td>\n",
              "      <td>5</td>\n",
              "      <td>6053</td>\n",
              "    </tr>\n",
              "    <tr>\n",
              "      <th>top</th>\n",
              "      <td>Sold</td>\n",
              "      <td>Hemba</td>\n",
              "      <td>0x577ebc</td>\n",
              "      <td>NaN</td>\n",
              "      <td>NaN</td>\n",
              "      <td>larvalabs</td>\n",
              "      <td>NaN</td>\n",
              "      <td>NaN</td>\n",
              "      <td>0x8fa20dcc712bd224b54bc1cdfd30a37349f8df2a</td>\n",
              "      <td></td>\n",
              "      <td>[Male]</td>\n",
              "      <td>[Stringy Hair, Front Beard Dark]</td>\n",
              "    </tr>\n",
              "    <tr>\n",
              "      <th>freq</th>\n",
              "      <td>18979</td>\n",
              "      <td>1244</td>\n",
              "      <td>764</td>\n",
              "      <td>NaN</td>\n",
              "      <td>NaN</td>\n",
              "      <td>32461</td>\n",
              "      <td>NaN</td>\n",
              "      <td>NaN</td>\n",
              "      <td>3</td>\n",
              "      <td>34</td>\n",
              "      <td>21907</td>\n",
              "      <td>48</td>\n",
              "    </tr>\n",
              "    <tr>\n",
              "      <th>mean</th>\n",
              "      <td>NaN</td>\n",
              "      <td>NaN</td>\n",
              "      <td>NaN</td>\n",
              "      <td>2020-10-03 03:03:19.060354048</td>\n",
              "      <td>2020-10-03 03:17:27.257378560</td>\n",
              "      <td>NaN</td>\n",
              "      <td>29.386728</td>\n",
              "      <td>5295.921094</td>\n",
              "      <td>NaN</td>\n",
              "      <td>NaN</td>\n",
              "      <td>NaN</td>\n",
              "      <td>NaN</td>\n",
              "    </tr>\n",
              "    <tr>\n",
              "      <th>min</th>\n",
              "      <td>NaN</td>\n",
              "      <td>NaN</td>\n",
              "      <td>NaN</td>\n",
              "      <td>2017-06-23 00:00:00</td>\n",
              "      <td>2017-06-23 00:00:00</td>\n",
              "      <td>NaN</td>\n",
              "      <td>0.000000</td>\n",
              "      <td>0.000000</td>\n",
              "      <td>NaN</td>\n",
              "      <td>NaN</td>\n",
              "      <td>NaN</td>\n",
              "      <td>NaN</td>\n",
              "    </tr>\n",
              "    <tr>\n",
              "      <th>25%</th>\n",
              "      <td>NaN</td>\n",
              "      <td>NaN</td>\n",
              "      <td>NaN</td>\n",
              "      <td>2020-09-15 00:00:00</td>\n",
              "      <td>2020-09-15 00:00:00</td>\n",
              "      <td>NaN</td>\n",
              "      <td>1.500000</td>\n",
              "      <td>2948.000000</td>\n",
              "      <td>NaN</td>\n",
              "      <td>NaN</td>\n",
              "      <td>NaN</td>\n",
              "      <td>NaN</td>\n",
              "    </tr>\n",
              "    <tr>\n",
              "      <th>50%</th>\n",
              "      <td>NaN</td>\n",
              "      <td>NaN</td>\n",
              "      <td>NaN</td>\n",
              "      <td>2021-02-22 00:00:00</td>\n",
              "      <td>2021-02-22 00:00:00</td>\n",
              "      <td>NaN</td>\n",
              "      <td>15.400000</td>\n",
              "      <td>5356.000000</td>\n",
              "      <td>NaN</td>\n",
              "      <td>NaN</td>\n",
              "      <td>NaN</td>\n",
              "      <td>NaN</td>\n",
              "    </tr>\n",
              "    <tr>\n",
              "      <th>75%</th>\n",
              "      <td>NaN</td>\n",
              "      <td>NaN</td>\n",
              "      <td>NaN</td>\n",
              "      <td>2021-06-21 00:00:00</td>\n",
              "      <td>2021-06-21 00:00:00</td>\n",
              "      <td>NaN</td>\n",
              "      <td>33.000000</td>\n",
              "      <td>7693.000000</td>\n",
              "      <td>NaN</td>\n",
              "      <td>NaN</td>\n",
              "      <td>NaN</td>\n",
              "      <td>NaN</td>\n",
              "    </tr>\n",
              "    <tr>\n",
              "      <th>max</th>\n",
              "      <td>NaN</td>\n",
              "      <td>NaN</td>\n",
              "      <td>NaN</td>\n",
              "      <td>2021-10-07 00:00:00</td>\n",
              "      <td>2021-10-07 17:37:42</td>\n",
              "      <td>NaN</td>\n",
              "      <td>4200.000000</td>\n",
              "      <td>9999.000000</td>\n",
              "      <td>NaN</td>\n",
              "      <td>NaN</td>\n",
              "      <td>NaN</td>\n",
              "      <td>NaN</td>\n",
              "    </tr>\n",
              "    <tr>\n",
              "      <th>std</th>\n",
              "      <td>NaN</td>\n",
              "      <td>NaN</td>\n",
              "      <td>NaN</td>\n",
              "      <td>NaN</td>\n",
              "      <td>NaN</td>\n",
              "      <td>NaN</td>\n",
              "      <td>69.642424</td>\n",
              "      <td>2768.022396</td>\n",
              "      <td>NaN</td>\n",
              "      <td>NaN</td>\n",
              "      <td>NaN</td>\n",
              "      <td>NaN</td>\n",
              "    </tr>\n",
              "  </tbody>\n",
              "</table>\n",
              "</div>\n",
              "      <button class=\"colab-df-convert\" onclick=\"convertToInteractive('df-c6b0b617-b8e4-44e9-b7cf-ed59be7cf9e1')\"\n",
              "              title=\"Convert this dataframe to an interactive table.\"\n",
              "              style=\"display:none;\">\n",
              "        \n",
              "  <svg xmlns=\"http://www.w3.org/2000/svg\" height=\"24px\"viewBox=\"0 0 24 24\"\n",
              "       width=\"24px\">\n",
              "    <path d=\"M0 0h24v24H0V0z\" fill=\"none\"/>\n",
              "    <path d=\"M18.56 5.44l.94 2.06.94-2.06 2.06-.94-2.06-.94-.94-2.06-.94 2.06-2.06.94zm-11 1L8.5 8.5l.94-2.06 2.06-.94-2.06-.94L8.5 2.5l-.94 2.06-2.06.94zm10 10l.94 2.06.94-2.06 2.06-.94-2.06-.94-.94-2.06-.94 2.06-2.06.94z\"/><path d=\"M17.41 7.96l-1.37-1.37c-.4-.4-.92-.59-1.43-.59-.52 0-1.04.2-1.43.59L10.3 9.45l-7.72 7.72c-.78.78-.78 2.05 0 2.83L4 21.41c.39.39.9.59 1.41.59.51 0 1.02-.2 1.41-.59l7.78-7.78 2.81-2.81c.8-.78.8-2.07 0-2.86zM5.41 20L4 18.59l7.72-7.72 1.47 1.35L5.41 20z\"/>\n",
              "  </svg>\n",
              "      </button>\n",
              "      \n",
              "  <style>\n",
              "    .colab-df-container {\n",
              "      display:flex;\n",
              "      flex-wrap:wrap;\n",
              "      gap: 12px;\n",
              "    }\n",
              "\n",
              "    .colab-df-convert {\n",
              "      background-color: #E8F0FE;\n",
              "      border: none;\n",
              "      border-radius: 50%;\n",
              "      cursor: pointer;\n",
              "      display: none;\n",
              "      fill: #1967D2;\n",
              "      height: 32px;\n",
              "      padding: 0 0 0 0;\n",
              "      width: 32px;\n",
              "    }\n",
              "\n",
              "    .colab-df-convert:hover {\n",
              "      background-color: #E2EBFA;\n",
              "      box-shadow: 0px 1px 2px rgba(60, 64, 67, 0.3), 0px 1px 3px 1px rgba(60, 64, 67, 0.15);\n",
              "      fill: #174EA6;\n",
              "    }\n",
              "\n",
              "    [theme=dark] .colab-df-convert {\n",
              "      background-color: #3B4455;\n",
              "      fill: #D2E3FC;\n",
              "    }\n",
              "\n",
              "    [theme=dark] .colab-df-convert:hover {\n",
              "      background-color: #434B5C;\n",
              "      box-shadow: 0px 1px 3px 1px rgba(0, 0, 0, 0.15);\n",
              "      filter: drop-shadow(0px 1px 2px rgba(0, 0, 0, 0.3));\n",
              "      fill: #FFFFFF;\n",
              "    }\n",
              "  </style>\n",
              "\n",
              "      <script>\n",
              "        const buttonEl =\n",
              "          document.querySelector('#df-c6b0b617-b8e4-44e9-b7cf-ed59be7cf9e1 button.colab-df-convert');\n",
              "        buttonEl.style.display =\n",
              "          google.colab.kernel.accessAllowed ? 'block' : 'none';\n",
              "\n",
              "        async function convertToInteractive(key) {\n",
              "          const element = document.querySelector('#df-c6b0b617-b8e4-44e9-b7cf-ed59be7cf9e1');\n",
              "          const dataTable =\n",
              "            await google.colab.kernel.invokeFunction('convertToInteractive',\n",
              "                                                     [key], {});\n",
              "          if (!dataTable) return;\n",
              "\n",
              "          const docLinkHtml = 'Like what you see? Visit the ' +\n",
              "            '<a target=\"_blank\" href=https://colab.research.google.com/notebooks/data_table.ipynb>data table notebook</a>'\n",
              "            + ' to learn more about interactive tables.';\n",
              "          element.innerHTML = '';\n",
              "          dataTable['output_type'] = 'display_data';\n",
              "          await google.colab.output.renderOutput(dataTable, element);\n",
              "          const docLink = document.createElement('div');\n",
              "          docLink.innerHTML = docLinkHtml;\n",
              "          element.appendChild(docLink);\n",
              "        }\n",
              "      </script>\n",
              "    </div>\n",
              "  </div>\n",
              "  "
            ]
          },
          "metadata": {},
          "execution_count": 17
        }
      ]
    },
    {
      "cell_type": "markdown",
      "source": [
        "## Keep only the variables needed and sorted by time"
      ],
      "metadata": {
        "id": "cY3jI67uBqot"
      }
    },
    {
      "cell_type": "code",
      "source": [
        "df_cryptopunks_sorted = df_cryptopunks.groupby(\"timestamp\").agg({'eth':'mean'})\n",
        "df_cryptopunks_sorted = df_cryptopunks_sorted.reset_index(drop=False)"
      ],
      "metadata": {
        "id": "0n57-Ds8Zo-9"
      },
      "execution_count": 18,
      "outputs": []
    },
    {
      "cell_type": "code",
      "source": [
        "df_cryptopunks_sorted = df_cryptopunks_sorted.select_dtypes(exclude=['object']).sort_values(by='timestamp')\n",
        "df_cryptopunks_sorted['timestamp'] = pd.to_datetime(df_cryptopunks_sorted['timestamp'], unit='s')\n",
        "df_cryptopunks_sorted=df_cryptopunks_sorted.dropna()\n",
        "df_cryptopunks_sorted.head()"
      ],
      "metadata": {
        "colab": {
          "base_uri": "https://localhost:8080/",
          "height": 206
        },
        "id": "OdgffX7UBhjZ",
        "outputId": "63089c02-b489-4216-98de-2888311c55a6"
      },
      "execution_count": 19,
      "outputs": [
        {
          "output_type": "execute_result",
          "data": {
            "text/plain": [
              "   timestamp       eth\n",
              "0 2017-06-23  0.154500\n",
              "1 2017-06-24  0.194091\n",
              "2 2017-06-25  0.138462\n",
              "3 2017-06-26  0.135556\n",
              "4 2017-06-27  0.222222"
            ],
            "text/html": [
              "\n",
              "  <div id=\"df-bb90842d-4e6e-44b5-b60f-7cd3329c7494\">\n",
              "    <div class=\"colab-df-container\">\n",
              "      <div>\n",
              "<style scoped>\n",
              "    .dataframe tbody tr th:only-of-type {\n",
              "        vertical-align: middle;\n",
              "    }\n",
              "\n",
              "    .dataframe tbody tr th {\n",
              "        vertical-align: top;\n",
              "    }\n",
              "\n",
              "    .dataframe thead th {\n",
              "        text-align: right;\n",
              "    }\n",
              "</style>\n",
              "<table border=\"1\" class=\"dataframe\">\n",
              "  <thead>\n",
              "    <tr style=\"text-align: right;\">\n",
              "      <th></th>\n",
              "      <th>timestamp</th>\n",
              "      <th>eth</th>\n",
              "    </tr>\n",
              "  </thead>\n",
              "  <tbody>\n",
              "    <tr>\n",
              "      <th>0</th>\n",
              "      <td>2017-06-23</td>\n",
              "      <td>0.154500</td>\n",
              "    </tr>\n",
              "    <tr>\n",
              "      <th>1</th>\n",
              "      <td>2017-06-24</td>\n",
              "      <td>0.194091</td>\n",
              "    </tr>\n",
              "    <tr>\n",
              "      <th>2</th>\n",
              "      <td>2017-06-25</td>\n",
              "      <td>0.138462</td>\n",
              "    </tr>\n",
              "    <tr>\n",
              "      <th>3</th>\n",
              "      <td>2017-06-26</td>\n",
              "      <td>0.135556</td>\n",
              "    </tr>\n",
              "    <tr>\n",
              "      <th>4</th>\n",
              "      <td>2017-06-27</td>\n",
              "      <td>0.222222</td>\n",
              "    </tr>\n",
              "  </tbody>\n",
              "</table>\n",
              "</div>\n",
              "      <button class=\"colab-df-convert\" onclick=\"convertToInteractive('df-bb90842d-4e6e-44b5-b60f-7cd3329c7494')\"\n",
              "              title=\"Convert this dataframe to an interactive table.\"\n",
              "              style=\"display:none;\">\n",
              "        \n",
              "  <svg xmlns=\"http://www.w3.org/2000/svg\" height=\"24px\"viewBox=\"0 0 24 24\"\n",
              "       width=\"24px\">\n",
              "    <path d=\"M0 0h24v24H0V0z\" fill=\"none\"/>\n",
              "    <path d=\"M18.56 5.44l.94 2.06.94-2.06 2.06-.94-2.06-.94-.94-2.06-.94 2.06-2.06.94zm-11 1L8.5 8.5l.94-2.06 2.06-.94-2.06-.94L8.5 2.5l-.94 2.06-2.06.94zm10 10l.94 2.06.94-2.06 2.06-.94-2.06-.94-.94-2.06-.94 2.06-2.06.94z\"/><path d=\"M17.41 7.96l-1.37-1.37c-.4-.4-.92-.59-1.43-.59-.52 0-1.04.2-1.43.59L10.3 9.45l-7.72 7.72c-.78.78-.78 2.05 0 2.83L4 21.41c.39.39.9.59 1.41.59.51 0 1.02-.2 1.41-.59l7.78-7.78 2.81-2.81c.8-.78.8-2.07 0-2.86zM5.41 20L4 18.59l7.72-7.72 1.47 1.35L5.41 20z\"/>\n",
              "  </svg>\n",
              "      </button>\n",
              "      \n",
              "  <style>\n",
              "    .colab-df-container {\n",
              "      display:flex;\n",
              "      flex-wrap:wrap;\n",
              "      gap: 12px;\n",
              "    }\n",
              "\n",
              "    .colab-df-convert {\n",
              "      background-color: #E8F0FE;\n",
              "      border: none;\n",
              "      border-radius: 50%;\n",
              "      cursor: pointer;\n",
              "      display: none;\n",
              "      fill: #1967D2;\n",
              "      height: 32px;\n",
              "      padding: 0 0 0 0;\n",
              "      width: 32px;\n",
              "    }\n",
              "\n",
              "    .colab-df-convert:hover {\n",
              "      background-color: #E2EBFA;\n",
              "      box-shadow: 0px 1px 2px rgba(60, 64, 67, 0.3), 0px 1px 3px 1px rgba(60, 64, 67, 0.15);\n",
              "      fill: #174EA6;\n",
              "    }\n",
              "\n",
              "    [theme=dark] .colab-df-convert {\n",
              "      background-color: #3B4455;\n",
              "      fill: #D2E3FC;\n",
              "    }\n",
              "\n",
              "    [theme=dark] .colab-df-convert:hover {\n",
              "      background-color: #434B5C;\n",
              "      box-shadow: 0px 1px 3px 1px rgba(0, 0, 0, 0.15);\n",
              "      filter: drop-shadow(0px 1px 2px rgba(0, 0, 0, 0.3));\n",
              "      fill: #FFFFFF;\n",
              "    }\n",
              "  </style>\n",
              "\n",
              "      <script>\n",
              "        const buttonEl =\n",
              "          document.querySelector('#df-bb90842d-4e6e-44b5-b60f-7cd3329c7494 button.colab-df-convert');\n",
              "        buttonEl.style.display =\n",
              "          google.colab.kernel.accessAllowed ? 'block' : 'none';\n",
              "\n",
              "        async function convertToInteractive(key) {\n",
              "          const element = document.querySelector('#df-bb90842d-4e6e-44b5-b60f-7cd3329c7494');\n",
              "          const dataTable =\n",
              "            await google.colab.kernel.invokeFunction('convertToInteractive',\n",
              "                                                     [key], {});\n",
              "          if (!dataTable) return;\n",
              "\n",
              "          const docLinkHtml = 'Like what you see? Visit the ' +\n",
              "            '<a target=\"_blank\" href=https://colab.research.google.com/notebooks/data_table.ipynb>data table notebook</a>'\n",
              "            + ' to learn more about interactive tables.';\n",
              "          element.innerHTML = '';\n",
              "          dataTable['output_type'] = 'display_data';\n",
              "          await google.colab.output.renderOutput(dataTable, element);\n",
              "          const docLink = document.createElement('div');\n",
              "          docLink.innerHTML = docLinkHtml;\n",
              "          element.appendChild(docLink);\n",
              "        }\n",
              "      </script>\n",
              "    </div>\n",
              "  </div>\n",
              "  "
            ]
          },
          "metadata": {},
          "execution_count": 19
        }
      ]
    },
    {
      "cell_type": "markdown",
      "source": [
        "## Calculate ROI"
      ],
      "metadata": {
        "id": "JPcJ7T00Yv9C"
      }
    },
    {
      "cell_type": "code",
      "source": [
        "df_cryptopunks_sorted['ROI']=df_cryptopunks_sorted['eth'].pct_change()\n",
        "df_cryptopunks_sorted.dropna()"
      ],
      "metadata": {
        "colab": {
          "base_uri": "https://localhost:8080/",
          "height": 424
        },
        "id": "zjXmJloaYyAv",
        "outputId": "500d95c9-9073-4ff8-ae62-524870ed6141"
      },
      "execution_count": 28,
      "outputs": [
        {
          "output_type": "execute_result",
          "data": {
            "text/plain": [
              "               timestamp         eth       ROI\n",
              "1    2017-06-24 00:00:00    0.194091  0.256252\n",
              "2    2017-06-25 00:00:00    0.138462 -0.286615\n",
              "3    2017-06-26 00:00:00    0.135556 -0.020988\n",
              "4    2017-06-27 00:00:00    0.222222  0.639344\n",
              "5    2017-06-28 00:00:00    0.287368  0.293158\n",
              "...                  ...         ...       ...\n",
              "1741 2021-10-06 18:57:41  148.450000  0.076115\n",
              "1743 2021-10-07 00:27:26  160.000000  0.077804\n",
              "1747 2021-10-07 06:13:16  125.000000 -0.218750\n",
              "1751 2021-10-07 11:28:11  120.000000 -0.040000\n",
              "1752 2021-10-07 14:33:08  117.990000 -0.016750\n",
              "\n",
              "[1378 rows x 3 columns]"
            ],
            "text/html": [
              "\n",
              "  <div id=\"df-557cd7ed-2b34-4493-9036-39ea380eb432\">\n",
              "    <div class=\"colab-df-container\">\n",
              "      <div>\n",
              "<style scoped>\n",
              "    .dataframe tbody tr th:only-of-type {\n",
              "        vertical-align: middle;\n",
              "    }\n",
              "\n",
              "    .dataframe tbody tr th {\n",
              "        vertical-align: top;\n",
              "    }\n",
              "\n",
              "    .dataframe thead th {\n",
              "        text-align: right;\n",
              "    }\n",
              "</style>\n",
              "<table border=\"1\" class=\"dataframe\">\n",
              "  <thead>\n",
              "    <tr style=\"text-align: right;\">\n",
              "      <th></th>\n",
              "      <th>timestamp</th>\n",
              "      <th>eth</th>\n",
              "      <th>ROI</th>\n",
              "    </tr>\n",
              "  </thead>\n",
              "  <tbody>\n",
              "    <tr>\n",
              "      <th>1</th>\n",
              "      <td>2017-06-24 00:00:00</td>\n",
              "      <td>0.194091</td>\n",
              "      <td>0.256252</td>\n",
              "    </tr>\n",
              "    <tr>\n",
              "      <th>2</th>\n",
              "      <td>2017-06-25 00:00:00</td>\n",
              "      <td>0.138462</td>\n",
              "      <td>-0.286615</td>\n",
              "    </tr>\n",
              "    <tr>\n",
              "      <th>3</th>\n",
              "      <td>2017-06-26 00:00:00</td>\n",
              "      <td>0.135556</td>\n",
              "      <td>-0.020988</td>\n",
              "    </tr>\n",
              "    <tr>\n",
              "      <th>4</th>\n",
              "      <td>2017-06-27 00:00:00</td>\n",
              "      <td>0.222222</td>\n",
              "      <td>0.639344</td>\n",
              "    </tr>\n",
              "    <tr>\n",
              "      <th>5</th>\n",
              "      <td>2017-06-28 00:00:00</td>\n",
              "      <td>0.287368</td>\n",
              "      <td>0.293158</td>\n",
              "    </tr>\n",
              "    <tr>\n",
              "      <th>...</th>\n",
              "      <td>...</td>\n",
              "      <td>...</td>\n",
              "      <td>...</td>\n",
              "    </tr>\n",
              "    <tr>\n",
              "      <th>1741</th>\n",
              "      <td>2021-10-06 18:57:41</td>\n",
              "      <td>148.450000</td>\n",
              "      <td>0.076115</td>\n",
              "    </tr>\n",
              "    <tr>\n",
              "      <th>1743</th>\n",
              "      <td>2021-10-07 00:27:26</td>\n",
              "      <td>160.000000</td>\n",
              "      <td>0.077804</td>\n",
              "    </tr>\n",
              "    <tr>\n",
              "      <th>1747</th>\n",
              "      <td>2021-10-07 06:13:16</td>\n",
              "      <td>125.000000</td>\n",
              "      <td>-0.218750</td>\n",
              "    </tr>\n",
              "    <tr>\n",
              "      <th>1751</th>\n",
              "      <td>2021-10-07 11:28:11</td>\n",
              "      <td>120.000000</td>\n",
              "      <td>-0.040000</td>\n",
              "    </tr>\n",
              "    <tr>\n",
              "      <th>1752</th>\n",
              "      <td>2021-10-07 14:33:08</td>\n",
              "      <td>117.990000</td>\n",
              "      <td>-0.016750</td>\n",
              "    </tr>\n",
              "  </tbody>\n",
              "</table>\n",
              "<p>1378 rows × 3 columns</p>\n",
              "</div>\n",
              "      <button class=\"colab-df-convert\" onclick=\"convertToInteractive('df-557cd7ed-2b34-4493-9036-39ea380eb432')\"\n",
              "              title=\"Convert this dataframe to an interactive table.\"\n",
              "              style=\"display:none;\">\n",
              "        \n",
              "  <svg xmlns=\"http://www.w3.org/2000/svg\" height=\"24px\"viewBox=\"0 0 24 24\"\n",
              "       width=\"24px\">\n",
              "    <path d=\"M0 0h24v24H0V0z\" fill=\"none\"/>\n",
              "    <path d=\"M18.56 5.44l.94 2.06.94-2.06 2.06-.94-2.06-.94-.94-2.06-.94 2.06-2.06.94zm-11 1L8.5 8.5l.94-2.06 2.06-.94-2.06-.94L8.5 2.5l-.94 2.06-2.06.94zm10 10l.94 2.06.94-2.06 2.06-.94-2.06-.94-.94-2.06-.94 2.06-2.06.94z\"/><path d=\"M17.41 7.96l-1.37-1.37c-.4-.4-.92-.59-1.43-.59-.52 0-1.04.2-1.43.59L10.3 9.45l-7.72 7.72c-.78.78-.78 2.05 0 2.83L4 21.41c.39.39.9.59 1.41.59.51 0 1.02-.2 1.41-.59l7.78-7.78 2.81-2.81c.8-.78.8-2.07 0-2.86zM5.41 20L4 18.59l7.72-7.72 1.47 1.35L5.41 20z\"/>\n",
              "  </svg>\n",
              "      </button>\n",
              "      \n",
              "  <style>\n",
              "    .colab-df-container {\n",
              "      display:flex;\n",
              "      flex-wrap:wrap;\n",
              "      gap: 12px;\n",
              "    }\n",
              "\n",
              "    .colab-df-convert {\n",
              "      background-color: #E8F0FE;\n",
              "      border: none;\n",
              "      border-radius: 50%;\n",
              "      cursor: pointer;\n",
              "      display: none;\n",
              "      fill: #1967D2;\n",
              "      height: 32px;\n",
              "      padding: 0 0 0 0;\n",
              "      width: 32px;\n",
              "    }\n",
              "\n",
              "    .colab-df-convert:hover {\n",
              "      background-color: #E2EBFA;\n",
              "      box-shadow: 0px 1px 2px rgba(60, 64, 67, 0.3), 0px 1px 3px 1px rgba(60, 64, 67, 0.15);\n",
              "      fill: #174EA6;\n",
              "    }\n",
              "\n",
              "    [theme=dark] .colab-df-convert {\n",
              "      background-color: #3B4455;\n",
              "      fill: #D2E3FC;\n",
              "    }\n",
              "\n",
              "    [theme=dark] .colab-df-convert:hover {\n",
              "      background-color: #434B5C;\n",
              "      box-shadow: 0px 1px 3px 1px rgba(0, 0, 0, 0.15);\n",
              "      filter: drop-shadow(0px 1px 2px rgba(0, 0, 0, 0.3));\n",
              "      fill: #FFFFFF;\n",
              "    }\n",
              "  </style>\n",
              "\n",
              "      <script>\n",
              "        const buttonEl =\n",
              "          document.querySelector('#df-557cd7ed-2b34-4493-9036-39ea380eb432 button.colab-df-convert');\n",
              "        buttonEl.style.display =\n",
              "          google.colab.kernel.accessAllowed ? 'block' : 'none';\n",
              "\n",
              "        async function convertToInteractive(key) {\n",
              "          const element = document.querySelector('#df-557cd7ed-2b34-4493-9036-39ea380eb432');\n",
              "          const dataTable =\n",
              "            await google.colab.kernel.invokeFunction('convertToInteractive',\n",
              "                                                     [key], {});\n",
              "          if (!dataTable) return;\n",
              "\n",
              "          const docLinkHtml = 'Like what you see? Visit the ' +\n",
              "            '<a target=\"_blank\" href=https://colab.research.google.com/notebooks/data_table.ipynb>data table notebook</a>'\n",
              "            + ' to learn more about interactive tables.';\n",
              "          element.innerHTML = '';\n",
              "          dataTable['output_type'] = 'display_data';\n",
              "          await google.colab.output.renderOutput(dataTable, element);\n",
              "          const docLink = document.createElement('div');\n",
              "          docLink.innerHTML = docLinkHtml;\n",
              "          element.appendChild(docLink);\n",
              "        }\n",
              "      </script>\n",
              "    </div>\n",
              "  </div>\n",
              "  "
            ]
          },
          "metadata": {},
          "execution_count": 28
        }
      ]
    },
    {
      "cell_type": "code",
      "source": [
        "df_cryptopunks_sorted.to_csv(\"final_queried_data.csv\")"
      ],
      "metadata": {
        "id": "lDtbUMFvB_GM"
      },
      "execution_count": 29,
      "outputs": []
    },
    {
      "cell_type": "markdown",
      "source": [
        "## 4.3. Data Storage Solutions\n",
        "\n",
        "\n"
      ],
      "metadata": {
        "id": "0WviNbr3Cbrq"
      }
    },
    {
      "cell_type": "markdown",
      "source": [
        "### 4.3.1. Save Directly to GitHub\n"
      ],
      "metadata": {
        "id": "kt8ndRAcCkq6"
      }
    },
    {
      "cell_type": "markdown",
      "source": [
        "### 4.3.2. Keep the Data in Google Drive Folder and Proceed to Data Processing and Analyzing"
      ],
      "metadata": {
        "id": "RQTQObyMCo4i"
      }
    },
    {
      "cell_type": "markdown",
      "source": [
        "### 4.3.3 Save the Data as a Kaggle Dataset and then Import from Kaggle"
      ],
      "metadata": {
        "id": "uKREecF7Cwxf"
      }
    },
    {
      "cell_type": "markdown",
      "source": [
        "*instructions*: \n",
        "\n",
        "https://www.analyticsvidhya.com/blog/2021/06/how-to-load-kaggle-datasets-directly-into-google-colab/\n"
      ],
      "metadata": {
        "id": "1XRql4hKDSCJ"
      }
    },
    {
      "cell_type": "markdown",
      "source": [
        "### 4.3.4 Save the Data as a .pkl file to reduce size and save on Github"
      ],
      "metadata": {
        "id": "wjtygvK0C3oU"
      }
    },
    {
      "cell_type": "code",
      "source": [
        "df_cryptopunks_sorted.to_pickle('final_queried_data.pkl')"
      ],
      "metadata": {
        "id": "R7nN7UibDWD0"
      },
      "execution_count": 30,
      "outputs": []
    },
    {
      "cell_type": "markdown",
      "source": [
        "Notes: \n",
        "\n",
        "\n",
        "*   You can't directly import the data from GitHub. You must import from a (Google drive) project folder which is the current working directory\n",
        "*   The Python version that generated the .pkl file might need to be the same as the Python for data importing\n",
        "\n"
      ],
      "metadata": {
        "id": "5Rbp0QbxDhA2"
      }
    },
    {
      "cell_type": "code",
      "source": [
        "df_cryptopunks_sorted =pd.read_pickle('final_queried_data.pkl')\n",
        "df_cryptopunks_sorted.dropna()"
      ],
      "metadata": {
        "colab": {
          "base_uri": "https://localhost:8080/",
          "height": 424
        },
        "id": "jFXj355_DfgV",
        "outputId": "007065be-8832-4ec3-ddaa-38a52fdd3a04"
      },
      "execution_count": 31,
      "outputs": [
        {
          "output_type": "execute_result",
          "data": {
            "text/plain": [
              "               timestamp         eth       ROI\n",
              "1    2017-06-24 00:00:00    0.194091  0.256252\n",
              "2    2017-06-25 00:00:00    0.138462 -0.286615\n",
              "3    2017-06-26 00:00:00    0.135556 -0.020988\n",
              "4    2017-06-27 00:00:00    0.222222  0.639344\n",
              "5    2017-06-28 00:00:00    0.287368  0.293158\n",
              "...                  ...         ...       ...\n",
              "1741 2021-10-06 18:57:41  148.450000  0.076115\n",
              "1743 2021-10-07 00:27:26  160.000000  0.077804\n",
              "1747 2021-10-07 06:13:16  125.000000 -0.218750\n",
              "1751 2021-10-07 11:28:11  120.000000 -0.040000\n",
              "1752 2021-10-07 14:33:08  117.990000 -0.016750\n",
              "\n",
              "[1378 rows x 3 columns]"
            ],
            "text/html": [
              "\n",
              "  <div id=\"df-5503fba8-b6fd-4201-bb7b-be1f3132557e\">\n",
              "    <div class=\"colab-df-container\">\n",
              "      <div>\n",
              "<style scoped>\n",
              "    .dataframe tbody tr th:only-of-type {\n",
              "        vertical-align: middle;\n",
              "    }\n",
              "\n",
              "    .dataframe tbody tr th {\n",
              "        vertical-align: top;\n",
              "    }\n",
              "\n",
              "    .dataframe thead th {\n",
              "        text-align: right;\n",
              "    }\n",
              "</style>\n",
              "<table border=\"1\" class=\"dataframe\">\n",
              "  <thead>\n",
              "    <tr style=\"text-align: right;\">\n",
              "      <th></th>\n",
              "      <th>timestamp</th>\n",
              "      <th>eth</th>\n",
              "      <th>ROI</th>\n",
              "    </tr>\n",
              "  </thead>\n",
              "  <tbody>\n",
              "    <tr>\n",
              "      <th>1</th>\n",
              "      <td>2017-06-24 00:00:00</td>\n",
              "      <td>0.194091</td>\n",
              "      <td>0.256252</td>\n",
              "    </tr>\n",
              "    <tr>\n",
              "      <th>2</th>\n",
              "      <td>2017-06-25 00:00:00</td>\n",
              "      <td>0.138462</td>\n",
              "      <td>-0.286615</td>\n",
              "    </tr>\n",
              "    <tr>\n",
              "      <th>3</th>\n",
              "      <td>2017-06-26 00:00:00</td>\n",
              "      <td>0.135556</td>\n",
              "      <td>-0.020988</td>\n",
              "    </tr>\n",
              "    <tr>\n",
              "      <th>4</th>\n",
              "      <td>2017-06-27 00:00:00</td>\n",
              "      <td>0.222222</td>\n",
              "      <td>0.639344</td>\n",
              "    </tr>\n",
              "    <tr>\n",
              "      <th>5</th>\n",
              "      <td>2017-06-28 00:00:00</td>\n",
              "      <td>0.287368</td>\n",
              "      <td>0.293158</td>\n",
              "    </tr>\n",
              "    <tr>\n",
              "      <th>...</th>\n",
              "      <td>...</td>\n",
              "      <td>...</td>\n",
              "      <td>...</td>\n",
              "    </tr>\n",
              "    <tr>\n",
              "      <th>1741</th>\n",
              "      <td>2021-10-06 18:57:41</td>\n",
              "      <td>148.450000</td>\n",
              "      <td>0.076115</td>\n",
              "    </tr>\n",
              "    <tr>\n",
              "      <th>1743</th>\n",
              "      <td>2021-10-07 00:27:26</td>\n",
              "      <td>160.000000</td>\n",
              "      <td>0.077804</td>\n",
              "    </tr>\n",
              "    <tr>\n",
              "      <th>1747</th>\n",
              "      <td>2021-10-07 06:13:16</td>\n",
              "      <td>125.000000</td>\n",
              "      <td>-0.218750</td>\n",
              "    </tr>\n",
              "    <tr>\n",
              "      <th>1751</th>\n",
              "      <td>2021-10-07 11:28:11</td>\n",
              "      <td>120.000000</td>\n",
              "      <td>-0.040000</td>\n",
              "    </tr>\n",
              "    <tr>\n",
              "      <th>1752</th>\n",
              "      <td>2021-10-07 14:33:08</td>\n",
              "      <td>117.990000</td>\n",
              "      <td>-0.016750</td>\n",
              "    </tr>\n",
              "  </tbody>\n",
              "</table>\n",
              "<p>1378 rows × 3 columns</p>\n",
              "</div>\n",
              "      <button class=\"colab-df-convert\" onclick=\"convertToInteractive('df-5503fba8-b6fd-4201-bb7b-be1f3132557e')\"\n",
              "              title=\"Convert this dataframe to an interactive table.\"\n",
              "              style=\"display:none;\">\n",
              "        \n",
              "  <svg xmlns=\"http://www.w3.org/2000/svg\" height=\"24px\"viewBox=\"0 0 24 24\"\n",
              "       width=\"24px\">\n",
              "    <path d=\"M0 0h24v24H0V0z\" fill=\"none\"/>\n",
              "    <path d=\"M18.56 5.44l.94 2.06.94-2.06 2.06-.94-2.06-.94-.94-2.06-.94 2.06-2.06.94zm-11 1L8.5 8.5l.94-2.06 2.06-.94-2.06-.94L8.5 2.5l-.94 2.06-2.06.94zm10 10l.94 2.06.94-2.06 2.06-.94-2.06-.94-.94-2.06-.94 2.06-2.06.94z\"/><path d=\"M17.41 7.96l-1.37-1.37c-.4-.4-.92-.59-1.43-.59-.52 0-1.04.2-1.43.59L10.3 9.45l-7.72 7.72c-.78.78-.78 2.05 0 2.83L4 21.41c.39.39.9.59 1.41.59.51 0 1.02-.2 1.41-.59l7.78-7.78 2.81-2.81c.8-.78.8-2.07 0-2.86zM5.41 20L4 18.59l7.72-7.72 1.47 1.35L5.41 20z\"/>\n",
              "  </svg>\n",
              "      </button>\n",
              "      \n",
              "  <style>\n",
              "    .colab-df-container {\n",
              "      display:flex;\n",
              "      flex-wrap:wrap;\n",
              "      gap: 12px;\n",
              "    }\n",
              "\n",
              "    .colab-df-convert {\n",
              "      background-color: #E8F0FE;\n",
              "      border: none;\n",
              "      border-radius: 50%;\n",
              "      cursor: pointer;\n",
              "      display: none;\n",
              "      fill: #1967D2;\n",
              "      height: 32px;\n",
              "      padding: 0 0 0 0;\n",
              "      width: 32px;\n",
              "    }\n",
              "\n",
              "    .colab-df-convert:hover {\n",
              "      background-color: #E2EBFA;\n",
              "      box-shadow: 0px 1px 2px rgba(60, 64, 67, 0.3), 0px 1px 3px 1px rgba(60, 64, 67, 0.15);\n",
              "      fill: #174EA6;\n",
              "    }\n",
              "\n",
              "    [theme=dark] .colab-df-convert {\n",
              "      background-color: #3B4455;\n",
              "      fill: #D2E3FC;\n",
              "    }\n",
              "\n",
              "    [theme=dark] .colab-df-convert:hover {\n",
              "      background-color: #434B5C;\n",
              "      box-shadow: 0px 1px 3px 1px rgba(0, 0, 0, 0.15);\n",
              "      filter: drop-shadow(0px 1px 2px rgba(0, 0, 0, 0.3));\n",
              "      fill: #FFFFFF;\n",
              "    }\n",
              "  </style>\n",
              "\n",
              "      <script>\n",
              "        const buttonEl =\n",
              "          document.querySelector('#df-5503fba8-b6fd-4201-bb7b-be1f3132557e button.colab-df-convert');\n",
              "        buttonEl.style.display =\n",
              "          google.colab.kernel.accessAllowed ? 'block' : 'none';\n",
              "\n",
              "        async function convertToInteractive(key) {\n",
              "          const element = document.querySelector('#df-5503fba8-b6fd-4201-bb7b-be1f3132557e');\n",
              "          const dataTable =\n",
              "            await google.colab.kernel.invokeFunction('convertToInteractive',\n",
              "                                                     [key], {});\n",
              "          if (!dataTable) return;\n",
              "\n",
              "          const docLinkHtml = 'Like what you see? Visit the ' +\n",
              "            '<a target=\"_blank\" href=https://colab.research.google.com/notebooks/data_table.ipynb>data table notebook</a>'\n",
              "            + ' to learn more about interactive tables.';\n",
              "          element.innerHTML = '';\n",
              "          dataTable['output_type'] = 'display_data';\n",
              "          await google.colab.output.renderOutput(dataTable, element);\n",
              "          const docLink = document.createElement('div');\n",
              "          docLink.innerHTML = docLinkHtml;\n",
              "          element.appendChild(docLink);\n",
              "        }\n",
              "      </script>\n",
              "    </div>\n",
              "  </div>\n",
              "  "
            ]
          },
          "metadata": {},
          "execution_count": 31
        }
      ]
    }
  ]
}